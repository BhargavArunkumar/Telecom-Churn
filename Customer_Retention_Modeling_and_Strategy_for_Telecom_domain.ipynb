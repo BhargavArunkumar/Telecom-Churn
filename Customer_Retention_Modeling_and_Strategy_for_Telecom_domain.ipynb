{
  "nbformat": 4,
  "nbformat_minor": 2,
  "metadata": {
    "kernelspec": {
      "name": "python3",
      "display_name": "Python 3.8.5 64-bit ('base': conda)"
    },
    "language_info": {
      "codemirror_mode": {
        "name": "ipython",
        "version": 3
      },
      "file_extension": ".py",
      "mimetype": "text/x-python",
      "name": "python",
      "nbconvert_exporter": "python",
      "pygments_lexer": "ipython3",
      "version": "3.8.5"
    },
    "colab": {
      "name": "Customer Retention Modeling and Strategy for Telecom domain.ipynb",
      "provenance": [],
      "collapsed_sections": [
        "-PaXNVVaUYZd"
      ]
    },
    "interpreter": {
      "hash": "b3ba2566441a7c06988d0923437866b63cedc61552a5af99d1f4fb67d367b25f"
    }
  },
  "cells": [
    {
      "cell_type": "markdown",
      "source": [
        "# Importing Libraries"
      ],
      "metadata": {
        "id": "pK0qIqjqUYY4"
      }
    },
    {
      "cell_type": "code",
      "execution_count": 1,
      "source": [
        "import numpy as np\r\n",
        "import pandas as pd\r\n",
        "import matplotlib.pyplot as plt\r\n",
        "import seaborn as sns"
      ],
      "outputs": [],
      "metadata": {
        "id": "OO2w2bQ5UYY-"
      }
    },
    {
      "cell_type": "markdown",
      "source": [
        "# Importing the Data for ML Project"
      ],
      "metadata": {
        "id": "QH9U_AJ6UYZA"
      }
    },
    {
      "cell_type": "code",
      "execution_count": 2,
      "source": [
        "url = 'https://raw.githubusercontent.com/BhargavArunkumar/Telecom-Churn/main/Data/WA_Fn-UseC_-Telco-Customer-Churn.csv'"
      ],
      "outputs": [],
      "metadata": {
        "colab": {
          "base_uri": "https://localhost:8080/"
        },
        "id": "B2Ynx_3VUYZA",
        "outputId": "ee157578-2759-46da-e102-af86987da767"
      }
    },
    {
      "cell_type": "code",
      "execution_count": 3,
      "source": [
        "df = pd.read_csv(url)"
      ],
      "outputs": [],
      "metadata": {
        "id": "pntlkHHqUpDq"
      }
    },
    {
      "cell_type": "code",
      "execution_count": 4,
      "source": [
        "df.shape"
      ],
      "outputs": [
        {
          "output_type": "execute_result",
          "data": {
            "text/plain": [
              "(7043, 21)"
            ]
          },
          "metadata": {},
          "execution_count": 4
        }
      ],
      "metadata": {
        "colab": {
          "base_uri": "https://localhost:8080/"
        },
        "id": "orQjgZWZUYZB",
        "outputId": "0c160eb4-c95a-486c-d6ac-d604af519ca2"
      }
    },
    {
      "cell_type": "code",
      "execution_count": 5,
      "source": [
        "df.head()"
      ],
      "outputs": [
        {
          "output_type": "execute_result",
          "data": {
            "text/html": [
              "<div>\n",
              "<style scoped>\n",
              "    .dataframe tbody tr th:only-of-type {\n",
              "        vertical-align: middle;\n",
              "    }\n",
              "\n",
              "    .dataframe tbody tr th {\n",
              "        vertical-align: top;\n",
              "    }\n",
              "\n",
              "    .dataframe thead th {\n",
              "        text-align: right;\n",
              "    }\n",
              "</style>\n",
              "<table border=\"1\" class=\"dataframe\">\n",
              "  <thead>\n",
              "    <tr style=\"text-align: right;\">\n",
              "      <th></th>\n",
              "      <th>customerID</th>\n",
              "      <th>gender</th>\n",
              "      <th>SeniorCitizen</th>\n",
              "      <th>Partner</th>\n",
              "      <th>Dependents</th>\n",
              "      <th>tenure</th>\n",
              "      <th>PhoneService</th>\n",
              "      <th>MultipleLines</th>\n",
              "      <th>InternetService</th>\n",
              "      <th>OnlineSecurity</th>\n",
              "      <th>...</th>\n",
              "      <th>DeviceProtection</th>\n",
              "      <th>TechSupport</th>\n",
              "      <th>StreamingTV</th>\n",
              "      <th>StreamingMovies</th>\n",
              "      <th>Contract</th>\n",
              "      <th>PaperlessBilling</th>\n",
              "      <th>PaymentMethod</th>\n",
              "      <th>MonthlyCharges</th>\n",
              "      <th>TotalCharges</th>\n",
              "      <th>Churn</th>\n",
              "    </tr>\n",
              "  </thead>\n",
              "  <tbody>\n",
              "    <tr>\n",
              "      <th>0</th>\n",
              "      <td>7590-VHVEG</td>\n",
              "      <td>Female</td>\n",
              "      <td>0</td>\n",
              "      <td>Yes</td>\n",
              "      <td>No</td>\n",
              "      <td>1</td>\n",
              "      <td>No</td>\n",
              "      <td>No phone service</td>\n",
              "      <td>DSL</td>\n",
              "      <td>No</td>\n",
              "      <td>...</td>\n",
              "      <td>No</td>\n",
              "      <td>No</td>\n",
              "      <td>No</td>\n",
              "      <td>No</td>\n",
              "      <td>Month-to-month</td>\n",
              "      <td>Yes</td>\n",
              "      <td>Electronic check</td>\n",
              "      <td>29.85</td>\n",
              "      <td>29.85</td>\n",
              "      <td>No</td>\n",
              "    </tr>\n",
              "    <tr>\n",
              "      <th>1</th>\n",
              "      <td>5575-GNVDE</td>\n",
              "      <td>Male</td>\n",
              "      <td>0</td>\n",
              "      <td>No</td>\n",
              "      <td>No</td>\n",
              "      <td>34</td>\n",
              "      <td>Yes</td>\n",
              "      <td>No</td>\n",
              "      <td>DSL</td>\n",
              "      <td>Yes</td>\n",
              "      <td>...</td>\n",
              "      <td>Yes</td>\n",
              "      <td>No</td>\n",
              "      <td>No</td>\n",
              "      <td>No</td>\n",
              "      <td>One year</td>\n",
              "      <td>No</td>\n",
              "      <td>Mailed check</td>\n",
              "      <td>56.95</td>\n",
              "      <td>1889.50</td>\n",
              "      <td>No</td>\n",
              "    </tr>\n",
              "    <tr>\n",
              "      <th>2</th>\n",
              "      <td>3668-QPYBK</td>\n",
              "      <td>Male</td>\n",
              "      <td>0</td>\n",
              "      <td>No</td>\n",
              "      <td>No</td>\n",
              "      <td>2</td>\n",
              "      <td>Yes</td>\n",
              "      <td>No</td>\n",
              "      <td>DSL</td>\n",
              "      <td>Yes</td>\n",
              "      <td>...</td>\n",
              "      <td>No</td>\n",
              "      <td>No</td>\n",
              "      <td>No</td>\n",
              "      <td>No</td>\n",
              "      <td>Month-to-month</td>\n",
              "      <td>Yes</td>\n",
              "      <td>Mailed check</td>\n",
              "      <td>53.85</td>\n",
              "      <td>108.15</td>\n",
              "      <td>Yes</td>\n",
              "    </tr>\n",
              "    <tr>\n",
              "      <th>3</th>\n",
              "      <td>7795-CFOCW</td>\n",
              "      <td>Male</td>\n",
              "      <td>0</td>\n",
              "      <td>No</td>\n",
              "      <td>No</td>\n",
              "      <td>45</td>\n",
              "      <td>No</td>\n",
              "      <td>No phone service</td>\n",
              "      <td>DSL</td>\n",
              "      <td>Yes</td>\n",
              "      <td>...</td>\n",
              "      <td>Yes</td>\n",
              "      <td>Yes</td>\n",
              "      <td>No</td>\n",
              "      <td>No</td>\n",
              "      <td>One year</td>\n",
              "      <td>No</td>\n",
              "      <td>Bank transfer (automatic)</td>\n",
              "      <td>42.30</td>\n",
              "      <td>1840.75</td>\n",
              "      <td>No</td>\n",
              "    </tr>\n",
              "    <tr>\n",
              "      <th>4</th>\n",
              "      <td>9237-HQITU</td>\n",
              "      <td>Female</td>\n",
              "      <td>0</td>\n",
              "      <td>No</td>\n",
              "      <td>No</td>\n",
              "      <td>2</td>\n",
              "      <td>Yes</td>\n",
              "      <td>No</td>\n",
              "      <td>Fiber optic</td>\n",
              "      <td>No</td>\n",
              "      <td>...</td>\n",
              "      <td>No</td>\n",
              "      <td>No</td>\n",
              "      <td>No</td>\n",
              "      <td>No</td>\n",
              "      <td>Month-to-month</td>\n",
              "      <td>Yes</td>\n",
              "      <td>Electronic check</td>\n",
              "      <td>70.70</td>\n",
              "      <td>151.65</td>\n",
              "      <td>Yes</td>\n",
              "    </tr>\n",
              "  </tbody>\n",
              "</table>\n",
              "<p>5 rows × 21 columns</p>\n",
              "</div>"
            ],
            "text/plain": [
              "   customerID  gender  SeniorCitizen Partner Dependents  tenure PhoneService  \\\n",
              "0  7590-VHVEG  Female              0     Yes         No       1           No   \n",
              "1  5575-GNVDE    Male              0      No         No      34          Yes   \n",
              "2  3668-QPYBK    Male              0      No         No       2          Yes   \n",
              "3  7795-CFOCW    Male              0      No         No      45           No   \n",
              "4  9237-HQITU  Female              0      No         No       2          Yes   \n",
              "\n",
              "      MultipleLines InternetService OnlineSecurity  ... DeviceProtection  \\\n",
              "0  No phone service             DSL             No  ...               No   \n",
              "1                No             DSL            Yes  ...              Yes   \n",
              "2                No             DSL            Yes  ...               No   \n",
              "3  No phone service             DSL            Yes  ...              Yes   \n",
              "4                No     Fiber optic             No  ...               No   \n",
              "\n",
              "  TechSupport StreamingTV StreamingMovies        Contract PaperlessBilling  \\\n",
              "0          No          No              No  Month-to-month              Yes   \n",
              "1          No          No              No        One year               No   \n",
              "2          No          No              No  Month-to-month              Yes   \n",
              "3         Yes          No              No        One year               No   \n",
              "4          No          No              No  Month-to-month              Yes   \n",
              "\n",
              "               PaymentMethod MonthlyCharges  TotalCharges  Churn  \n",
              "0           Electronic check          29.85         29.85     No  \n",
              "1               Mailed check          56.95       1889.50     No  \n",
              "2               Mailed check          53.85        108.15    Yes  \n",
              "3  Bank transfer (automatic)          42.30       1840.75     No  \n",
              "4           Electronic check          70.70        151.65    Yes  \n",
              "\n",
              "[5 rows x 21 columns]"
            ]
          },
          "metadata": {},
          "execution_count": 5
        }
      ],
      "metadata": {
        "colab": {
          "base_uri": "https://localhost:8080/",
          "height": 292
        },
        "id": "oMeblxjoXGhK",
        "outputId": "2915c49a-0ad0-4abd-b199-65f7e19e7575"
      }
    },
    {
      "cell_type": "code",
      "execution_count": 6,
      "source": [
        "df.dtypes"
      ],
      "outputs": [
        {
          "output_type": "execute_result",
          "data": {
            "text/plain": [
              "customerID           object\n",
              "gender               object\n",
              "SeniorCitizen         int64\n",
              "Partner              object\n",
              "Dependents           object\n",
              "tenure                int64\n",
              "PhoneService         object\n",
              "MultipleLines        object\n",
              "InternetService      object\n",
              "OnlineSecurity       object\n",
              "OnlineBackup         object\n",
              "DeviceProtection     object\n",
              "TechSupport          object\n",
              "StreamingTV          object\n",
              "StreamingMovies      object\n",
              "Contract             object\n",
              "PaperlessBilling     object\n",
              "PaymentMethod        object\n",
              "MonthlyCharges      float64\n",
              "TotalCharges        float64\n",
              "Churn                object\n",
              "dtype: object"
            ]
          },
          "metadata": {},
          "execution_count": 6
        }
      ],
      "metadata": {
        "scrolled": true,
        "colab": {
          "base_uri": "https://localhost:8080/"
        },
        "id": "hFIf4veOUYZF",
        "outputId": "6487ea3d-c0a6-4d6f-9340-feb7358775fc"
      }
    },
    {
      "cell_type": "markdown",
      "source": [
        "# Setting Display options to ensure feature name visibility"
      ],
      "metadata": {
        "id": "MM7whEh4UYZG"
      }
    },
    {
      "cell_type": "code",
      "execution_count": 7,
      "source": [
        "pd.set_option('display.max_columns',None)"
      ],
      "outputs": [],
      "metadata": {
        "id": "5U3KyPv5UYZH"
      }
    },
    {
      "cell_type": "markdown",
      "source": [
        "# Warning Suppression "
      ],
      "metadata": {
        "id": "lu-245JvUYZI"
      }
    },
    {
      "cell_type": "code",
      "execution_count": 8,
      "source": [
        "import warnings\r\n",
        "warnings.filterwarnings('ignore')"
      ],
      "outputs": [],
      "metadata": {
        "id": "LP4yGrOVUYZJ"
      }
    },
    {
      "cell_type": "markdown",
      "source": [
        "# How many rows have missing ID ?"
      ],
      "metadata": {
        "id": "X6Gdt9kXUYZK"
      }
    },
    {
      "cell_type": "code",
      "execution_count": 9,
      "source": [
        "df['customerID'].isnull().sum()"
      ],
      "outputs": [
        {
          "output_type": "execute_result",
          "data": {
            "text/plain": [
              "0"
            ]
          },
          "metadata": {},
          "execution_count": 9
        }
      ],
      "metadata": {
        "scrolled": true,
        "colab": {
          "base_uri": "https://localhost:8080/"
        },
        "id": "uES55UbtUYZK",
        "outputId": "b1abf7e2-ab44-4422-ea4a-bee8b31ce5d0"
      }
    },
    {
      "cell_type": "markdown",
      "source": [
        "# Drop ID Feature from the dataset"
      ],
      "metadata": {
        "id": "RlK0eMAmUYZL"
      }
    },
    {
      "cell_type": "code",
      "execution_count": 10,
      "source": [
        "df=df.drop(['customerID'],axis=1)"
      ],
      "outputs": [],
      "metadata": {
        "id": "CLia1ZuyUYZM"
      }
    },
    {
      "cell_type": "markdown",
      "source": [
        "# Label the Churn feature to 1/0"
      ],
      "metadata": {
        "id": "FU4lwV7LUYZM"
      }
    },
    {
      "cell_type": "code",
      "execution_count": 11,
      "source": [
        "df['Churn'].value_counts()"
      ],
      "outputs": [
        {
          "output_type": "execute_result",
          "data": {
            "text/plain": [
              "No     5174\n",
              "Yes    1869\n",
              "Name: Churn, dtype: int64"
            ]
          },
          "metadata": {},
          "execution_count": 11
        }
      ],
      "metadata": {
        "scrolled": false,
        "colab": {
          "base_uri": "https://localhost:8080/"
        },
        "id": "KLtAUV8wUYZN",
        "outputId": "59d65554-79de-4fd8-8caa-48ad16c1f0ff"
      }
    },
    {
      "cell_type": "code",
      "execution_count": 12,
      "source": [
        "df['target']=np.where(df['Churn']==\"Yes\",1,0)"
      ],
      "outputs": [],
      "metadata": {
        "id": "6886UPqEUYZO"
      }
    },
    {
      "cell_type": "code",
      "execution_count": 13,
      "source": [
        "df.head()"
      ],
      "outputs": [
        {
          "output_type": "execute_result",
          "data": {
            "text/html": [
              "<div>\n",
              "<style scoped>\n",
              "    .dataframe tbody tr th:only-of-type {\n",
              "        vertical-align: middle;\n",
              "    }\n",
              "\n",
              "    .dataframe tbody tr th {\n",
              "        vertical-align: top;\n",
              "    }\n",
              "\n",
              "    .dataframe thead th {\n",
              "        text-align: right;\n",
              "    }\n",
              "</style>\n",
              "<table border=\"1\" class=\"dataframe\">\n",
              "  <thead>\n",
              "    <tr style=\"text-align: right;\">\n",
              "      <th></th>\n",
              "      <th>gender</th>\n",
              "      <th>SeniorCitizen</th>\n",
              "      <th>Partner</th>\n",
              "      <th>Dependents</th>\n",
              "      <th>tenure</th>\n",
              "      <th>PhoneService</th>\n",
              "      <th>MultipleLines</th>\n",
              "      <th>InternetService</th>\n",
              "      <th>OnlineSecurity</th>\n",
              "      <th>OnlineBackup</th>\n",
              "      <th>DeviceProtection</th>\n",
              "      <th>TechSupport</th>\n",
              "      <th>StreamingTV</th>\n",
              "      <th>StreamingMovies</th>\n",
              "      <th>Contract</th>\n",
              "      <th>PaperlessBilling</th>\n",
              "      <th>PaymentMethod</th>\n",
              "      <th>MonthlyCharges</th>\n",
              "      <th>TotalCharges</th>\n",
              "      <th>Churn</th>\n",
              "      <th>target</th>\n",
              "    </tr>\n",
              "  </thead>\n",
              "  <tbody>\n",
              "    <tr>\n",
              "      <th>0</th>\n",
              "      <td>Female</td>\n",
              "      <td>0</td>\n",
              "      <td>Yes</td>\n",
              "      <td>No</td>\n",
              "      <td>1</td>\n",
              "      <td>No</td>\n",
              "      <td>No phone service</td>\n",
              "      <td>DSL</td>\n",
              "      <td>No</td>\n",
              "      <td>Yes</td>\n",
              "      <td>No</td>\n",
              "      <td>No</td>\n",
              "      <td>No</td>\n",
              "      <td>No</td>\n",
              "      <td>Month-to-month</td>\n",
              "      <td>Yes</td>\n",
              "      <td>Electronic check</td>\n",
              "      <td>29.85</td>\n",
              "      <td>29.85</td>\n",
              "      <td>No</td>\n",
              "      <td>0</td>\n",
              "    </tr>\n",
              "    <tr>\n",
              "      <th>1</th>\n",
              "      <td>Male</td>\n",
              "      <td>0</td>\n",
              "      <td>No</td>\n",
              "      <td>No</td>\n",
              "      <td>34</td>\n",
              "      <td>Yes</td>\n",
              "      <td>No</td>\n",
              "      <td>DSL</td>\n",
              "      <td>Yes</td>\n",
              "      <td>No</td>\n",
              "      <td>Yes</td>\n",
              "      <td>No</td>\n",
              "      <td>No</td>\n",
              "      <td>No</td>\n",
              "      <td>One year</td>\n",
              "      <td>No</td>\n",
              "      <td>Mailed check</td>\n",
              "      <td>56.95</td>\n",
              "      <td>1889.50</td>\n",
              "      <td>No</td>\n",
              "      <td>0</td>\n",
              "    </tr>\n",
              "    <tr>\n",
              "      <th>2</th>\n",
              "      <td>Male</td>\n",
              "      <td>0</td>\n",
              "      <td>No</td>\n",
              "      <td>No</td>\n",
              "      <td>2</td>\n",
              "      <td>Yes</td>\n",
              "      <td>No</td>\n",
              "      <td>DSL</td>\n",
              "      <td>Yes</td>\n",
              "      <td>Yes</td>\n",
              "      <td>No</td>\n",
              "      <td>No</td>\n",
              "      <td>No</td>\n",
              "      <td>No</td>\n",
              "      <td>Month-to-month</td>\n",
              "      <td>Yes</td>\n",
              "      <td>Mailed check</td>\n",
              "      <td>53.85</td>\n",
              "      <td>108.15</td>\n",
              "      <td>Yes</td>\n",
              "      <td>1</td>\n",
              "    </tr>\n",
              "    <tr>\n",
              "      <th>3</th>\n",
              "      <td>Male</td>\n",
              "      <td>0</td>\n",
              "      <td>No</td>\n",
              "      <td>No</td>\n",
              "      <td>45</td>\n",
              "      <td>No</td>\n",
              "      <td>No phone service</td>\n",
              "      <td>DSL</td>\n",
              "      <td>Yes</td>\n",
              "      <td>No</td>\n",
              "      <td>Yes</td>\n",
              "      <td>Yes</td>\n",
              "      <td>No</td>\n",
              "      <td>No</td>\n",
              "      <td>One year</td>\n",
              "      <td>No</td>\n",
              "      <td>Bank transfer (automatic)</td>\n",
              "      <td>42.30</td>\n",
              "      <td>1840.75</td>\n",
              "      <td>No</td>\n",
              "      <td>0</td>\n",
              "    </tr>\n",
              "    <tr>\n",
              "      <th>4</th>\n",
              "      <td>Female</td>\n",
              "      <td>0</td>\n",
              "      <td>No</td>\n",
              "      <td>No</td>\n",
              "      <td>2</td>\n",
              "      <td>Yes</td>\n",
              "      <td>No</td>\n",
              "      <td>Fiber optic</td>\n",
              "      <td>No</td>\n",
              "      <td>No</td>\n",
              "      <td>No</td>\n",
              "      <td>No</td>\n",
              "      <td>No</td>\n",
              "      <td>No</td>\n",
              "      <td>Month-to-month</td>\n",
              "      <td>Yes</td>\n",
              "      <td>Electronic check</td>\n",
              "      <td>70.70</td>\n",
              "      <td>151.65</td>\n",
              "      <td>Yes</td>\n",
              "      <td>1</td>\n",
              "    </tr>\n",
              "  </tbody>\n",
              "</table>\n",
              "</div>"
            ],
            "text/plain": [
              "   gender  SeniorCitizen Partner Dependents  tenure PhoneService  \\\n",
              "0  Female              0     Yes         No       1           No   \n",
              "1    Male              0      No         No      34          Yes   \n",
              "2    Male              0      No         No       2          Yes   \n",
              "3    Male              0      No         No      45           No   \n",
              "4  Female              0      No         No       2          Yes   \n",
              "\n",
              "      MultipleLines InternetService OnlineSecurity OnlineBackup  \\\n",
              "0  No phone service             DSL             No          Yes   \n",
              "1                No             DSL            Yes           No   \n",
              "2                No             DSL            Yes          Yes   \n",
              "3  No phone service             DSL            Yes           No   \n",
              "4                No     Fiber optic             No           No   \n",
              "\n",
              "  DeviceProtection TechSupport StreamingTV StreamingMovies        Contract  \\\n",
              "0               No          No          No              No  Month-to-month   \n",
              "1              Yes          No          No              No        One year   \n",
              "2               No          No          No              No  Month-to-month   \n",
              "3              Yes         Yes          No              No        One year   \n",
              "4               No          No          No              No  Month-to-month   \n",
              "\n",
              "  PaperlessBilling              PaymentMethod  MonthlyCharges  TotalCharges  \\\n",
              "0              Yes           Electronic check           29.85         29.85   \n",
              "1               No               Mailed check           56.95       1889.50   \n",
              "2              Yes               Mailed check           53.85        108.15   \n",
              "3               No  Bank transfer (automatic)           42.30       1840.75   \n",
              "4              Yes           Electronic check           70.70        151.65   \n",
              "\n",
              "  Churn  target  \n",
              "0    No       0  \n",
              "1    No       0  \n",
              "2   Yes       1  \n",
              "3    No       0  \n",
              "4   Yes       1  "
            ]
          },
          "metadata": {},
          "execution_count": 13
        }
      ],
      "metadata": {
        "colab": {
          "base_uri": "https://localhost:8080/",
          "height": 292
        },
        "id": "njZy_26GYqkh",
        "outputId": "7f233e2c-29cb-4792-8041-fc90bcd7e582"
      }
    },
    {
      "cell_type": "markdown",
      "source": [
        "# Drop the Churn feature to retain only Target "
      ],
      "metadata": {
        "id": "ofBbJtNAUYZP"
      }
    },
    {
      "cell_type": "code",
      "execution_count": 14,
      "source": [
        "df=df.drop(['Churn'],axis=1)"
      ],
      "outputs": [],
      "metadata": {
        "id": "bRf7HJw3UYZQ"
      }
    },
    {
      "cell_type": "markdown",
      "source": [
        "# Defining Target and Independent Features"
      ],
      "metadata": {
        "id": "oJudEbVBUYZQ"
      }
    },
    {
      "cell_type": "code",
      "execution_count": 15,
      "source": [
        "Y=df[['target']]\r\n",
        "X=df.drop(['target'],axis=1)"
      ],
      "outputs": [],
      "metadata": {
        "id": "NjXPrs2zUYZQ"
      }
    },
    {
      "cell_type": "markdown",
      "source": [
        "# Get the Churn Rate"
      ],
      "metadata": {
        "id": "-uilTUkQUYZR"
      }
    },
    {
      "cell_type": "code",
      "execution_count": 16,
      "source": [
        "Y.mean()"
      ],
      "outputs": [
        {
          "output_type": "execute_result",
          "data": {
            "text/plain": [
              "target    0.26537\n",
              "dtype: float64"
            ]
          },
          "metadata": {},
          "execution_count": 16
        }
      ],
      "metadata": {
        "colab": {
          "base_uri": "https://localhost:8080/"
        },
        "id": "Flzsaf4JUYZS",
        "outputId": "c82a1d94-223d-4d4e-d9c3-ecdd9dee9c4f"
      }
    },
    {
      "cell_type": "markdown",
      "source": [
        "# Split features into Numerical and Categorical"
      ],
      "metadata": {
        "id": "zl2BYGtcUYZT"
      }
    },
    {
      "cell_type": "code",
      "execution_count": 17,
      "source": [
        "num=X.select_dtypes(include=\"number\")\r\n",
        "char=X.select_dtypes(include=\"object\")"
      ],
      "outputs": [],
      "metadata": {
        "id": "KzJgBJ47UYZT"
      }
    },
    {
      "cell_type": "code",
      "execution_count": 18,
      "source": [
        "num.tail()"
      ],
      "outputs": [
        {
          "output_type": "execute_result",
          "data": {
            "text/html": [
              "<div>\n",
              "<style scoped>\n",
              "    .dataframe tbody tr th:only-of-type {\n",
              "        vertical-align: middle;\n",
              "    }\n",
              "\n",
              "    .dataframe tbody tr th {\n",
              "        vertical-align: top;\n",
              "    }\n",
              "\n",
              "    .dataframe thead th {\n",
              "        text-align: right;\n",
              "    }\n",
              "</style>\n",
              "<table border=\"1\" class=\"dataframe\">\n",
              "  <thead>\n",
              "    <tr style=\"text-align: right;\">\n",
              "      <th></th>\n",
              "      <th>SeniorCitizen</th>\n",
              "      <th>tenure</th>\n",
              "      <th>MonthlyCharges</th>\n",
              "      <th>TotalCharges</th>\n",
              "    </tr>\n",
              "  </thead>\n",
              "  <tbody>\n",
              "    <tr>\n",
              "      <th>7038</th>\n",
              "      <td>0</td>\n",
              "      <td>24</td>\n",
              "      <td>84.80</td>\n",
              "      <td>1990.50</td>\n",
              "    </tr>\n",
              "    <tr>\n",
              "      <th>7039</th>\n",
              "      <td>0</td>\n",
              "      <td>72</td>\n",
              "      <td>103.20</td>\n",
              "      <td>7362.90</td>\n",
              "    </tr>\n",
              "    <tr>\n",
              "      <th>7040</th>\n",
              "      <td>0</td>\n",
              "      <td>11</td>\n",
              "      <td>29.60</td>\n",
              "      <td>346.45</td>\n",
              "    </tr>\n",
              "    <tr>\n",
              "      <th>7041</th>\n",
              "      <td>1</td>\n",
              "      <td>4</td>\n",
              "      <td>74.40</td>\n",
              "      <td>306.60</td>\n",
              "    </tr>\n",
              "    <tr>\n",
              "      <th>7042</th>\n",
              "      <td>0</td>\n",
              "      <td>66</td>\n",
              "      <td>105.65</td>\n",
              "      <td>6844.50</td>\n",
              "    </tr>\n",
              "  </tbody>\n",
              "</table>\n",
              "</div>"
            ],
            "text/plain": [
              "      SeniorCitizen  tenure  MonthlyCharges  TotalCharges\n",
              "7038              0      24           84.80       1990.50\n",
              "7039              0      72          103.20       7362.90\n",
              "7040              0      11           29.60        346.45\n",
              "7041              1       4           74.40        306.60\n",
              "7042              0      66          105.65       6844.50"
            ]
          },
          "metadata": {},
          "execution_count": 18
        }
      ],
      "metadata": {
        "scrolled": true,
        "colab": {
          "base_uri": "https://localhost:8080/",
          "height": 204
        },
        "id": "RFEVuG9hUYZT",
        "outputId": "7e3bfe6a-7001-4948-e6d3-579874b7827d"
      }
    },
    {
      "cell_type": "code",
      "execution_count": 19,
      "source": [
        "#Check whether SeniorCitizon feaure is an indicator\r\n",
        "num.SeniorCitizen.value_counts()"
      ],
      "outputs": [
        {
          "output_type": "execute_result",
          "data": {
            "text/plain": [
              "0    5901\n",
              "1    1142\n",
              "Name: SeniorCitizen, dtype: int64"
            ]
          },
          "metadata": {},
          "execution_count": 19
        }
      ],
      "metadata": {
        "colab": {
          "base_uri": "https://localhost:8080/"
        },
        "id": "S4ZIQPfiUYZU",
        "outputId": "457384ff-788b-4b5d-e2cc-19e8f0959f8d"
      }
    },
    {
      "cell_type": "code",
      "execution_count": 20,
      "source": [
        "char.head()"
      ],
      "outputs": [
        {
          "output_type": "execute_result",
          "data": {
            "text/html": [
              "<div>\n",
              "<style scoped>\n",
              "    .dataframe tbody tr th:only-of-type {\n",
              "        vertical-align: middle;\n",
              "    }\n",
              "\n",
              "    .dataframe tbody tr th {\n",
              "        vertical-align: top;\n",
              "    }\n",
              "\n",
              "    .dataframe thead th {\n",
              "        text-align: right;\n",
              "    }\n",
              "</style>\n",
              "<table border=\"1\" class=\"dataframe\">\n",
              "  <thead>\n",
              "    <tr style=\"text-align: right;\">\n",
              "      <th></th>\n",
              "      <th>gender</th>\n",
              "      <th>Partner</th>\n",
              "      <th>Dependents</th>\n",
              "      <th>PhoneService</th>\n",
              "      <th>MultipleLines</th>\n",
              "      <th>InternetService</th>\n",
              "      <th>OnlineSecurity</th>\n",
              "      <th>OnlineBackup</th>\n",
              "      <th>DeviceProtection</th>\n",
              "      <th>TechSupport</th>\n",
              "      <th>StreamingTV</th>\n",
              "      <th>StreamingMovies</th>\n",
              "      <th>Contract</th>\n",
              "      <th>PaperlessBilling</th>\n",
              "      <th>PaymentMethod</th>\n",
              "    </tr>\n",
              "  </thead>\n",
              "  <tbody>\n",
              "    <tr>\n",
              "      <th>0</th>\n",
              "      <td>Female</td>\n",
              "      <td>Yes</td>\n",
              "      <td>No</td>\n",
              "      <td>No</td>\n",
              "      <td>No phone service</td>\n",
              "      <td>DSL</td>\n",
              "      <td>No</td>\n",
              "      <td>Yes</td>\n",
              "      <td>No</td>\n",
              "      <td>No</td>\n",
              "      <td>No</td>\n",
              "      <td>No</td>\n",
              "      <td>Month-to-month</td>\n",
              "      <td>Yes</td>\n",
              "      <td>Electronic check</td>\n",
              "    </tr>\n",
              "    <tr>\n",
              "      <th>1</th>\n",
              "      <td>Male</td>\n",
              "      <td>No</td>\n",
              "      <td>No</td>\n",
              "      <td>Yes</td>\n",
              "      <td>No</td>\n",
              "      <td>DSL</td>\n",
              "      <td>Yes</td>\n",
              "      <td>No</td>\n",
              "      <td>Yes</td>\n",
              "      <td>No</td>\n",
              "      <td>No</td>\n",
              "      <td>No</td>\n",
              "      <td>One year</td>\n",
              "      <td>No</td>\n",
              "      <td>Mailed check</td>\n",
              "    </tr>\n",
              "    <tr>\n",
              "      <th>2</th>\n",
              "      <td>Male</td>\n",
              "      <td>No</td>\n",
              "      <td>No</td>\n",
              "      <td>Yes</td>\n",
              "      <td>No</td>\n",
              "      <td>DSL</td>\n",
              "      <td>Yes</td>\n",
              "      <td>Yes</td>\n",
              "      <td>No</td>\n",
              "      <td>No</td>\n",
              "      <td>No</td>\n",
              "      <td>No</td>\n",
              "      <td>Month-to-month</td>\n",
              "      <td>Yes</td>\n",
              "      <td>Mailed check</td>\n",
              "    </tr>\n",
              "    <tr>\n",
              "      <th>3</th>\n",
              "      <td>Male</td>\n",
              "      <td>No</td>\n",
              "      <td>No</td>\n",
              "      <td>No</td>\n",
              "      <td>No phone service</td>\n",
              "      <td>DSL</td>\n",
              "      <td>Yes</td>\n",
              "      <td>No</td>\n",
              "      <td>Yes</td>\n",
              "      <td>Yes</td>\n",
              "      <td>No</td>\n",
              "      <td>No</td>\n",
              "      <td>One year</td>\n",
              "      <td>No</td>\n",
              "      <td>Bank transfer (automatic)</td>\n",
              "    </tr>\n",
              "    <tr>\n",
              "      <th>4</th>\n",
              "      <td>Female</td>\n",
              "      <td>No</td>\n",
              "      <td>No</td>\n",
              "      <td>Yes</td>\n",
              "      <td>No</td>\n",
              "      <td>Fiber optic</td>\n",
              "      <td>No</td>\n",
              "      <td>No</td>\n",
              "      <td>No</td>\n",
              "      <td>No</td>\n",
              "      <td>No</td>\n",
              "      <td>No</td>\n",
              "      <td>Month-to-month</td>\n",
              "      <td>Yes</td>\n",
              "      <td>Electronic check</td>\n",
              "    </tr>\n",
              "  </tbody>\n",
              "</table>\n",
              "</div>"
            ],
            "text/plain": [
              "   gender Partner Dependents PhoneService     MultipleLines InternetService  \\\n",
              "0  Female     Yes         No           No  No phone service             DSL   \n",
              "1    Male      No         No          Yes                No             DSL   \n",
              "2    Male      No         No          Yes                No             DSL   \n",
              "3    Male      No         No           No  No phone service             DSL   \n",
              "4  Female      No         No          Yes                No     Fiber optic   \n",
              "\n",
              "  OnlineSecurity OnlineBackup DeviceProtection TechSupport StreamingTV  \\\n",
              "0             No          Yes               No          No          No   \n",
              "1            Yes           No              Yes          No          No   \n",
              "2            Yes          Yes               No          No          No   \n",
              "3            Yes           No              Yes         Yes          No   \n",
              "4             No           No               No          No          No   \n",
              "\n",
              "  StreamingMovies        Contract PaperlessBilling              PaymentMethod  \n",
              "0              No  Month-to-month              Yes           Electronic check  \n",
              "1              No        One year               No               Mailed check  \n",
              "2              No  Month-to-month              Yes               Mailed check  \n",
              "3              No        One year               No  Bank transfer (automatic)  \n",
              "4              No  Month-to-month              Yes           Electronic check  "
            ]
          },
          "metadata": {},
          "execution_count": 20
        }
      ],
      "metadata": {
        "colab": {
          "base_uri": "https://localhost:8080/",
          "height": 272
        },
        "id": "6y543h3bUYZU",
        "outputId": "841f12f2-7491-41ae-912a-0fe7397aa738"
      }
    },
    {
      "cell_type": "markdown",
      "source": [
        "# Dropping the indicator features from num to build a separate DF"
      ],
      "metadata": {
        "id": "QF2-SCldUYZV"
      }
    },
    {
      "cell_type": "code",
      "execution_count": 21,
      "source": [
        "ind=num[['SeniorCitizen']]\r\n",
        "num=num.drop(['SeniorCitizen'],axis=1)"
      ],
      "outputs": [],
      "metadata": {
        "id": "6yjs2mLxUYZW"
      }
    },
    {
      "cell_type": "code",
      "execution_count": 22,
      "source": [
        "num.dtypes"
      ],
      "outputs": [
        {
          "output_type": "execute_result",
          "data": {
            "text/plain": [
              "tenure              int64\n",
              "MonthlyCharges    float64\n",
              "TotalCharges      float64\n",
              "dtype: object"
            ]
          },
          "metadata": {},
          "execution_count": 22
        }
      ],
      "metadata": {
        "colab": {
          "base_uri": "https://localhost:8080/"
        },
        "id": "gJzfH4jAZ94c",
        "outputId": "e65a3ab1-c743-469b-b83e-de7adb3a74e9"
      }
    },
    {
      "cell_type": "code",
      "execution_count": 23,
      "source": [
        "ind.dtypes"
      ],
      "outputs": [
        {
          "output_type": "execute_result",
          "data": {
            "text/plain": [
              "SeniorCitizen    int64\n",
              "dtype: object"
            ]
          },
          "metadata": {},
          "execution_count": 23
        }
      ],
      "metadata": {
        "colab": {
          "base_uri": "https://localhost:8080/"
        },
        "id": "wg5bbkQ_Z-h-",
        "outputId": "fcf4e561-63b4-4861-ad20-039bcb9cb2a3"
      }
    },
    {
      "cell_type": "code",
      "execution_count": 24,
      "source": [
        "char.dtypes"
      ],
      "outputs": [
        {
          "output_type": "execute_result",
          "data": {
            "text/plain": [
              "gender              object\n",
              "Partner             object\n",
              "Dependents          object\n",
              "PhoneService        object\n",
              "MultipleLines       object\n",
              "InternetService     object\n",
              "OnlineSecurity      object\n",
              "OnlineBackup        object\n",
              "DeviceProtection    object\n",
              "TechSupport         object\n",
              "StreamingTV         object\n",
              "StreamingMovies     object\n",
              "Contract            object\n",
              "PaperlessBilling    object\n",
              "PaymentMethod       object\n",
              "dtype: object"
            ]
          },
          "metadata": {},
          "execution_count": 24
        }
      ],
      "metadata": {
        "colab": {
          "base_uri": "https://localhost:8080/"
        },
        "id": "WROygEEWZ-7A",
        "outputId": "d09f1311-2a90-4833-8f57-9e8cb08a77fc"
      }
    },
    {
      "cell_type": "markdown",
      "source": [
        "# Outlier Analysis of Numerical Features"
      ],
      "metadata": {
        "id": "y4VMrdwsUYZX"
      }
    },
    {
      "cell_type": "code",
      "execution_count": 25,
      "source": [
        "num.describe(percentiles=[0.01,0.05,0.10,0.25,0.50,0.75,0.85,0.9,0.99])"
      ],
      "outputs": [
        {
          "output_type": "execute_result",
          "data": {
            "text/html": [
              "<div>\n",
              "<style scoped>\n",
              "    .dataframe tbody tr th:only-of-type {\n",
              "        vertical-align: middle;\n",
              "    }\n",
              "\n",
              "    .dataframe tbody tr th {\n",
              "        vertical-align: top;\n",
              "    }\n",
              "\n",
              "    .dataframe thead th {\n",
              "        text-align: right;\n",
              "    }\n",
              "</style>\n",
              "<table border=\"1\" class=\"dataframe\">\n",
              "  <thead>\n",
              "    <tr style=\"text-align: right;\">\n",
              "      <th></th>\n",
              "      <th>tenure</th>\n",
              "      <th>MonthlyCharges</th>\n",
              "      <th>TotalCharges</th>\n",
              "    </tr>\n",
              "  </thead>\n",
              "  <tbody>\n",
              "    <tr>\n",
              "      <th>count</th>\n",
              "      <td>7043.000000</td>\n",
              "      <td>7043.000000</td>\n",
              "      <td>7043.000000</td>\n",
              "    </tr>\n",
              "    <tr>\n",
              "      <th>mean</th>\n",
              "      <td>32.371149</td>\n",
              "      <td>64.761692</td>\n",
              "      <td>2279.798992</td>\n",
              "    </tr>\n",
              "    <tr>\n",
              "      <th>std</th>\n",
              "      <td>24.559481</td>\n",
              "      <td>30.090047</td>\n",
              "      <td>2266.730170</td>\n",
              "    </tr>\n",
              "    <tr>\n",
              "      <th>min</th>\n",
              "      <td>0.000000</td>\n",
              "      <td>18.250000</td>\n",
              "      <td>18.800000</td>\n",
              "    </tr>\n",
              "    <tr>\n",
              "      <th>1%</th>\n",
              "      <td>1.000000</td>\n",
              "      <td>19.200000</td>\n",
              "      <td>19.871000</td>\n",
              "    </tr>\n",
              "    <tr>\n",
              "      <th>5%</th>\n",
              "      <td>1.000000</td>\n",
              "      <td>19.650000</td>\n",
              "      <td>49.070000</td>\n",
              "    </tr>\n",
              "    <tr>\n",
              "      <th>10%</th>\n",
              "      <td>2.000000</td>\n",
              "      <td>20.050000</td>\n",
              "      <td>83.470000</td>\n",
              "    </tr>\n",
              "    <tr>\n",
              "      <th>25%</th>\n",
              "      <td>9.000000</td>\n",
              "      <td>35.500000</td>\n",
              "      <td>398.550000</td>\n",
              "    </tr>\n",
              "    <tr>\n",
              "      <th>50%</th>\n",
              "      <td>29.000000</td>\n",
              "      <td>70.350000</td>\n",
              "      <td>1394.550000</td>\n",
              "    </tr>\n",
              "    <tr>\n",
              "      <th>75%</th>\n",
              "      <td>55.000000</td>\n",
              "      <td>89.850000</td>\n",
              "      <td>3786.600000</td>\n",
              "    </tr>\n",
              "    <tr>\n",
              "      <th>85%</th>\n",
              "      <td>65.000000</td>\n",
              "      <td>98.550000</td>\n",
              "      <td>5195.485000</td>\n",
              "    </tr>\n",
              "    <tr>\n",
              "      <th>90%</th>\n",
              "      <td>69.000000</td>\n",
              "      <td>102.600000</td>\n",
              "      <td>5973.690000</td>\n",
              "    </tr>\n",
              "    <tr>\n",
              "      <th>99%</th>\n",
              "      <td>72.000000</td>\n",
              "      <td>114.729000</td>\n",
              "      <td>8039.256000</td>\n",
              "    </tr>\n",
              "    <tr>\n",
              "      <th>max</th>\n",
              "      <td>72.000000</td>\n",
              "      <td>118.750000</td>\n",
              "      <td>8684.800000</td>\n",
              "    </tr>\n",
              "  </tbody>\n",
              "</table>\n",
              "</div>"
            ],
            "text/plain": [
              "            tenure  MonthlyCharges  TotalCharges\n",
              "count  7043.000000     7043.000000   7043.000000\n",
              "mean     32.371149       64.761692   2279.798992\n",
              "std      24.559481       30.090047   2266.730170\n",
              "min       0.000000       18.250000     18.800000\n",
              "1%        1.000000       19.200000     19.871000\n",
              "5%        1.000000       19.650000     49.070000\n",
              "10%       2.000000       20.050000     83.470000\n",
              "25%       9.000000       35.500000    398.550000\n",
              "50%      29.000000       70.350000   1394.550000\n",
              "75%      55.000000       89.850000   3786.600000\n",
              "85%      65.000000       98.550000   5195.485000\n",
              "90%      69.000000      102.600000   5973.690000\n",
              "99%      72.000000      114.729000   8039.256000\n",
              "max      72.000000      118.750000   8684.800000"
            ]
          },
          "metadata": {},
          "execution_count": 25
        }
      ],
      "metadata": {
        "scrolled": true,
        "colab": {
          "base_uri": "https://localhost:8080/",
          "height": 483
        },
        "id": "Qj3vgyPsUYZY",
        "outputId": "1624ebd1-f078-4bfc-a427-58e7ee1edf0a"
      }
    },
    {
      "cell_type": "markdown",
      "source": [
        "# Capping and Flooring of outliers"
      ],
      "metadata": {
        "id": "xvN8unA6UYZZ"
      }
    },
    {
      "cell_type": "code",
      "execution_count": 26,
      "source": [
        "def outlier_cap(x):\r\n",
        "    x=x.clip(lower=x.quantile(0.01))\r\n",
        "    x=x.clip(upper=x.quantile(0.99))\r\n",
        "    return(x)"
      ],
      "outputs": [],
      "metadata": {
        "id": "OOqLKX49UYZZ"
      }
    },
    {
      "cell_type": "code",
      "execution_count": 27,
      "source": [
        "num=num.apply(lambda x : outlier_cap(x))"
      ],
      "outputs": [],
      "metadata": {
        "id": "74v6rRdIUYZa"
      }
    },
    {
      "cell_type": "code",
      "execution_count": 28,
      "source": [
        "num.describe(percentiles=[0.01,0.05,0.10,0.25,0.50,0.75,0.85,0.9,0.99])"
      ],
      "outputs": [
        {
          "output_type": "execute_result",
          "data": {
            "text/html": [
              "<div>\n",
              "<style scoped>\n",
              "    .dataframe tbody tr th:only-of-type {\n",
              "        vertical-align: middle;\n",
              "    }\n",
              "\n",
              "    .dataframe tbody tr th {\n",
              "        vertical-align: top;\n",
              "    }\n",
              "\n",
              "    .dataframe thead th {\n",
              "        text-align: right;\n",
              "    }\n",
              "</style>\n",
              "<table border=\"1\" class=\"dataframe\">\n",
              "  <thead>\n",
              "    <tr style=\"text-align: right;\">\n",
              "      <th></th>\n",
              "      <th>tenure</th>\n",
              "      <th>MonthlyCharges</th>\n",
              "      <th>TotalCharges</th>\n",
              "    </tr>\n",
              "  </thead>\n",
              "  <tbody>\n",
              "    <tr>\n",
              "      <th>count</th>\n",
              "      <td>7043.000000</td>\n",
              "      <td>7043.000000</td>\n",
              "      <td>7043.000000</td>\n",
              "    </tr>\n",
              "    <tr>\n",
              "      <th>mean</th>\n",
              "      <td>32.372710</td>\n",
              "      <td>64.749689</td>\n",
              "      <td>2277.243407</td>\n",
              "    </tr>\n",
              "    <tr>\n",
              "      <th>std</th>\n",
              "      <td>24.557454</td>\n",
              "      <td>30.062810</td>\n",
              "      <td>2260.002318</td>\n",
              "    </tr>\n",
              "    <tr>\n",
              "      <th>min</th>\n",
              "      <td>1.000000</td>\n",
              "      <td>19.200000</td>\n",
              "      <td>19.871000</td>\n",
              "    </tr>\n",
              "    <tr>\n",
              "      <th>1%</th>\n",
              "      <td>1.000000</td>\n",
              "      <td>19.200000</td>\n",
              "      <td>19.883180</td>\n",
              "    </tr>\n",
              "    <tr>\n",
              "      <th>5%</th>\n",
              "      <td>1.000000</td>\n",
              "      <td>19.650000</td>\n",
              "      <td>49.070000</td>\n",
              "    </tr>\n",
              "    <tr>\n",
              "      <th>10%</th>\n",
              "      <td>2.000000</td>\n",
              "      <td>20.050000</td>\n",
              "      <td>83.470000</td>\n",
              "    </tr>\n",
              "    <tr>\n",
              "      <th>25%</th>\n",
              "      <td>9.000000</td>\n",
              "      <td>35.500000</td>\n",
              "      <td>398.550000</td>\n",
              "    </tr>\n",
              "    <tr>\n",
              "      <th>50%</th>\n",
              "      <td>29.000000</td>\n",
              "      <td>70.350000</td>\n",
              "      <td>1394.550000</td>\n",
              "    </tr>\n",
              "    <tr>\n",
              "      <th>75%</th>\n",
              "      <td>55.000000</td>\n",
              "      <td>89.850000</td>\n",
              "      <td>3786.600000</td>\n",
              "    </tr>\n",
              "    <tr>\n",
              "      <th>85%</th>\n",
              "      <td>65.000000</td>\n",
              "      <td>98.550000</td>\n",
              "      <td>5195.485000</td>\n",
              "    </tr>\n",
              "    <tr>\n",
              "      <th>90%</th>\n",
              "      <td>69.000000</td>\n",
              "      <td>102.600000</td>\n",
              "      <td>5973.690000</td>\n",
              "    </tr>\n",
              "    <tr>\n",
              "      <th>99%</th>\n",
              "      <td>72.000000</td>\n",
              "      <td>114.716820</td>\n",
              "      <td>8037.867480</td>\n",
              "    </tr>\n",
              "    <tr>\n",
              "      <th>max</th>\n",
              "      <td>72.000000</td>\n",
              "      <td>114.729000</td>\n",
              "      <td>8039.256000</td>\n",
              "    </tr>\n",
              "  </tbody>\n",
              "</table>\n",
              "</div>"
            ],
            "text/plain": [
              "            tenure  MonthlyCharges  TotalCharges\n",
              "count  7043.000000     7043.000000   7043.000000\n",
              "mean     32.372710       64.749689   2277.243407\n",
              "std      24.557454       30.062810   2260.002318\n",
              "min       1.000000       19.200000     19.871000\n",
              "1%        1.000000       19.200000     19.883180\n",
              "5%        1.000000       19.650000     49.070000\n",
              "10%       2.000000       20.050000     83.470000\n",
              "25%       9.000000       35.500000    398.550000\n",
              "50%      29.000000       70.350000   1394.550000\n",
              "75%      55.000000       89.850000   3786.600000\n",
              "85%      65.000000       98.550000   5195.485000\n",
              "90%      69.000000      102.600000   5973.690000\n",
              "99%      72.000000      114.716820   8037.867480\n",
              "max      72.000000      114.729000   8039.256000"
            ]
          },
          "metadata": {},
          "execution_count": 28
        }
      ],
      "metadata": {
        "scrolled": false,
        "colab": {
          "base_uri": "https://localhost:8080/",
          "height": 483
        },
        "id": "2_5kcWHmUYZa",
        "outputId": "461b2976-95dc-4667-eb99-3812ac17b51b"
      }
    },
    {
      "cell_type": "markdown",
      "source": [
        "# Missing Value Analysis"
      ],
      "metadata": {
        "id": "5gvJjskPUYZb"
      }
    },
    {
      "cell_type": "code",
      "execution_count": 29,
      "source": [
        "num.isnull().mean()"
      ],
      "outputs": [
        {
          "output_type": "execute_result",
          "data": {
            "text/plain": [
              "tenure            0.0\n",
              "MonthlyCharges    0.0\n",
              "TotalCharges      0.0\n",
              "dtype: float64"
            ]
          },
          "metadata": {},
          "execution_count": 29
        }
      ],
      "metadata": {
        "colab": {
          "base_uri": "https://localhost:8080/"
        },
        "id": "k9UZUpFPUYZc",
        "outputId": "632780e0-7663-4c13-97fe-0fbcd0ff6f6b"
      }
    },
    {
      "cell_type": "code",
      "execution_count": 30,
      "source": [
        "# Since the data does not contain any missing values Imputation Processes are not required"
      ],
      "outputs": [],
      "metadata": {
        "scrolled": false,
        "id": "wCl0TpBPUYZc"
      }
    },
    {
      "cell_type": "markdown",
      "source": [
        "# Feature Selection - Numerical Features "
      ],
      "metadata": {
        "id": "-PaXNVVaUYZd"
      }
    },
    {
      "cell_type": "markdown",
      "source": [
        "# Part 1 : Remove Features with 0 Variance"
      ],
      "metadata": {
        "id": "ih1l0qkKUYZd"
      }
    },
    {
      "cell_type": "code",
      "execution_count": 31,
      "source": [
        "from sklearn.feature_selection import VarianceThreshold\r\n",
        "\r\n",
        "varselector= VarianceThreshold(threshold=0)\r\n",
        "varselector.fit_transform(num)\r\n",
        "# Get columns to keep and create new dataframe with those only\r\n",
        "cols = varselector.get_support(indices=True)\r\n",
        "num_1 = num.iloc[:,cols]"
      ],
      "outputs": [],
      "metadata": {
        "id": "8df-entnUYZe"
      }
    },
    {
      "cell_type": "code",
      "execution_count": 32,
      "source": [
        "num_1.iloc[0]"
      ],
      "outputs": [
        {
          "output_type": "execute_result",
          "data": {
            "text/plain": [
              "tenure             1.00\n",
              "MonthlyCharges    29.85\n",
              "TotalCharges      29.85\n",
              "Name: 0, dtype: float64"
            ]
          },
          "metadata": {},
          "execution_count": 32
        }
      ],
      "metadata": {
        "colab": {
          "base_uri": "https://localhost:8080/"
        },
        "id": "3Mt0uh4AUYZe",
        "outputId": "415f5a1a-6820-41be-b0f0-bde6eedabb61"
      }
    },
    {
      "cell_type": "markdown",
      "source": [
        "# Part 2 - Bi Variate Analysis (Feature Discretization)"
      ],
      "metadata": {
        "id": "l1mfY7J0UYZf"
      }
    },
    {
      "cell_type": "code",
      "execution_count": 33,
      "source": [
        "from sklearn.preprocessing import KBinsDiscretizer\r\n",
        "discrete=KBinsDiscretizer(n_bins=10,encode='ordinal', strategy='quantile')\r\n",
        "num_binned=pd.DataFrame(discrete.fit_transform(num_1),index=num_1.index, columns=num_1.columns).add_suffix('_Rank')\r\n",
        "num_binned.head(11)"
      ],
      "outputs": [
        {
          "output_type": "execute_result",
          "data": {
            "text/html": [
              "<div>\n",
              "<style scoped>\n",
              "    .dataframe tbody tr th:only-of-type {\n",
              "        vertical-align: middle;\n",
              "    }\n",
              "\n",
              "    .dataframe tbody tr th {\n",
              "        vertical-align: top;\n",
              "    }\n",
              "\n",
              "    .dataframe thead th {\n",
              "        text-align: right;\n",
              "    }\n",
              "</style>\n",
              "<table border=\"1\" class=\"dataframe\">\n",
              "  <thead>\n",
              "    <tr style=\"text-align: right;\">\n",
              "      <th></th>\n",
              "      <th>tenure_Rank</th>\n",
              "      <th>MonthlyCharges_Rank</th>\n",
              "      <th>TotalCharges_Rank</th>\n",
              "    </tr>\n",
              "  </thead>\n",
              "  <tbody>\n",
              "    <tr>\n",
              "      <th>0</th>\n",
              "      <td>0.0</td>\n",
              "      <td>2.0</td>\n",
              "      <td>0.0</td>\n",
              "    </tr>\n",
              "    <tr>\n",
              "      <th>1</th>\n",
              "      <td>5.0</td>\n",
              "      <td>3.0</td>\n",
              "      <td>5.0</td>\n",
              "    </tr>\n",
              "    <tr>\n",
              "      <th>2</th>\n",
              "      <td>1.0</td>\n",
              "      <td>3.0</td>\n",
              "      <td>1.0</td>\n",
              "    </tr>\n",
              "    <tr>\n",
              "      <th>3</th>\n",
              "      <td>6.0</td>\n",
              "      <td>2.0</td>\n",
              "      <td>5.0</td>\n",
              "    </tr>\n",
              "    <tr>\n",
              "      <th>4</th>\n",
              "      <td>1.0</td>\n",
              "      <td>5.0</td>\n",
              "      <td>1.0</td>\n",
              "    </tr>\n",
              "    <tr>\n",
              "      <th>5</th>\n",
              "      <td>2.0</td>\n",
              "      <td>8.0</td>\n",
              "      <td>3.0</td>\n",
              "    </tr>\n",
              "    <tr>\n",
              "      <th>6</th>\n",
              "      <td>4.0</td>\n",
              "      <td>7.0</td>\n",
              "      <td>5.0</td>\n",
              "    </tr>\n",
              "    <tr>\n",
              "      <th>7</th>\n",
              "      <td>2.0</td>\n",
              "      <td>2.0</td>\n",
              "      <td>2.0</td>\n",
              "    </tr>\n",
              "    <tr>\n",
              "      <th>8</th>\n",
              "      <td>4.0</td>\n",
              "      <td>9.0</td>\n",
              "      <td>6.0</td>\n",
              "    </tr>\n",
              "    <tr>\n",
              "      <th>9</th>\n",
              "      <td>8.0</td>\n",
              "      <td>3.0</td>\n",
              "      <td>7.0</td>\n",
              "    </tr>\n",
              "    <tr>\n",
              "      <th>10</th>\n",
              "      <td>3.0</td>\n",
              "      <td>3.0</td>\n",
              "      <td>3.0</td>\n",
              "    </tr>\n",
              "  </tbody>\n",
              "</table>\n",
              "</div>"
            ],
            "text/plain": [
              "    tenure_Rank  MonthlyCharges_Rank  TotalCharges_Rank\n",
              "0           0.0                  2.0                0.0\n",
              "1           5.0                  3.0                5.0\n",
              "2           1.0                  3.0                1.0\n",
              "3           6.0                  2.0                5.0\n",
              "4           1.0                  5.0                1.0\n",
              "5           2.0                  8.0                3.0\n",
              "6           4.0                  7.0                5.0\n",
              "7           2.0                  2.0                2.0\n",
              "8           4.0                  9.0                6.0\n",
              "9           8.0                  3.0                7.0\n",
              "10          3.0                  3.0                3.0"
            ]
          },
          "metadata": {},
          "execution_count": 33
        }
      ],
      "metadata": {
        "scrolled": false,
        "colab": {
          "base_uri": "https://localhost:8080/",
          "height": 390
        },
        "id": "Xrzc-csmUYZf",
        "outputId": "74a8f5b9-fc3e-4853-da75-f7af2e25f0bd"
      }
    },
    {
      "cell_type": "code",
      "execution_count": 34,
      "source": [
        "#Check if the features show a slope at all\r\n",
        "#If they do, then do you see some deciles below the population average and some higher than population average?\r\n",
        "#If that is the case then the slope will be strong\r\n",
        "#Conclusion: A strong slope is indicative of the features' ability to discriminate the event from non event\r\n",
        "#            making it a good predictor\r\n",
        "\r\n",
        "#percentage_income_goesinto_intallments=Insallment/annual_inc (Derived Variables/Feature Engineering)\r\n",
        "\r\n",
        "X_bin_combined=pd.concat([Y,num_binned],axis=1,join='inner')\r\n",
        "\r\n",
        "from numpy import mean\r\n",
        "for col in (num_binned.columns):\r\n",
        "    plt.figure()\r\n",
        "    sns.lineplot(x=col, y=X_bin_combined['target'].mean(),data= X_bin_combined)\r\n",
        "    sns.barplot(x=col, y=\"target\",data=X_bin_combined, estimator=mean )\r\n",
        "plt.show()"
      ],
      "outputs": [
        {
          "output_type": "display_data",
          "data": {
            "image/png": "[encoded data removed]",
            "text/plain": [
              "<Figure size 432x288 with 1 Axes>"
            ]
          },
          "metadata": {
            "needs_background": "light"
          }
        },
        {
          "output_type": "display_data",
          "data": {
            "image/png": "[encoded data removed]",
            "text/plain": [
              "<Figure size 432x288 with 1 Axes>"
            ]
          },
          "metadata": {
            "needs_background": "light"
          }
        },
        {
          "output_type": "display_data",
          "data": {
            "image/png": "[encoded data removed]",
            "text/plain": [
              "<Figure size 432x288 with 1 Axes>"
            ]
          },
          "metadata": {
            "needs_background": "light"
          }
        }
      ],
      "metadata": {
        "scrolled": false,
        "colab": {
          "base_uri": "https://localhost:8080/",
          "height": 806
        },
        "id": "7-Low-wIUYZg",
        "outputId": "355cf336-e573-4c0e-d184-77d5dce07b61"
      }
    },
    {
      "cell_type": "code",
      "execution_count": 35,
      "source": [
        "# All features from num_2 will get selected due to good discrimination no need of doing select kbest\r\n",
        "select_features_df_num=num_1"
      ],
      "outputs": [],
      "metadata": {
        "id": "x5uhGWyAUYZi"
      }
    },
    {
      "cell_type": "code",
      "execution_count": 36,
      "source": [
        "select_features_df_num.shape"
      ],
      "outputs": [
        {
          "output_type": "execute_result",
          "data": {
            "text/plain": [
              "(7043, 3)"
            ]
          },
          "metadata": {},
          "execution_count": 36
        }
      ],
      "metadata": {
        "colab": {
          "base_uri": "https://localhost:8080/"
        },
        "id": "lAdNKTE8UYZi",
        "outputId": "c40215c4-05c5-4524-b6bb-b99be9528825"
      }
    },
    {
      "cell_type": "markdown",
      "source": [
        "# Feature Selection - Categorical Features "
      ],
      "metadata": {
        "id": "I2KdARnKUYZj"
      }
    },
    {
      "cell_type": "code",
      "execution_count": 37,
      "source": [
        "char.dtypes"
      ],
      "outputs": [
        {
          "output_type": "execute_result",
          "data": {
            "text/plain": [
              "gender              object\n",
              "Partner             object\n",
              "Dependents          object\n",
              "PhoneService        object\n",
              "MultipleLines       object\n",
              "InternetService     object\n",
              "OnlineSecurity      object\n",
              "OnlineBackup        object\n",
              "DeviceProtection    object\n",
              "TechSupport         object\n",
              "StreamingTV         object\n",
              "StreamingMovies     object\n",
              "Contract            object\n",
              "PaperlessBilling    object\n",
              "PaymentMethod       object\n",
              "dtype: object"
            ]
          },
          "metadata": {},
          "execution_count": 37
        }
      ],
      "metadata": {
        "id": "yj6rc3QmUYZk"
      }
    },
    {
      "cell_type": "markdown",
      "source": [
        "# Part 1 - Bi Variate Analysis"
      ],
      "metadata": {
        "id": "kzwTbJ6zUYZk"
      }
    },
    {
      "cell_type": "code",
      "execution_count": 38,
      "source": [
        "import matplotlib.pyplot as plt\r\n",
        "import seaborn as sns\r\n",
        "X_char_merged=pd.concat([Y,char],axis=1,join='inner')\r\n",
        "\r\n",
        "from numpy import mean\r\n",
        "for col in (char.columns):\r\n",
        "    plt.figure()\r\n",
        "    sns.lineplot(x=col, y=X_char_merged['target'].mean(),data= X_char_merged)\r\n",
        "    sns.barplot(x=col, y=\"target\",data=X_char_merged, estimator=mean )\r\n",
        "plt.show()"
      ],
      "outputs": [
        {
          "output_type": "display_data",
          "data": {
            "image/png": "[encoded data removed]",
            "text/plain": [
              "<Figure size 432x288 with 1 Axes>"
            ]
          },
          "metadata": {
            "needs_background": "light"
          }
        },
        {
          "output_type": "display_data",
          "data": {
            "image/png": "[encoded data removed]",
            "text/plain": [
              "<Figure size 432x288 with 1 Axes>"
            ]
          },
          "metadata": {
            "needs_background": "light"
          }
        },
        {
          "output_type": "display_data",
          "data": {
            "image/png": "[encoded data removed]",
            "text/plain": [
              "<Figure size 432x288 with 1 Axes>"
            ]
          },
          "metadata": {
            "needs_background": "light"
          }
        },
        {
          "output_type": "display_data",
          "data": {
            "image/png": "[encoded data removed]",
            "text/plain": [
              "<Figure size 432x288 with 1 Axes>"
            ]
          },
          "metadata": {
            "needs_background": "light"
          }
        },
        {
          "output_type": "display_data",
          "data": {
            "image/png": "[encoded data removed]",
            "text/plain": [
              "<Figure size 432x288 with 1 Axes>"
            ]
          },
          "metadata": {
            "needs_background": "light"
          }
        },
        {
          "output_type": "display_data",
          "data": {
            "image/png": "[encoded data removed]",
            "text/plain": [
              "<Figure size 432x288 with 1 Axes>"
            ]
          },
          "metadata": {
            "needs_background": "light"
          }
        },
        {
          "output_type": "display_data",
          "data": {
            "image/png": "[encoded data removed]",
            "text/plain": [
              "<Figure size 432x288 with 1 Axes>"
            ]
          },
          "metadata": {
            "needs_background": "light"
          }
        },
        {
          "output_type": "display_data",
          "data": {
            "image/png": "[encoded data removed]",
            "text/plain": [
              "<Figure size 432x288 with 1 Axes>"
            ]
          },
          "metadata": {
            "needs_background": "light"
          }
        },
        {
          "output_type": "display_data",
          "data": {
            "image/png": "[encoded data removed]",
            "text/plain": [
              "<Figure size 432x288 with 1 Axes>"
            ]
          },
          "metadata": {
            "needs_background": "light"
          }
        },
        {
          "output_type": "display_data",
          "data": {
            "image/png": "[encoded data removed]",
            "text/plain": [
              "<Figure size 432x288 with 1 Axes>"
            ]
          },
          "metadata": {
            "needs_background": "light"
          }
        },
        {
          "output_type": "display_data",
          "data": {
            "image/png": "[encoded data removed]",
            "text/plain": [
              "<Figure size 432x288 with 1 Axes>"
            ]
          },
          "metadata": {
            "needs_background": "light"
          }
        },
        {
          "output_type": "display_data",
          "data": {
            "image/png": "[encoded data removed]",
            "text/plain": [
              "<Figure size 432x288 with 1 Axes>"
            ]
          },
          "metadata": {
            "needs_background": "light"
          }
        },
        {
          "output_type": "display_data",
          "data": {
            "image/png": "[encoded data removed]",
            "text/plain": [
              "<Figure size 432x288 with 1 Axes>"
            ]
          },
          "metadata": {
            "needs_background": "light"
          }
        },
        {
          "output_type": "display_data",
          "data": {
            "image/png": "[encoded data removed]",
            "text/plain": [
              "<Figure size 432x288 with 1 Axes>"
            ]
          },
          "metadata": {
            "needs_background": "light"
          }
        },
        {
          "output_type": "display_data",
          "data": {
            "image/png": "[encoded data removed]",
            "text/plain": [
              "<Figure size 432x288 with 1 Axes>"
            ]
          },
          "metadata": {
            "needs_background": "light"
          }
        }
      ],
      "metadata": {
        "colab": {
          "base_uri": "https://localhost:8080/",
          "height": 1000
        },
        "id": "HI6HFQnGUYZl",
        "outputId": "2f8184ea-2515-4bba-d687-b2dc6f7cebc1"
      }
    },
    {
      "cell_type": "code",
      "execution_count": 39,
      "source": [
        "char=char.drop(['gender','PhoneService','MultipleLines'],axis=1)"
      ],
      "outputs": [],
      "metadata": {
        "id": "Ry06j9EbUYZm"
      }
    },
    {
      "cell_type": "code",
      "execution_count": 40,
      "source": [
        "# Create dummy features with n-1 levels\r\n",
        "X_char_dum = pd.get_dummies(char, drop_first = True)\r\n",
        "X_char_dum.shape"
      ],
      "outputs": [
        {
          "output_type": "execute_result",
          "data": {
            "text/plain": [
              "(7043, 22)"
            ]
          },
          "metadata": {},
          "execution_count": 40
        }
      ],
      "metadata": {
        "colab": {
          "base_uri": "https://localhost:8080/"
        },
        "id": "EGqNJZoSUYZn",
        "outputId": "44cb9452-2396-4fb6-eb7e-4f15e49345e1"
      }
    },
    {
      "cell_type": "markdown",
      "source": [
        "# Part 2 - Select K Best"
      ],
      "metadata": {
        "id": "K6NBuNBAUYZo"
      }
    },
    {
      "cell_type": "code",
      "execution_count": 41,
      "source": [
        "# Select K Best for Categorical Features\r\n",
        "from sklearn.feature_selection import SelectKBest, chi2\r\n",
        "selector = SelectKBest(chi2, k=20)\r\n",
        "selector.fit_transform(X_char_dum, Y)\r\n",
        "# Get columns to keep and create new dataframe with those only\r\n",
        "cols = selector.get_support(indices=True)\r\n",
        "select_features_df_char = X_char_dum.iloc[:,cols]"
      ],
      "outputs": [],
      "metadata": {
        "id": "LoperI1bUYZo"
      }
    },
    {
      "cell_type": "code",
      "execution_count": 42,
      "source": [
        "select_features_df_char.dtypes"
      ],
      "outputs": [
        {
          "output_type": "execute_result",
          "data": {
            "text/plain": [
              "Partner_Yes                              uint8\n",
              "Dependents_Yes                           uint8\n",
              "InternetService_Fiber optic              uint8\n",
              "InternetService_No                       uint8\n",
              "OnlineSecurity_No internet service       uint8\n",
              "OnlineSecurity_Yes                       uint8\n",
              "OnlineBackup_No internet service         uint8\n",
              "OnlineBackup_Yes                         uint8\n",
              "DeviceProtection_No internet service     uint8\n",
              "DeviceProtection_Yes                     uint8\n",
              "TechSupport_No internet service          uint8\n",
              "TechSupport_Yes                          uint8\n",
              "StreamingTV_No internet service          uint8\n",
              "StreamingMovies_No internet service      uint8\n",
              "Contract_One year                        uint8\n",
              "Contract_Two year                        uint8\n",
              "PaperlessBilling_Yes                     uint8\n",
              "PaymentMethod_Credit card (automatic)    uint8\n",
              "PaymentMethod_Electronic check           uint8\n",
              "PaymentMethod_Mailed check               uint8\n",
              "dtype: object"
            ]
          },
          "metadata": {},
          "execution_count": 42
        }
      ],
      "metadata": {
        "colab": {
          "base_uri": "https://localhost:8080/"
        },
        "id": "xeLkEoNxgB3q",
        "outputId": "f160b0fb-343a-46f8-f1f9-dbb2fd87535e"
      }
    },
    {
      "cell_type": "code",
      "execution_count": 43,
      "source": [
        "select_features_df_char.iloc[0]"
      ],
      "outputs": [
        {
          "output_type": "execute_result",
          "data": {
            "text/plain": [
              "Partner_Yes                              1\n",
              "Dependents_Yes                           0\n",
              "InternetService_Fiber optic              0\n",
              "InternetService_No                       0\n",
              "OnlineSecurity_No internet service       0\n",
              "OnlineSecurity_Yes                       0\n",
              "OnlineBackup_No internet service         0\n",
              "OnlineBackup_Yes                         1\n",
              "DeviceProtection_No internet service     0\n",
              "DeviceProtection_Yes                     0\n",
              "TechSupport_No internet service          0\n",
              "TechSupport_Yes                          0\n",
              "StreamingTV_No internet service          0\n",
              "StreamingMovies_No internet service      0\n",
              "Contract_One year                        0\n",
              "Contract_Two year                        0\n",
              "PaperlessBilling_Yes                     1\n",
              "PaymentMethod_Credit card (automatic)    0\n",
              "PaymentMethod_Electronic check           1\n",
              "PaymentMethod_Mailed check               0\n",
              "Name: 0, dtype: uint8"
            ]
          },
          "metadata": {},
          "execution_count": 43
        }
      ],
      "metadata": {
        "scrolled": true,
        "colab": {
          "base_uri": "https://localhost:8080/"
        },
        "id": "tMqX1xmXUYZp",
        "outputId": "227cc791-73c2-44c1-c9c8-b968a563921c"
      }
    },
    {
      "cell_type": "markdown",
      "source": [
        "# Feature Selection - Numerical Indicator Features "
      ],
      "metadata": {
        "id": "hmbkCushUYZq"
      }
    },
    {
      "cell_type": "code",
      "execution_count": 44,
      "source": [
        "X_ind_merged=pd.concat([Y,ind],axis=1,join='inner')\n",
        "from numpy import mean\n",
        "for col in (ind.columns):\n",
        "    plt.figure()\n",
        "    sns.lineplot(x=col, y=X_ind_merged['target'].mean(),data= X_ind_merged)\n",
        "    sns.barplot(x=col, y=\"target\",data=X_ind_merged, estimator=mean )\n",
        "plt.show()"
      ],
      "outputs": [
        {
          "output_type": "display_data",
          "data": {
            "image/png": "[encoded data removed]",
            "text/plain": [
              "<Figure size 432x288 with 1 Axes>"
            ]
          },
          "metadata": {
            "needs_background": "light"
          }
        }
      ],
      "metadata": {
        "scrolled": true,
        "colab": {
          "base_uri": "https://localhost:8080/",
          "height": 279
        },
        "id": "eCbNIrtnUYZq",
        "outputId": "34ba150e-c390-4d2e-944d-2f5866e9abf6"
      }
    },
    {
      "cell_type": "code",
      "execution_count": 45,
      "source": [
        "select_features_df_ind=ind"
      ],
      "outputs": [],
      "metadata": {
        "id": "Dd27BKQwUYZr"
      }
    },
    {
      "cell_type": "markdown",
      "source": [
        "# Creating the Master Feature Set for Model Development"
      ],
      "metadata": {
        "id": "-93lowNhUYZr"
      }
    },
    {
      "cell_type": "code",
      "execution_count": 46,
      "source": [
        "X_all=pd.concat([select_features_df_char,select_features_df_num,select_features_df_ind],axis=1,join=\"inner\")"
      ],
      "outputs": [],
      "metadata": {
        "id": "AvwtY1xGUYZs"
      }
    },
    {
      "cell_type": "code",
      "execution_count": 47,
      "source": [
        "Y['target'].value_counts()"
      ],
      "outputs": [
        {
          "output_type": "execute_result",
          "data": {
            "text/plain": [
              "0    5174\n",
              "1    1869\n",
              "Name: target, dtype: int64"
            ]
          },
          "metadata": {},
          "execution_count": 47
        }
      ],
      "metadata": {
        "scrolled": true,
        "colab": {
          "base_uri": "https://localhost:8080/"
        },
        "id": "Hvlli3JFUYZs",
        "outputId": "10c5279b-d712-4e30-b2ec-c849a52794fc"
      }
    },
    {
      "cell_type": "markdown",
      "source": [
        "# Train Test Split"
      ],
      "metadata": {
        "id": "lLdllljrUYZt"
      }
    },
    {
      "cell_type": "code",
      "execution_count": 48,
      "source": [
        "from sklearn.model_selection import train_test_split\n",
        "X_train, X_test, y_train, y_test=train_test_split(X_all, Y, test_size=0.3, random_state=10)"
      ],
      "outputs": [],
      "metadata": {
        "id": "EXWgQlVQUYZt"
      }
    },
    {
      "cell_type": "code",
      "execution_count": 49,
      "source": [
        "print(\"Shape of Training Data\",X_train.shape)\n",
        "print(\"Shape of Testing Data\",X_test.shape)\n",
        "print(\"Response Rate in Training Data\",y_train.mean())\n",
        "print(\"Response Rate in Testing Data\",y_test.mean())"
      ],
      "outputs": [
        {
          "output_type": "stream",
          "name": "stdout",
          "text": [
            "Shape of Training Data (4930, 24)\n",
            "Shape of Testing Data (2113, 24)\n",
            "Response Rate in Training Data target    0.266126\n",
            "dtype: float64\n",
            "Response Rate in Testing Data target    0.263606\n",
            "dtype: float64\n"
          ]
        }
      ],
      "metadata": {
        "colab": {
          "base_uri": "https://localhost:8080/"
        },
        "id": "UXu3V5LRUYZt",
        "outputId": "8d0bef76-5acc-4750-971b-3045ac4d9589"
      }
    },
    {
      "cell_type": "code",
      "execution_count": 50,
      "source": [
        "# Non Linearity in feature relationships are observed which makes tree methods a good choice\n",
        "# There are few options to consider among tree methods\n",
        "# White Box (Completely Explainable Set of Rules) - Decision Tree\n",
        "# Ensemble Methods - Random Forest (With Bagging)\n",
        "# Ensemble Methods - GBM/XGBoost (Boosting)"
      ],
      "outputs": [],
      "metadata": {
        "id": "JqsOPkUAUYZu"
      }
    },
    {
      "cell_type": "markdown",
      "source": [
        "### Model Building Step"
      ],
      "metadata": {
        "id": "wY2WEZotiZD7"
      }
    },
    {
      "cell_type": "code",
      "execution_count": 51,
      "source": [
        "from sklearn.linear_model import LogisticRegression\n",
        "logreg=LogisticRegression(random_state=0)\n",
        "logreg.fit(X_train,y_train)"
      ],
      "outputs": [
        {
          "output_type": "execute_result",
          "data": {
            "text/plain": [
              "LogisticRegression(random_state=0)"
            ]
          },
          "metadata": {},
          "execution_count": 51
        }
      ],
      "metadata": {
        "colab": {
          "base_uri": "https://localhost:8080/"
        },
        "id": "ATCd5rmYUYZu",
        "outputId": "417508b2-9a62-41e7-cd80-2e69bf448c3f"
      }
    },
    {
      "cell_type": "code",
      "execution_count": 52,
      "source": [
        "coeff_df=pd.DataFrame(X_all.columns)\n",
        "coeff_df.columns=['features']\n",
        "coeff_df[\"Coefficient Estimate\"] = pd.Series(logreg.coef_[0])\n",
        "coeff_df"
      ],
      "outputs": [
        {
          "output_type": "execute_result",
          "data": {
            "text/html": [
              "<div>\n",
              "<style scoped>\n",
              "    .dataframe tbody tr th:only-of-type {\n",
              "        vertical-align: middle;\n",
              "    }\n",
              "\n",
              "    .dataframe tbody tr th {\n",
              "        vertical-align: top;\n",
              "    }\n",
              "\n",
              "    .dataframe thead th {\n",
              "        text-align: right;\n",
              "    }\n",
              "</style>\n",
              "<table border=\"1\" class=\"dataframe\">\n",
              "  <thead>\n",
              "    <tr style=\"text-align: right;\">\n",
              "      <th></th>\n",
              "      <th>features</th>\n",
              "      <th>Coefficient Estimate</th>\n",
              "    </tr>\n",
              "  </thead>\n",
              "  <tbody>\n",
              "    <tr>\n",
              "      <th>0</th>\n",
              "      <td>Partner_Yes</td>\n",
              "      <td>0.010674</td>\n",
              "    </tr>\n",
              "    <tr>\n",
              "      <th>1</th>\n",
              "      <td>Dependents_Yes</td>\n",
              "      <td>-0.095012</td>\n",
              "    </tr>\n",
              "    <tr>\n",
              "      <th>2</th>\n",
              "      <td>InternetService_Fiber optic</td>\n",
              "      <td>0.598124</td>\n",
              "    </tr>\n",
              "    <tr>\n",
              "      <th>3</th>\n",
              "      <td>InternetService_No</td>\n",
              "      <td>-0.173241</td>\n",
              "    </tr>\n",
              "    <tr>\n",
              "      <th>4</th>\n",
              "      <td>OnlineSecurity_No internet service</td>\n",
              "      <td>-0.173241</td>\n",
              "    </tr>\n",
              "    <tr>\n",
              "      <th>5</th>\n",
              "      <td>OnlineSecurity_Yes</td>\n",
              "      <td>-0.616836</td>\n",
              "    </tr>\n",
              "    <tr>\n",
              "      <th>6</th>\n",
              "      <td>OnlineBackup_No internet service</td>\n",
              "      <td>-0.173241</td>\n",
              "    </tr>\n",
              "    <tr>\n",
              "      <th>7</th>\n",
              "      <td>OnlineBackup_Yes</td>\n",
              "      <td>-0.299833</td>\n",
              "    </tr>\n",
              "    <tr>\n",
              "      <th>8</th>\n",
              "      <td>DeviceProtection_No internet service</td>\n",
              "      <td>-0.173241</td>\n",
              "    </tr>\n",
              "    <tr>\n",
              "      <th>9</th>\n",
              "      <td>DeviceProtection_Yes</td>\n",
              "      <td>-0.019946</td>\n",
              "    </tr>\n",
              "    <tr>\n",
              "      <th>10</th>\n",
              "      <td>TechSupport_No internet service</td>\n",
              "      <td>-0.173241</td>\n",
              "    </tr>\n",
              "    <tr>\n",
              "      <th>11</th>\n",
              "      <td>TechSupport_Yes</td>\n",
              "      <td>-0.518968</td>\n",
              "    </tr>\n",
              "    <tr>\n",
              "      <th>12</th>\n",
              "      <td>StreamingTV_No internet service</td>\n",
              "      <td>-0.173241</td>\n",
              "    </tr>\n",
              "    <tr>\n",
              "      <th>13</th>\n",
              "      <td>StreamingMovies_No internet service</td>\n",
              "      <td>-0.173241</td>\n",
              "    </tr>\n",
              "    <tr>\n",
              "      <th>14</th>\n",
              "      <td>Contract_One year</td>\n",
              "      <td>-0.458669</td>\n",
              "    </tr>\n",
              "    <tr>\n",
              "      <th>15</th>\n",
              "      <td>Contract_Two year</td>\n",
              "      <td>-0.639223</td>\n",
              "    </tr>\n",
              "    <tr>\n",
              "      <th>16</th>\n",
              "      <td>PaperlessBilling_Yes</td>\n",
              "      <td>0.489748</td>\n",
              "    </tr>\n",
              "    <tr>\n",
              "      <th>17</th>\n",
              "      <td>PaymentMethod_Credit card (automatic)</td>\n",
              "      <td>-0.152683</td>\n",
              "    </tr>\n",
              "    <tr>\n",
              "      <th>18</th>\n",
              "      <td>PaymentMethod_Electronic check</td>\n",
              "      <td>0.247513</td>\n",
              "    </tr>\n",
              "    <tr>\n",
              "      <th>19</th>\n",
              "      <td>PaymentMethod_Mailed check</td>\n",
              "      <td>-0.215688</td>\n",
              "    </tr>\n",
              "    <tr>\n",
              "      <th>20</th>\n",
              "      <td>tenure</td>\n",
              "      <td>-0.055984</td>\n",
              "    </tr>\n",
              "    <tr>\n",
              "      <th>21</th>\n",
              "      <td>MonthlyCharges</td>\n",
              "      <td>0.003205</td>\n",
              "    </tr>\n",
              "    <tr>\n",
              "      <th>22</th>\n",
              "      <td>TotalCharges</td>\n",
              "      <td>0.000290</td>\n",
              "    </tr>\n",
              "    <tr>\n",
              "      <th>23</th>\n",
              "      <td>SeniorCitizen</td>\n",
              "      <td>0.218403</td>\n",
              "    </tr>\n",
              "  </tbody>\n",
              "</table>\n",
              "</div>"
            ],
            "text/plain": [
              "                                 features  Coefficient Estimate\n",
              "0                             Partner_Yes              0.010674\n",
              "1                          Dependents_Yes             -0.095012\n",
              "2             InternetService_Fiber optic              0.598124\n",
              "3                      InternetService_No             -0.173241\n",
              "4      OnlineSecurity_No internet service             -0.173241\n",
              "5                      OnlineSecurity_Yes             -0.616836\n",
              "6        OnlineBackup_No internet service             -0.173241\n",
              "7                        OnlineBackup_Yes             -0.299833\n",
              "8    DeviceProtection_No internet service             -0.173241\n",
              "9                    DeviceProtection_Yes             -0.019946\n",
              "10        TechSupport_No internet service             -0.173241\n",
              "11                        TechSupport_Yes             -0.518968\n",
              "12        StreamingTV_No internet service             -0.173241\n",
              "13    StreamingMovies_No internet service             -0.173241\n",
              "14                      Contract_One year             -0.458669\n",
              "15                      Contract_Two year             -0.639223\n",
              "16                   PaperlessBilling_Yes              0.489748\n",
              "17  PaymentMethod_Credit card (automatic)             -0.152683\n",
              "18         PaymentMethod_Electronic check              0.247513\n",
              "19             PaymentMethod_Mailed check             -0.215688\n",
              "20                                 tenure             -0.055984\n",
              "21                         MonthlyCharges              0.003205\n",
              "22                           TotalCharges              0.000290\n",
              "23                          SeniorCitizen              0.218403"
            ]
          },
          "metadata": {},
          "execution_count": 52
        }
      ],
      "metadata": {
        "colab": {
          "base_uri": "https://localhost:8080/",
          "height": 793
        },
        "id": "h5AK0SFFUYZu",
        "outputId": "d19529fe-d190-4458-8cf9-c58c16422f7c"
      }
    },
    {
      "cell_type": "code",
      "execution_count": 53,
      "source": [
        "# Building a Decision Tree Model\n",
        "from sklearn.tree import DecisionTreeClassifier\n",
        "dtree=DecisionTreeClassifier(criterion='gini',random_state=0)"
      ],
      "outputs": [],
      "metadata": {
        "id": "99dC5CMsUYZv"
      }
    },
    {
      "cell_type": "code",
      "execution_count": 54,
      "source": [
        "np.random.seed(44)\n",
        "from sklearn.model_selection import GridSearchCV\n",
        "param_dist = {'max_depth': [3, 5, 6, 7], 'min_samples_split': [50, 100, 150, 200, 250] }\n",
        "tree_grid = GridSearchCV(dtree, cv = 10, param_grid=param_dist,n_jobs = 3)\n",
        "tree_grid.fit(X_train,y_train) \n",
        "print('Best Parameters using grid search: \\n', tree_grid.best_params_)"
      ],
      "outputs": [
        {
          "output_type": "stream",
          "name": "stdout",
          "text": [
            "Best Parameters using grid search: \n",
            " {'max_depth': 6, 'min_samples_split': 50}\n"
          ]
        }
      ],
      "metadata": {
        "id": "TYRG00kAUYZv"
      }
    },
    {
      "cell_type": "code",
      "execution_count": 55,
      "source": [
        "dtree=DecisionTreeClassifier(criterion='gini',random_state=0,max_depth=6,min_samples_split=50)\n",
        "dtree.fit(X_train,y_train)"
      ],
      "outputs": [
        {
          "output_type": "execute_result",
          "data": {
            "text/plain": [
              "DecisionTreeClassifier(max_depth=6, min_samples_split=50, random_state=0)"
            ]
          },
          "metadata": {},
          "execution_count": 55
        }
      ],
      "metadata": {
        "colab": {
          "base_uri": "https://localhost:8080/"
        },
        "id": "iPHaEHgPUYZw",
        "outputId": "bc982a6f-7b00-44ba-ae8e-63238e0eb7ed"
      }
    },
    {
      "cell_type": "code",
      "execution_count": 56,
      "source": [
        "# Building a Random Forest Model\n",
        "from sklearn.ensemble import RandomForestClassifier\n",
        "rf=RandomForestClassifier(criterion='gini',random_state=0,max_depth=6,min_samples_split=50)\n",
        "rf.fit(X_train,y_train)"
      ],
      "outputs": [
        {
          "output_type": "execute_result",
          "data": {
            "text/plain": [
              "RandomForestClassifier(max_depth=6, min_samples_split=50, random_state=0)"
            ]
          },
          "metadata": {},
          "execution_count": 56
        }
      ],
      "metadata": {
        "colab": {
          "base_uri": "https://localhost:8080/"
        },
        "id": "tuF3RvH2UYZx",
        "outputId": "701416cd-9291-4edf-95a4-b82f71cd3a08"
      }
    },
    {
      "cell_type": "code",
      "execution_count": 57,
      "source": [
        "import pandas as pd\n",
        "feature_importances=pd.DataFrame(rf.feature_importances_,\n",
        "                                 index=X_train.columns,\n",
        "                                 columns=['importance']).sort_values('importance',ascending=False)\n",
        "feature_importances"
      ],
      "outputs": [
        {
          "output_type": "execute_result",
          "data": {
            "text/html": [
              "<div>\n",
              "<style scoped>\n",
              "    .dataframe tbody tr th:only-of-type {\n",
              "        vertical-align: middle;\n",
              "    }\n",
              "\n",
              "    .dataframe tbody tr th {\n",
              "        vertical-align: top;\n",
              "    }\n",
              "\n",
              "    .dataframe thead th {\n",
              "        text-align: right;\n",
              "    }\n",
              "</style>\n",
              "<table border=\"1\" class=\"dataframe\">\n",
              "  <thead>\n",
              "    <tr style=\"text-align: right;\">\n",
              "      <th></th>\n",
              "      <th>importance</th>\n",
              "    </tr>\n",
              "  </thead>\n",
              "  <tbody>\n",
              "    <tr>\n",
              "      <th>tenure</th>\n",
              "      <td>0.200408</td>\n",
              "    </tr>\n",
              "    <tr>\n",
              "      <th>TotalCharges</th>\n",
              "      <td>0.149898</td>\n",
              "    </tr>\n",
              "    <tr>\n",
              "      <th>InternetService_Fiber optic</th>\n",
              "      <td>0.115766</td>\n",
              "    </tr>\n",
              "    <tr>\n",
              "      <th>PaymentMethod_Electronic check</th>\n",
              "      <td>0.086082</td>\n",
              "    </tr>\n",
              "    <tr>\n",
              "      <th>MonthlyCharges</th>\n",
              "      <td>0.084691</td>\n",
              "    </tr>\n",
              "    <tr>\n",
              "      <th>Contract_Two year</th>\n",
              "      <td>0.076559</td>\n",
              "    </tr>\n",
              "    <tr>\n",
              "      <th>OnlineSecurity_Yes</th>\n",
              "      <td>0.038781</td>\n",
              "    </tr>\n",
              "    <tr>\n",
              "      <th>Contract_One year</th>\n",
              "      <td>0.035319</td>\n",
              "    </tr>\n",
              "    <tr>\n",
              "      <th>InternetService_No</th>\n",
              "      <td>0.028913</td>\n",
              "    </tr>\n",
              "    <tr>\n",
              "      <th>TechSupport_Yes</th>\n",
              "      <td>0.027326</td>\n",
              "    </tr>\n",
              "    <tr>\n",
              "      <th>TechSupport_No internet service</th>\n",
              "      <td>0.024787</td>\n",
              "    </tr>\n",
              "    <tr>\n",
              "      <th>OnlineSecurity_No internet service</th>\n",
              "      <td>0.018912</td>\n",
              "    </tr>\n",
              "    <tr>\n",
              "      <th>StreamingMovies_No internet service</th>\n",
              "      <td>0.016281</td>\n",
              "    </tr>\n",
              "    <tr>\n",
              "      <th>StreamingTV_No internet service</th>\n",
              "      <td>0.013703</td>\n",
              "    </tr>\n",
              "    <tr>\n",
              "      <th>PaperlessBilling_Yes</th>\n",
              "      <td>0.012808</td>\n",
              "    </tr>\n",
              "    <tr>\n",
              "      <th>OnlineBackup_No internet service</th>\n",
              "      <td>0.012688</td>\n",
              "    </tr>\n",
              "    <tr>\n",
              "      <th>OnlineBackup_Yes</th>\n",
              "      <td>0.011998</td>\n",
              "    </tr>\n",
              "    <tr>\n",
              "      <th>DeviceProtection_No internet service</th>\n",
              "      <td>0.011318</td>\n",
              "    </tr>\n",
              "    <tr>\n",
              "      <th>SeniorCitizen</th>\n",
              "      <td>0.006703</td>\n",
              "    </tr>\n",
              "    <tr>\n",
              "      <th>PaymentMethod_Mailed check</th>\n",
              "      <td>0.006276</td>\n",
              "    </tr>\n",
              "    <tr>\n",
              "      <th>Partner_Yes</th>\n",
              "      <td>0.005536</td>\n",
              "    </tr>\n",
              "    <tr>\n",
              "      <th>Dependents_Yes</th>\n",
              "      <td>0.005457</td>\n",
              "    </tr>\n",
              "    <tr>\n",
              "      <th>DeviceProtection_Yes</th>\n",
              "      <td>0.004954</td>\n",
              "    </tr>\n",
              "    <tr>\n",
              "      <th>PaymentMethod_Credit card (automatic)</th>\n",
              "      <td>0.004836</td>\n",
              "    </tr>\n",
              "  </tbody>\n",
              "</table>\n",
              "</div>"
            ],
            "text/plain": [
              "                                       importance\n",
              "tenure                                   0.200408\n",
              "TotalCharges                             0.149898\n",
              "InternetService_Fiber optic              0.115766\n",
              "PaymentMethod_Electronic check           0.086082\n",
              "MonthlyCharges                           0.084691\n",
              "Contract_Two year                        0.076559\n",
              "OnlineSecurity_Yes                       0.038781\n",
              "Contract_One year                        0.035319\n",
              "InternetService_No                       0.028913\n",
              "TechSupport_Yes                          0.027326\n",
              "TechSupport_No internet service          0.024787\n",
              "OnlineSecurity_No internet service       0.018912\n",
              "StreamingMovies_No internet service      0.016281\n",
              "StreamingTV_No internet service          0.013703\n",
              "PaperlessBilling_Yes                     0.012808\n",
              "OnlineBackup_No internet service         0.012688\n",
              "OnlineBackup_Yes                         0.011998\n",
              "DeviceProtection_No internet service     0.011318\n",
              "SeniorCitizen                            0.006703\n",
              "PaymentMethod_Mailed check               0.006276\n",
              "Partner_Yes                              0.005536\n",
              "Dependents_Yes                           0.005457\n",
              "DeviceProtection_Yes                     0.004954\n",
              "PaymentMethod_Credit card (automatic)    0.004836"
            ]
          },
          "metadata": {},
          "execution_count": 57
        }
      ],
      "metadata": {
        "colab": {
          "base_uri": "https://localhost:8080/",
          "height": 793
        },
        "id": "FHaR2SmUUYZx",
        "outputId": "ed97092a-7d43-442b-f981-937bd6c6db96"
      }
    },
    {
      "cell_type": "code",
      "execution_count": 58,
      "source": [
        "# Building a Gradient Boosting Model\n",
        "from sklearn.ensemble import GradientBoostingClassifier\n",
        "gbm=GradientBoostingClassifier(criterion='mse',random_state=0,max_depth=6,min_samples_split=50)\n",
        "gbm.fit(X_train,y_train)"
      ],
      "outputs": [
        {
          "output_type": "execute_result",
          "data": {
            "text/plain": [
              "GradientBoostingClassifier(criterion='mse', max_depth=6, min_samples_split=50,\n",
              "                           random_state=0)"
            ]
          },
          "metadata": {},
          "execution_count": 58
        }
      ],
      "metadata": {
        "colab": {
          "base_uri": "https://localhost:8080/"
        },
        "id": "SOhAv42hUYZx",
        "outputId": "4acdd330-c3dc-44a6-b057-c53e0d80cc00"
      }
    },
    {
      "cell_type": "code",
      "execution_count": 59,
      "source": [
        "import pandas as pd\n",
        "feature_importances=pd.DataFrame(gbm.feature_importances_,\n",
        "                                 index=X_train.columns,\n",
        "                                 columns=['importance']).sort_values('importance',ascending=False)\n",
        "feature_importances"
      ],
      "outputs": [
        {
          "output_type": "execute_result",
          "data": {
            "text/html": [
              "<div>\n",
              "<style scoped>\n",
              "    .dataframe tbody tr th:only-of-type {\n",
              "        vertical-align: middle;\n",
              "    }\n",
              "\n",
              "    .dataframe tbody tr th {\n",
              "        vertical-align: top;\n",
              "    }\n",
              "\n",
              "    .dataframe thead th {\n",
              "        text-align: right;\n",
              "    }\n",
              "</style>\n",
              "<table border=\"1\" class=\"dataframe\">\n",
              "  <thead>\n",
              "    <tr style=\"text-align: right;\">\n",
              "      <th></th>\n",
              "      <th>importance</th>\n",
              "    </tr>\n",
              "  </thead>\n",
              "  <tbody>\n",
              "    <tr>\n",
              "      <th>tenure</th>\n",
              "      <td>0.207963</td>\n",
              "    </tr>\n",
              "    <tr>\n",
              "      <th>TotalCharges</th>\n",
              "      <td>0.185813</td>\n",
              "    </tr>\n",
              "    <tr>\n",
              "      <th>MonthlyCharges</th>\n",
              "      <td>0.166751</td>\n",
              "    </tr>\n",
              "    <tr>\n",
              "      <th>PaymentMethod_Electronic check</th>\n",
              "      <td>0.137275</td>\n",
              "    </tr>\n",
              "    <tr>\n",
              "      <th>InternetService_Fiber optic</th>\n",
              "      <td>0.133763</td>\n",
              "    </tr>\n",
              "    <tr>\n",
              "      <th>Contract_Two year</th>\n",
              "      <td>0.036155</td>\n",
              "    </tr>\n",
              "    <tr>\n",
              "      <th>Contract_One year</th>\n",
              "      <td>0.033409</td>\n",
              "    </tr>\n",
              "    <tr>\n",
              "      <th>PaperlessBilling_Yes</th>\n",
              "      <td>0.019680</td>\n",
              "    </tr>\n",
              "    <tr>\n",
              "      <th>OnlineSecurity_Yes</th>\n",
              "      <td>0.014681</td>\n",
              "    </tr>\n",
              "    <tr>\n",
              "      <th>TechSupport_Yes</th>\n",
              "      <td>0.013139</td>\n",
              "    </tr>\n",
              "    <tr>\n",
              "      <th>SeniorCitizen</th>\n",
              "      <td>0.011829</td>\n",
              "    </tr>\n",
              "    <tr>\n",
              "      <th>OnlineBackup_Yes</th>\n",
              "      <td>0.007532</td>\n",
              "    </tr>\n",
              "    <tr>\n",
              "      <th>PaymentMethod_Credit card (automatic)</th>\n",
              "      <td>0.005456</td>\n",
              "    </tr>\n",
              "    <tr>\n",
              "      <th>Partner_Yes</th>\n",
              "      <td>0.005341</td>\n",
              "    </tr>\n",
              "    <tr>\n",
              "      <th>OnlineBackup_No internet service</th>\n",
              "      <td>0.003851</td>\n",
              "    </tr>\n",
              "    <tr>\n",
              "      <th>PaymentMethod_Mailed check</th>\n",
              "      <td>0.002851</td>\n",
              "    </tr>\n",
              "    <tr>\n",
              "      <th>Dependents_Yes</th>\n",
              "      <td>0.002808</td>\n",
              "    </tr>\n",
              "    <tr>\n",
              "      <th>DeviceProtection_Yes</th>\n",
              "      <td>0.002678</td>\n",
              "    </tr>\n",
              "    <tr>\n",
              "      <th>OnlineSecurity_No internet service</th>\n",
              "      <td>0.002631</td>\n",
              "    </tr>\n",
              "    <tr>\n",
              "      <th>TechSupport_No internet service</th>\n",
              "      <td>0.002463</td>\n",
              "    </tr>\n",
              "    <tr>\n",
              "      <th>InternetService_No</th>\n",
              "      <td>0.001567</td>\n",
              "    </tr>\n",
              "    <tr>\n",
              "      <th>StreamingTV_No internet service</th>\n",
              "      <td>0.001536</td>\n",
              "    </tr>\n",
              "    <tr>\n",
              "      <th>DeviceProtection_No internet service</th>\n",
              "      <td>0.000738</td>\n",
              "    </tr>\n",
              "    <tr>\n",
              "      <th>StreamingMovies_No internet service</th>\n",
              "      <td>0.000092</td>\n",
              "    </tr>\n",
              "  </tbody>\n",
              "</table>\n",
              "</div>"
            ],
            "text/plain": [
              "                                       importance\n",
              "tenure                                   0.207963\n",
              "TotalCharges                             0.185813\n",
              "MonthlyCharges                           0.166751\n",
              "PaymentMethod_Electronic check           0.137275\n",
              "InternetService_Fiber optic              0.133763\n",
              "Contract_Two year                        0.036155\n",
              "Contract_One year                        0.033409\n",
              "PaperlessBilling_Yes                     0.019680\n",
              "OnlineSecurity_Yes                       0.014681\n",
              "TechSupport_Yes                          0.013139\n",
              "SeniorCitizen                            0.011829\n",
              "OnlineBackup_Yes                         0.007532\n",
              "PaymentMethod_Credit card (automatic)    0.005456\n",
              "Partner_Yes                              0.005341\n",
              "OnlineBackup_No internet service         0.003851\n",
              "PaymentMethod_Mailed check               0.002851\n",
              "Dependents_Yes                           0.002808\n",
              "DeviceProtection_Yes                     0.002678\n",
              "OnlineSecurity_No internet service       0.002631\n",
              "TechSupport_No internet service          0.002463\n",
              "InternetService_No                       0.001567\n",
              "StreamingTV_No internet service          0.001536\n",
              "DeviceProtection_No internet service     0.000738\n",
              "StreamingMovies_No internet service      0.000092"
            ]
          },
          "metadata": {},
          "execution_count": 59
        }
      ],
      "metadata": {
        "scrolled": true,
        "colab": {
          "base_uri": "https://localhost:8080/",
          "height": 793
        },
        "id": "czWhurOnUYZy",
        "outputId": "81b86925-b60f-4ea1-8110-e7c9c70a7cc6"
      }
    },
    {
      "cell_type": "code",
      "execution_count": 60,
      "source": [
        "base_learners = [\n",
        "                        ('rf', RandomForestClassifier(criterion='gini',random_state=0,max_depth=6,min_samples_split=50)),\n",
        "                        ('gbm', GradientBoostingClassifier(criterion='mse',random_state=0,max_depth=6,min_samples_split=50))  \n",
        "                       ] "
      ],
      "outputs": [],
      "metadata": {
        "id": "wKRzqfonUYZy"
      }
    },
    {
      "cell_type": "code",
      "execution_count": 61,
      "source": [
        "from sklearn.ensemble import StackingClassifier\n",
        "clf = StackingClassifier(estimators=base_learners, final_estimator=LogisticRegression())"
      ],
      "outputs": [],
      "metadata": {
        "id": "IEEpnkbSUYZz"
      }
    },
    {
      "cell_type": "code",
      "execution_count": 62,
      "source": [
        "clf.fit(X_train, y_train)"
      ],
      "outputs": [
        {
          "output_type": "execute_result",
          "data": {
            "text/plain": [
              "StackingClassifier(estimators=[('rf',\n",
              "                                RandomForestClassifier(max_depth=6,\n",
              "                                                       min_samples_split=50,\n",
              "                                                       random_state=0)),\n",
              "                               ('gbm',\n",
              "                                GradientBoostingClassifier(criterion='mse',\n",
              "                                                           max_depth=6,\n",
              "                                                           min_samples_split=50,\n",
              "                                                           random_state=0))],\n",
              "                   final_estimator=LogisticRegression())"
            ]
          },
          "metadata": {},
          "execution_count": 62
        }
      ],
      "metadata": {
        "colab": {
          "base_uri": "https://localhost:8080/"
        },
        "id": "hKniTQEQUYZz",
        "outputId": "daa9fc83-b879-4ee2-b8cc-5ca8b6f5e723"
      }
    },
    {
      "cell_type": "code",
      "execution_count": 63,
      "source": [
        "# Model Evaluation\n",
        "y_pred_logreg=logreg.predict(X_test)\n",
        "y_pred_tree=dtree.predict(X_test)\n",
        "y_pred_rf=rf.predict(X_test)\n",
        "y_pred_gbm=gbm.predict(X_test)\n",
        "y_pred_stacking=clf.predict(X_test)"
      ],
      "outputs": [],
      "metadata": {
        "id": "9p3S6i7oUYZz"
      }
    },
    {
      "cell_type": "code",
      "execution_count": 64,
      "source": [
        "from sklearn import metrics\n",
        "from sklearn.metrics import confusion_matrix"
      ],
      "outputs": [],
      "metadata": {
        "id": "NUEPGlAyUYZ0"
      }
    },
    {
      "cell_type": "code",
      "execution_count": 65,
      "source": [
        "from sklearn import metrics\n",
        "print(\"Accuracy:\",metrics.accuracy_score(y_test, y_pred_logreg))\n",
        "print(\"Precision\",metrics.precision_score(y_test,y_pred_logreg))\n",
        "print(\"Recall\",metrics.recall_score(y_test,y_pred_logreg))\n",
        "print(\"f1_score\",metrics.f1_score(y_test,y_pred_logreg))"
      ],
      "outputs": [
        {
          "output_type": "stream",
          "name": "stdout",
          "text": [
            "Accuracy: 0.79649787032655\n",
            "Precision 0.6365591397849463\n",
            "Recall 0.5314183123877917\n",
            "f1_score 0.5792563600782779\n"
          ]
        }
      ],
      "metadata": {
        "colab": {
          "base_uri": "https://localhost:8080/"
        },
        "id": "heVrF_E2UYZ0",
        "outputId": "88df8a70-b61c-47a5-a9d0-fbf7518c2c19"
      }
    },
    {
      "cell_type": "code",
      "execution_count": 66,
      "source": [
        "metrics.plot_confusion_matrix(logreg,X_all,Y)"
      ],
      "outputs": [
        {
          "output_type": "execute_result",
          "data": {
            "text/plain": [
              "<sklearn.metrics._plot.confusion_matrix.ConfusionMatrixDisplay at 0x2a3fed41640>"
            ]
          },
          "metadata": {},
          "execution_count": 66
        },
        {
          "output_type": "display_data",
          "data": {
            "image/png": "[encoded data removed]",
            "text/plain": [
              "<Figure size 432x288 with 2 Axes>"
            ]
          },
          "metadata": {
            "needs_background": "light"
          }
        }
      ],
      "metadata": {
        "colab": {
          "base_uri": "https://localhost:8080/",
          "height": 296
        },
        "id": "EHqEHVRoUYZ0",
        "outputId": "1c4fe475-0f06-4532-e3fe-1a71035a5e87"
      }
    },
    {
      "cell_type": "code",
      "execution_count": 67,
      "source": [
        "from sklearn import metrics\n",
        "print(\"Accuracy:\",metrics.accuracy_score(y_test, y_pred_tree))\n",
        "print(\"Precision\",metrics.precision_score(y_test,y_pred_tree))\n",
        "print(\"Recall\",metrics.recall_score(y_test,y_pred_tree))\n",
        "print(\"f1_score\",metrics.f1_score(y_test,y_pred_tree))"
      ],
      "outputs": [
        {
          "output_type": "stream",
          "name": "stdout",
          "text": [
            "Accuracy: 0.7950780880265026\n",
            "Precision 0.6455399061032864\n",
            "Recall 0.49371633752244165\n",
            "f1_score 0.5595116988809766\n"
          ]
        }
      ],
      "metadata": {
        "colab": {
          "base_uri": "https://localhost:8080/"
        },
        "id": "4PZRKCnqUYZ1",
        "outputId": "04ab4bcd-569a-43cf-fb3e-0c605686a91c"
      }
    },
    {
      "cell_type": "code",
      "execution_count": 68,
      "source": [
        "metrics.plot_confusion_matrix(dtree,X_all,Y)"
      ],
      "outputs": [
        {
          "output_type": "execute_result",
          "data": {
            "text/plain": [
              "<sklearn.metrics._plot.confusion_matrix.ConfusionMatrixDisplay at 0x2a381439250>"
            ]
          },
          "metadata": {},
          "execution_count": 68
        },
        {
          "output_type": "display_data",
          "data": {
            "image/png": "[encoded data removed]",
            "text/plain": [
              "<Figure size 432x288 with 2 Axes>"
            ]
          },
          "metadata": {
            "needs_background": "light"
          }
        }
      ],
      "metadata": {
        "colab": {
          "base_uri": "https://localhost:8080/",
          "height": 296
        },
        "id": "uKITX0fEUYZ2",
        "outputId": "d164ad77-6456-4373-d1ba-81df14d48a81"
      }
    },
    {
      "cell_type": "code",
      "execution_count": 69,
      "source": [
        "from sklearn import metrics\n",
        "print(\"Accuracy:\",metrics.accuracy_score(y_test, y_pred_rf))\n",
        "print(\"Precision\",metrics.precision_score(y_test,y_pred_rf))\n",
        "print(\"Recall\",metrics.recall_score(y_test,y_pred_rf))\n",
        "print(\"f1_score\",metrics.f1_score(y_test,y_pred_rf))"
      ],
      "outputs": [
        {
          "output_type": "stream",
          "name": "stdout",
          "text": [
            "Accuracy: 0.7983909133932797\n",
            "Precision 0.6641604010025063\n",
            "Recall 0.4757630161579892\n",
            "f1_score 0.5543933054393305\n"
          ]
        }
      ],
      "metadata": {
        "colab": {
          "base_uri": "https://localhost:8080/"
        },
        "id": "cboU3FRxUYZ4",
        "outputId": "ce08a7df-1a8c-4e90-fe47-e3888cf1be72"
      }
    },
    {
      "cell_type": "code",
      "execution_count": 70,
      "source": [
        "metrics.plot_confusion_matrix(rf,X_all,Y)"
      ],
      "outputs": [
        {
          "output_type": "execute_result",
          "data": {
            "text/plain": [
              "<sklearn.metrics._plot.confusion_matrix.ConfusionMatrixDisplay at 0x2a3801eb190>"
            ]
          },
          "metadata": {},
          "execution_count": 70
        },
        {
          "output_type": "display_data",
          "data": {
            "image/png": "[encoded data removed]",
            "text/plain": [
              "<Figure size 432x288 with 2 Axes>"
            ]
          },
          "metadata": {
            "needs_background": "light"
          }
        }
      ],
      "metadata": {
        "colab": {
          "base_uri": "https://localhost:8080/",
          "height": 296
        },
        "id": "dRQ4u5ypUYZ6",
        "outputId": "39c9ada5-abf5-4fad-cd6f-7bde246e7f0b"
      }
    },
    {
      "cell_type": "code",
      "execution_count": 71,
      "source": [
        "from sklearn import metrics\n",
        "print(\"Accuracy:\",metrics.accuracy_score(y_test, y_pred_gbm))\n",
        "print(\"Precision\",metrics.precision_score(y_test,y_pred_gbm))\n",
        "print(\"Recall\",metrics.recall_score(y_test,y_pred_gbm))\n",
        "print(\"f1_score\",metrics.f1_score(y_test,y_pred_gbm))"
      ],
      "outputs": [
        {
          "output_type": "stream",
          "name": "stdout",
          "text": [
            "Accuracy: 0.7974443918599148\n",
            "Precision 0.6423841059602649\n",
            "Recall 0.5224416517055656\n",
            "f1_score 0.5762376237623762\n"
          ]
        }
      ],
      "metadata": {
        "colab": {
          "base_uri": "https://localhost:8080/"
        },
        "id": "sxZmsRw6UYZ7",
        "outputId": "6b49524f-5106-4b60-d7a0-a9f59aad7b66"
      }
    },
    {
      "cell_type": "code",
      "execution_count": 72,
      "source": [
        "metrics.plot_confusion_matrix(gbm,X_all,Y)"
      ],
      "outputs": [
        {
          "output_type": "execute_result",
          "data": {
            "text/plain": [
              "<sklearn.metrics._plot.confusion_matrix.ConfusionMatrixDisplay at 0x2a38154e880>"
            ]
          },
          "metadata": {},
          "execution_count": 72
        },
        {
          "output_type": "display_data",
          "data": {
            "image/png": "[encoded data removed]",
            "text/plain": [
              "<Figure size 432x288 with 2 Axes>"
            ]
          },
          "metadata": {
            "needs_background": "light"
          }
        }
      ],
      "metadata": {
        "scrolled": true,
        "colab": {
          "base_uri": "https://localhost:8080/",
          "height": 296
        },
        "id": "iRADu1lSUYZ9",
        "outputId": "6974293b-df1f-4348-8607-55938f77388d"
      }
    },
    {
      "cell_type": "code",
      "execution_count": 73,
      "source": [
        "from sklearn import metrics\n",
        "print(\"Accuracy:\",metrics.accuracy_score(y_test, y_pred_stacking))\n",
        "print(\"Precision\",metrics.precision_score(y_test,y_pred_stacking))\n",
        "print(\"Recall\",metrics.recall_score(y_test,y_pred_stacking))\n",
        "print(\"f1_score\",metrics.f1_score(y_test,y_pred_stacking))"
      ],
      "outputs": [
        {
          "output_type": "stream",
          "name": "stdout",
          "text": [
            "Accuracy: 0.8007572172266919\n",
            "Precision 0.6552511415525114\n",
            "Recall 0.5152603231597845\n",
            "f1_score 0.5768844221105527\n"
          ]
        }
      ],
      "metadata": {
        "colab": {
          "base_uri": "https://localhost:8080/"
        },
        "id": "Zndbfva3UYZ_",
        "outputId": "c9973176-ecdc-4d09-e24c-9c0e38510f68"
      }
    },
    {
      "cell_type": "code",
      "execution_count": 74,
      "source": [
        "metrics.plot_confusion_matrix(clf,X_all,Y)"
      ],
      "outputs": [
        {
          "output_type": "execute_result",
          "data": {
            "text/plain": [
              "<sklearn.metrics._plot.confusion_matrix.ConfusionMatrixDisplay at 0x2a381578370>"
            ]
          },
          "metadata": {},
          "execution_count": 74
        },
        {
          "output_type": "display_data",
          "data": {
            "image/png": "[encoded data removed]",
            "text/plain": [
              "<Figure size 432x288 with 2 Axes>"
            ]
          },
          "metadata": {
            "needs_background": "light"
          }
        }
      ],
      "metadata": {
        "colab": {
          "base_uri": "https://localhost:8080/",
          "height": 296
        },
        "id": "CVxpr6xYUYaA",
        "outputId": "11ba9578-0e7a-4a54-e2fe-742ffdc51f57"
      }
    },
    {
      "cell_type": "markdown",
      "source": [
        "# Lorenz Curve"
      ],
      "metadata": {
        "id": "UvwdVoiQmiJ_"
      }
    },
    {
      "cell_type": "code",
      "execution_count": 75,
      "source": [
        "# Decsion Tree Lorenz Curve"
      ],
      "outputs": [],
      "metadata": {
        "id": "1OsPe_TpUYaA"
      }
    },
    {
      "cell_type": "code",
      "execution_count": 76,
      "source": [
        "y_pred_prob = logreg.predict_proba(X_all)[:, 1]\n",
        "df['pred_prob_logreg']=pd.DataFrame(y_pred_prob)\n",
        "df['P_Rank_logreg']=pd.qcut(df['pred_prob_logreg'].rank(method='first').values,10,duplicates='drop').codes+1\n",
        "rank_df_actuals=df.groupby('P_Rank_logreg')['target'].agg(['count','mean'])\n",
        "rank_df_predicted=df.groupby('P_Rank_logreg')['pred_prob_logreg'].agg(['mean'])\n",
        "rank_df_actuals=pd.DataFrame(rank_df_actuals)\n",
        "\n",
        "rank_df_actuals.rename(columns={'mean':'Actual_event_rate'},inplace=True)\n",
        "rank_df_predicted=pd.DataFrame(rank_df_predicted)\n",
        "rank_df_predicted.rename(columns={'mean':'Predicted_event_rate'},inplace=True)\n",
        "rank_df=pd.concat([rank_df_actuals,rank_df_predicted],axis=1,join=\"inner\")\n",
        "\n",
        "sorted_rank_df=rank_df.sort_values(by='P_Rank_logreg',ascending=False)\n",
        "sorted_rank_df['N_events']=rank_df['count']*rank_df['Actual_event_rate']\n",
        "sorted_rank_df['cum_events']=sorted_rank_df['N_events'].cumsum()\n",
        "sorted_rank_df['event_cap']=sorted_rank_df['N_events']/max(sorted_rank_df['N_events'].cumsum())\n",
        "sorted_rank_df['cum_event_cap']=sorted_rank_df['event_cap'].cumsum()\n",
        "\n",
        "sorted_rank_df['N_non_events']=sorted_rank_df['count']-sorted_rank_df['N_events']\n",
        "sorted_rank_df['cum_non_events']=sorted_rank_df['N_non_events'].cumsum()\n",
        "sorted_rank_df['non_event_cap']=sorted_rank_df['N_non_events']/max(sorted_rank_df['N_non_events'].cumsum())\n",
        "sorted_rank_df['cum_non_event_cap']=sorted_rank_df['non_event_cap'].cumsum()\n",
        "\n",
        "sorted_rank_df['KS']=round((sorted_rank_df['cum_event_cap']-sorted_rank_df['cum_non_event_cap']),4)\n",
        "\n",
        "sorted_rank_df['random_cap']=sorted_rank_df['count']/max(sorted_rank_df['count'].cumsum())\n",
        "sorted_rank_df['cum_random_cap']=sorted_rank_df['random_cap'].cumsum()\n",
        "sorted_reindexed=sorted_rank_df.reset_index()\n",
        "sorted_reindexed['Decile']=sorted_reindexed.index+1\n",
        "sorted_reindexed"
      ],
      "outputs": [
        {
          "output_type": "execute_result",
          "data": {
            "text/html": [
              "<div>\n",
              "<style scoped>\n",
              "    .dataframe tbody tr th:only-of-type {\n",
              "        vertical-align: middle;\n",
              "    }\n",
              "\n",
              "    .dataframe tbody tr th {\n",
              "        vertical-align: top;\n",
              "    }\n",
              "\n",
              "    .dataframe thead th {\n",
              "        text-align: right;\n",
              "    }\n",
              "</style>\n",
              "<table border=\"1\" class=\"dataframe\">\n",
              "  <thead>\n",
              "    <tr style=\"text-align: right;\">\n",
              "      <th></th>\n",
              "      <th>P_Rank_logreg</th>\n",
              "      <th>count</th>\n",
              "      <th>Actual_event_rate</th>\n",
              "      <th>Predicted_event_rate</th>\n",
              "      <th>N_events</th>\n",
              "      <th>cum_events</th>\n",
              "      <th>event_cap</th>\n",
              "      <th>cum_event_cap</th>\n",
              "      <th>N_non_events</th>\n",
              "      <th>cum_non_events</th>\n",
              "      <th>non_event_cap</th>\n",
              "      <th>cum_non_event_cap</th>\n",
              "      <th>KS</th>\n",
              "      <th>random_cap</th>\n",
              "      <th>cum_random_cap</th>\n",
              "      <th>Decile</th>\n",
              "    </tr>\n",
              "  </thead>\n",
              "  <tbody>\n",
              "    <tr>\n",
              "      <th>0</th>\n",
              "      <td>10</td>\n",
              "      <td>705</td>\n",
              "      <td>0.758865</td>\n",
              "      <td>0.734978</td>\n",
              "      <td>535.0</td>\n",
              "      <td>535.0</td>\n",
              "      <td>0.286249</td>\n",
              "      <td>0.286249</td>\n",
              "      <td>170.0</td>\n",
              "      <td>170.0</td>\n",
              "      <td>0.032857</td>\n",
              "      <td>0.032857</td>\n",
              "      <td>0.2534</td>\n",
              "      <td>0.100099</td>\n",
              "      <td>0.100099</td>\n",
              "      <td>1</td>\n",
              "    </tr>\n",
              "    <tr>\n",
              "      <th>1</th>\n",
              "      <td>9</td>\n",
              "      <td>704</td>\n",
              "      <td>0.575284</td>\n",
              "      <td>0.594199</td>\n",
              "      <td>405.0</td>\n",
              "      <td>940.0</td>\n",
              "      <td>0.216693</td>\n",
              "      <td>0.502943</td>\n",
              "      <td>299.0</td>\n",
              "      <td>469.0</td>\n",
              "      <td>0.057789</td>\n",
              "      <td>0.090646</td>\n",
              "      <td>0.4123</td>\n",
              "      <td>0.099957</td>\n",
              "      <td>0.200057</td>\n",
              "      <td>2</td>\n",
              "    </tr>\n",
              "    <tr>\n",
              "      <th>2</th>\n",
              "      <td>8</td>\n",
              "      <td>704</td>\n",
              "      <td>0.441761</td>\n",
              "      <td>0.459874</td>\n",
              "      <td>311.0</td>\n",
              "      <td>1251.0</td>\n",
              "      <td>0.166399</td>\n",
              "      <td>0.669342</td>\n",
              "      <td>393.0</td>\n",
              "      <td>862.0</td>\n",
              "      <td>0.075957</td>\n",
              "      <td>0.166602</td>\n",
              "      <td>0.5027</td>\n",
              "      <td>0.099957</td>\n",
              "      <td>0.300014</td>\n",
              "      <td>3</td>\n",
              "    </tr>\n",
              "    <tr>\n",
              "      <th>3</th>\n",
              "      <td>7</td>\n",
              "      <td>704</td>\n",
              "      <td>0.305398</td>\n",
              "      <td>0.328381</td>\n",
              "      <td>215.0</td>\n",
              "      <td>1466.0</td>\n",
              "      <td>0.115035</td>\n",
              "      <td>0.784377</td>\n",
              "      <td>489.0</td>\n",
              "      <td>1351.0</td>\n",
              "      <td>0.094511</td>\n",
              "      <td>0.261113</td>\n",
              "      <td>0.5233</td>\n",
              "      <td>0.099957</td>\n",
              "      <td>0.399972</td>\n",
              "      <td>4</td>\n",
              "    </tr>\n",
              "    <tr>\n",
              "      <th>4</th>\n",
              "      <td>6</td>\n",
              "      <td>704</td>\n",
              "      <td>0.228693</td>\n",
              "      <td>0.218736</td>\n",
              "      <td>161.0</td>\n",
              "      <td>1627.0</td>\n",
              "      <td>0.086142</td>\n",
              "      <td>0.870519</td>\n",
              "      <td>543.0</td>\n",
              "      <td>1894.0</td>\n",
              "      <td>0.104948</td>\n",
              "      <td>0.366061</td>\n",
              "      <td>0.5045</td>\n",
              "      <td>0.099957</td>\n",
              "      <td>0.499929</td>\n",
              "      <td>5</td>\n",
              "    </tr>\n",
              "    <tr>\n",
              "      <th>5</th>\n",
              "      <td>5</td>\n",
              "      <td>705</td>\n",
              "      <td>0.160284</td>\n",
              "      <td>0.145551</td>\n",
              "      <td>113.0</td>\n",
              "      <td>1740.0</td>\n",
              "      <td>0.060460</td>\n",
              "      <td>0.930979</td>\n",
              "      <td>592.0</td>\n",
              "      <td>2486.0</td>\n",
              "      <td>0.114418</td>\n",
              "      <td>0.480479</td>\n",
              "      <td>0.4505</td>\n",
              "      <td>0.100099</td>\n",
              "      <td>0.600028</td>\n",
              "      <td>6</td>\n",
              "    </tr>\n",
              "    <tr>\n",
              "      <th>6</th>\n",
              "      <td>4</td>\n",
              "      <td>704</td>\n",
              "      <td>0.090909</td>\n",
              "      <td>0.091718</td>\n",
              "      <td>64.0</td>\n",
              "      <td>1804.0</td>\n",
              "      <td>0.034243</td>\n",
              "      <td>0.965222</td>\n",
              "      <td>640.0</td>\n",
              "      <td>3126.0</td>\n",
              "      <td>0.123695</td>\n",
              "      <td>0.604175</td>\n",
              "      <td>0.3610</td>\n",
              "      <td>0.099957</td>\n",
              "      <td>0.699986</td>\n",
              "      <td>7</td>\n",
              "    </tr>\n",
              "    <tr>\n",
              "      <th>7</th>\n",
              "      <td>3</td>\n",
              "      <td>704</td>\n",
              "      <td>0.052557</td>\n",
              "      <td>0.051707</td>\n",
              "      <td>37.0</td>\n",
              "      <td>1841.0</td>\n",
              "      <td>0.019797</td>\n",
              "      <td>0.985019</td>\n",
              "      <td>667.0</td>\n",
              "      <td>3793.0</td>\n",
              "      <td>0.128914</td>\n",
              "      <td>0.733089</td>\n",
              "      <td>0.2519</td>\n",
              "      <td>0.099957</td>\n",
              "      <td>0.799943</td>\n",
              "      <td>8</td>\n",
              "    </tr>\n",
              "    <tr>\n",
              "      <th>8</th>\n",
              "      <td>2</td>\n",
              "      <td>704</td>\n",
              "      <td>0.024148</td>\n",
              "      <td>0.024314</td>\n",
              "      <td>17.0</td>\n",
              "      <td>1858.0</td>\n",
              "      <td>0.009096</td>\n",
              "      <td>0.994114</td>\n",
              "      <td>687.0</td>\n",
              "      <td>4480.0</td>\n",
              "      <td>0.132779</td>\n",
              "      <td>0.865868</td>\n",
              "      <td>0.1282</td>\n",
              "      <td>0.099957</td>\n",
              "      <td>0.899901</td>\n",
              "      <td>9</td>\n",
              "    </tr>\n",
              "    <tr>\n",
              "      <th>9</th>\n",
              "      <td>1</td>\n",
              "      <td>705</td>\n",
              "      <td>0.015603</td>\n",
              "      <td>0.007843</td>\n",
              "      <td>11.0</td>\n",
              "      <td>1869.0</td>\n",
              "      <td>0.005886</td>\n",
              "      <td>1.000000</td>\n",
              "      <td>694.0</td>\n",
              "      <td>5174.0</td>\n",
              "      <td>0.134132</td>\n",
              "      <td>1.000000</td>\n",
              "      <td>0.0000</td>\n",
              "      <td>0.100099</td>\n",
              "      <td>1.000000</td>\n",
              "      <td>10</td>\n",
              "    </tr>\n",
              "  </tbody>\n",
              "</table>\n",
              "</div>"
            ],
            "text/plain": [
              "   P_Rank_logreg  count  Actual_event_rate  Predicted_event_rate  N_events  \\\n",
              "0             10    705           0.758865              0.734978     535.0   \n",
              "1              9    704           0.575284              0.594199     405.0   \n",
              "2              8    704           0.441761              0.459874     311.0   \n",
              "3              7    704           0.305398              0.328381     215.0   \n",
              "4              6    704           0.228693              0.218736     161.0   \n",
              "5              5    705           0.160284              0.145551     113.0   \n",
              "6              4    704           0.090909              0.091718      64.0   \n",
              "7              3    704           0.052557              0.051707      37.0   \n",
              "8              2    704           0.024148              0.024314      17.0   \n",
              "9              1    705           0.015603              0.007843      11.0   \n",
              "\n",
              "   cum_events  event_cap  cum_event_cap  N_non_events  cum_non_events  \\\n",
              "0       535.0   0.286249       0.286249         170.0           170.0   \n",
              "1       940.0   0.216693       0.502943         299.0           469.0   \n",
              "2      1251.0   0.166399       0.669342         393.0           862.0   \n",
              "3      1466.0   0.115035       0.784377         489.0          1351.0   \n",
              "4      1627.0   0.086142       0.870519         543.0          1894.0   \n",
              "5      1740.0   0.060460       0.930979         592.0          2486.0   \n",
              "6      1804.0   0.034243       0.965222         640.0          3126.0   \n",
              "7      1841.0   0.019797       0.985019         667.0          3793.0   \n",
              "8      1858.0   0.009096       0.994114         687.0          4480.0   \n",
              "9      1869.0   0.005886       1.000000         694.0          5174.0   \n",
              "\n",
              "   non_event_cap  cum_non_event_cap      KS  random_cap  cum_random_cap  \\\n",
              "0       0.032857           0.032857  0.2534    0.100099        0.100099   \n",
              "1       0.057789           0.090646  0.4123    0.099957        0.200057   \n",
              "2       0.075957           0.166602  0.5027    0.099957        0.300014   \n",
              "3       0.094511           0.261113  0.5233    0.099957        0.399972   \n",
              "4       0.104948           0.366061  0.5045    0.099957        0.499929   \n",
              "5       0.114418           0.480479  0.4505    0.100099        0.600028   \n",
              "6       0.123695           0.604175  0.3610    0.099957        0.699986   \n",
              "7       0.128914           0.733089  0.2519    0.099957        0.799943   \n",
              "8       0.132779           0.865868  0.1282    0.099957        0.899901   \n",
              "9       0.134132           1.000000  0.0000    0.100099        1.000000   \n",
              "\n",
              "   Decile  \n",
              "0       1  \n",
              "1       2  \n",
              "2       3  \n",
              "3       4  \n",
              "4       5  \n",
              "5       6  \n",
              "6       7  \n",
              "7       8  \n",
              "8       9  \n",
              "9      10  "
            ]
          },
          "metadata": {},
          "execution_count": 76
        }
      ],
      "metadata": {
        "scrolled": false,
        "colab": {
          "base_uri": "https://localhost:8080/",
          "height": 379
        },
        "id": "Agg2DkdrUYaA",
        "outputId": "f658ca49-a204-4fb9-a850-6b5ca048caa8"
      }
    },
    {
      "cell_type": "code",
      "execution_count": 77,
      "source": [
        "ax = sns.lineplot( x=\"Decile\", y=\"cum_random_cap\", data=sorted_reindexed,color='red')\n",
        "ax = sns.lineplot( x=\"Decile\", y=\"cum_event_cap\", data=sorted_reindexed,color='grey')"
      ],
      "outputs": [
        {
          "output_type": "display_data",
          "data": {
            "image/png": "[encoded data removed]",
            "text/plain": [
              "<Figure size 432x288 with 1 Axes>"
            ]
          },
          "metadata": {
            "needs_background": "light"
          }
        }
      ],
      "metadata": {
        "scrolled": true,
        "colab": {
          "base_uri": "https://localhost:8080/",
          "height": 279
        },
        "id": "5vJRNVoZUYaB",
        "outputId": "404a3144-e4bd-42ed-a67f-1f29c134c15c"
      }
    },
    {
      "cell_type": "code",
      "execution_count": 78,
      "source": [
        "y_pred_prob = dtree.predict_proba(X_all)[:, 1]\n",
        "df['pred_prob_dtree']=pd.DataFrame(y_pred_prob)\n",
        "df['P_Rank_tree']=pd.qcut(df['pred_prob_dtree'].rank(method='first').values,10,duplicates='drop').codes+1\n",
        "rank_df_actuals=df.groupby('P_Rank_tree')['target'].agg(['count','mean'])\n",
        "rank_df_predicted=df.groupby('P_Rank_tree')['pred_prob_dtree'].agg(['mean'])\n",
        "rank_df_actuals=pd.DataFrame(rank_df_actuals)\n",
        "\n",
        "rank_df_actuals.rename(columns={'mean':'Actutal_event_rate'},inplace=True)\n",
        "rank_df_predicted=pd.DataFrame(rank_df_predicted)\n",
        "rank_df_predicted.rename(columns={'mean':'Predicted_event_rate'},inplace=True)\n",
        "rank_df=pd.concat([rank_df_actuals,rank_df_predicted],axis=1,join=\"inner\")\n",
        "\n",
        "sorted_rank_df=rank_df.sort_values(by='P_Rank_tree',ascending=False)\n",
        "sorted_rank_df['N_events']=rank_df['count']*rank_df['Actutal_event_rate']\n",
        "sorted_rank_df['cum_events']=sorted_rank_df['N_events'].cumsum()\n",
        "sorted_rank_df['event_cap']=sorted_rank_df['N_events']/max(sorted_rank_df['N_events'].cumsum())\n",
        "sorted_rank_df['cum_event_cap']=sorted_rank_df['event_cap'].cumsum()\n",
        "\n",
        "sorted_rank_df['N_non_events']=sorted_rank_df['count']-sorted_rank_df['N_events']\n",
        "sorted_rank_df['cum_non_events']=sorted_rank_df['N_non_events'].cumsum()\n",
        "sorted_rank_df['non_event_cap']=sorted_rank_df['N_non_events']/max(sorted_rank_df['N_non_events'].cumsum())\n",
        "sorted_rank_df['cum_non_event_cap']=sorted_rank_df['non_event_cap'].cumsum()\n",
        "\n",
        "sorted_rank_df['KS']=round((sorted_rank_df['cum_event_cap']-sorted_rank_df['cum_non_event_cap']),4)\n",
        "\n",
        "sorted_rank_df['random_cap']=sorted_rank_df['count']/max(sorted_rank_df['count'].cumsum())\n",
        "sorted_rank_df['cum_random_cap']=sorted_rank_df['random_cap'].cumsum()\n",
        "sorted_reindexed=sorted_rank_df.reset_index()\n",
        "sorted_reindexed['Decile']=sorted_reindexed.index+1\n",
        "sorted_reindexed"
      ],
      "outputs": [
        {
          "output_type": "execute_result",
          "data": {
            "text/html": [
              "<div>\n",
              "<style scoped>\n",
              "    .dataframe tbody tr th:only-of-type {\n",
              "        vertical-align: middle;\n",
              "    }\n",
              "\n",
              "    .dataframe tbody tr th {\n",
              "        vertical-align: top;\n",
              "    }\n",
              "\n",
              "    .dataframe thead th {\n",
              "        text-align: right;\n",
              "    }\n",
              "</style>\n",
              "<table border=\"1\" class=\"dataframe\">\n",
              "  <thead>\n",
              "    <tr style=\"text-align: right;\">\n",
              "      <th></th>\n",
              "      <th>P_Rank_tree</th>\n",
              "      <th>count</th>\n",
              "      <th>Actutal_event_rate</th>\n",
              "      <th>Predicted_event_rate</th>\n",
              "      <th>N_events</th>\n",
              "      <th>cum_events</th>\n",
              "      <th>event_cap</th>\n",
              "      <th>cum_event_cap</th>\n",
              "      <th>N_non_events</th>\n",
              "      <th>cum_non_events</th>\n",
              "      <th>non_event_cap</th>\n",
              "      <th>cum_non_event_cap</th>\n",
              "      <th>KS</th>\n",
              "      <th>random_cap</th>\n",
              "      <th>cum_random_cap</th>\n",
              "      <th>Decile</th>\n",
              "    </tr>\n",
              "  </thead>\n",
              "  <tbody>\n",
              "    <tr>\n",
              "      <th>0</th>\n",
              "      <td>10</td>\n",
              "      <td>705</td>\n",
              "      <td>0.757447</td>\n",
              "      <td>0.775697</td>\n",
              "      <td>534.0</td>\n",
              "      <td>534.0</td>\n",
              "      <td>0.285714</td>\n",
              "      <td>0.285714</td>\n",
              "      <td>171.0</td>\n",
              "      <td>171.0</td>\n",
              "      <td>0.033050</td>\n",
              "      <td>0.033050</td>\n",
              "      <td>0.2527</td>\n",
              "      <td>0.100099</td>\n",
              "      <td>0.100099</td>\n",
              "      <td>1</td>\n",
              "    </tr>\n",
              "    <tr>\n",
              "      <th>1</th>\n",
              "      <td>9</td>\n",
              "      <td>704</td>\n",
              "      <td>0.600852</td>\n",
              "      <td>0.612564</td>\n",
              "      <td>423.0</td>\n",
              "      <td>957.0</td>\n",
              "      <td>0.226324</td>\n",
              "      <td>0.512039</td>\n",
              "      <td>281.0</td>\n",
              "      <td>452.0</td>\n",
              "      <td>0.054310</td>\n",
              "      <td>0.087360</td>\n",
              "      <td>0.4247</td>\n",
              "      <td>0.099957</td>\n",
              "      <td>0.200057</td>\n",
              "      <td>2</td>\n",
              "    </tr>\n",
              "    <tr>\n",
              "      <th>2</th>\n",
              "      <td>8</td>\n",
              "      <td>704</td>\n",
              "      <td>0.420455</td>\n",
              "      <td>0.440659</td>\n",
              "      <td>296.0</td>\n",
              "      <td>1253.0</td>\n",
              "      <td>0.158373</td>\n",
              "      <td>0.670412</td>\n",
              "      <td>408.0</td>\n",
              "      <td>860.0</td>\n",
              "      <td>0.078856</td>\n",
              "      <td>0.166216</td>\n",
              "      <td>0.5042</td>\n",
              "      <td>0.099957</td>\n",
              "      <td>0.300014</td>\n",
              "      <td>3</td>\n",
              "    </tr>\n",
              "    <tr>\n",
              "      <th>3</th>\n",
              "      <td>7</td>\n",
              "      <td>704</td>\n",
              "      <td>0.329545</td>\n",
              "      <td>0.325437</td>\n",
              "      <td>232.0</td>\n",
              "      <td>1485.0</td>\n",
              "      <td>0.124131</td>\n",
              "      <td>0.794543</td>\n",
              "      <td>472.0</td>\n",
              "      <td>1332.0</td>\n",
              "      <td>0.091225</td>\n",
              "      <td>0.257441</td>\n",
              "      <td>0.5371</td>\n",
              "      <td>0.099957</td>\n",
              "      <td>0.399972</td>\n",
              "      <td>4</td>\n",
              "    </tr>\n",
              "    <tr>\n",
              "      <th>4</th>\n",
              "      <td>6</td>\n",
              "      <td>704</td>\n",
              "      <td>0.198864</td>\n",
              "      <td>0.198429</td>\n",
              "      <td>140.0</td>\n",
              "      <td>1625.0</td>\n",
              "      <td>0.074906</td>\n",
              "      <td>0.869449</td>\n",
              "      <td>564.0</td>\n",
              "      <td>1896.0</td>\n",
              "      <td>0.109007</td>\n",
              "      <td>0.366448</td>\n",
              "      <td>0.5030</td>\n",
              "      <td>0.099957</td>\n",
              "      <td>0.499929</td>\n",
              "      <td>5</td>\n",
              "    </tr>\n",
              "    <tr>\n",
              "      <th>5</th>\n",
              "      <td>5</td>\n",
              "      <td>705</td>\n",
              "      <td>0.156028</td>\n",
              "      <td>0.152310</td>\n",
              "      <td>110.0</td>\n",
              "      <td>1735.0</td>\n",
              "      <td>0.058855</td>\n",
              "      <td>0.928304</td>\n",
              "      <td>595.0</td>\n",
              "      <td>2491.0</td>\n",
              "      <td>0.114998</td>\n",
              "      <td>0.481446</td>\n",
              "      <td>0.4469</td>\n",
              "      <td>0.100099</td>\n",
              "      <td>0.600028</td>\n",
              "      <td>6</td>\n",
              "    </tr>\n",
              "    <tr>\n",
              "      <th>6</th>\n",
              "      <td>4</td>\n",
              "      <td>704</td>\n",
              "      <td>0.120739</td>\n",
              "      <td>0.101395</td>\n",
              "      <td>85.0</td>\n",
              "      <td>1820.0</td>\n",
              "      <td>0.045479</td>\n",
              "      <td>0.973783</td>\n",
              "      <td>619.0</td>\n",
              "      <td>3110.0</td>\n",
              "      <td>0.119637</td>\n",
              "      <td>0.601082</td>\n",
              "      <td>0.3727</td>\n",
              "      <td>0.099957</td>\n",
              "      <td>0.699986</td>\n",
              "      <td>7</td>\n",
              "    </tr>\n",
              "    <tr>\n",
              "      <th>7</th>\n",
              "      <td>3</td>\n",
              "      <td>704</td>\n",
              "      <td>0.041193</td>\n",
              "      <td>0.039016</td>\n",
              "      <td>29.0</td>\n",
              "      <td>1849.0</td>\n",
              "      <td>0.015516</td>\n",
              "      <td>0.989299</td>\n",
              "      <td>675.0</td>\n",
              "      <td>3785.0</td>\n",
              "      <td>0.130460</td>\n",
              "      <td>0.731542</td>\n",
              "      <td>0.2578</td>\n",
              "      <td>0.099957</td>\n",
              "      <td>0.799943</td>\n",
              "      <td>8</td>\n",
              "    </tr>\n",
              "    <tr>\n",
              "      <th>8</th>\n",
              "      <td>2</td>\n",
              "      <td>704</td>\n",
              "      <td>0.017045</td>\n",
              "      <td>0.016893</td>\n",
              "      <td>12.0</td>\n",
              "      <td>1861.0</td>\n",
              "      <td>0.006421</td>\n",
              "      <td>0.995720</td>\n",
              "      <td>692.0</td>\n",
              "      <td>4477.0</td>\n",
              "      <td>0.133746</td>\n",
              "      <td>0.865288</td>\n",
              "      <td>0.1304</td>\n",
              "      <td>0.099957</td>\n",
              "      <td>0.899901</td>\n",
              "      <td>9</td>\n",
              "    </tr>\n",
              "    <tr>\n",
              "      <th>9</th>\n",
              "      <td>1</td>\n",
              "      <td>705</td>\n",
              "      <td>0.011348</td>\n",
              "      <td>0.003096</td>\n",
              "      <td>8.0</td>\n",
              "      <td>1869.0</td>\n",
              "      <td>0.004280</td>\n",
              "      <td>1.000000</td>\n",
              "      <td>697.0</td>\n",
              "      <td>5174.0</td>\n",
              "      <td>0.134712</td>\n",
              "      <td>1.000000</td>\n",
              "      <td>-0.0000</td>\n",
              "      <td>0.100099</td>\n",
              "      <td>1.000000</td>\n",
              "      <td>10</td>\n",
              "    </tr>\n",
              "  </tbody>\n",
              "</table>\n",
              "</div>"
            ],
            "text/plain": [
              "   P_Rank_tree  count  Actutal_event_rate  Predicted_event_rate  N_events  \\\n",
              "0           10    705            0.757447              0.775697     534.0   \n",
              "1            9    704            0.600852              0.612564     423.0   \n",
              "2            8    704            0.420455              0.440659     296.0   \n",
              "3            7    704            0.329545              0.325437     232.0   \n",
              "4            6    704            0.198864              0.198429     140.0   \n",
              "5            5    705            0.156028              0.152310     110.0   \n",
              "6            4    704            0.120739              0.101395      85.0   \n",
              "7            3    704            0.041193              0.039016      29.0   \n",
              "8            2    704            0.017045              0.016893      12.0   \n",
              "9            1    705            0.011348              0.003096       8.0   \n",
              "\n",
              "   cum_events  event_cap  cum_event_cap  N_non_events  cum_non_events  \\\n",
              "0       534.0   0.285714       0.285714         171.0           171.0   \n",
              "1       957.0   0.226324       0.512039         281.0           452.0   \n",
              "2      1253.0   0.158373       0.670412         408.0           860.0   \n",
              "3      1485.0   0.124131       0.794543         472.0          1332.0   \n",
              "4      1625.0   0.074906       0.869449         564.0          1896.0   \n",
              "5      1735.0   0.058855       0.928304         595.0          2491.0   \n",
              "6      1820.0   0.045479       0.973783         619.0          3110.0   \n",
              "7      1849.0   0.015516       0.989299         675.0          3785.0   \n",
              "8      1861.0   0.006421       0.995720         692.0          4477.0   \n",
              "9      1869.0   0.004280       1.000000         697.0          5174.0   \n",
              "\n",
              "   non_event_cap  cum_non_event_cap      KS  random_cap  cum_random_cap  \\\n",
              "0       0.033050           0.033050  0.2527    0.100099        0.100099   \n",
              "1       0.054310           0.087360  0.4247    0.099957        0.200057   \n",
              "2       0.078856           0.166216  0.5042    0.099957        0.300014   \n",
              "3       0.091225           0.257441  0.5371    0.099957        0.399972   \n",
              "4       0.109007           0.366448  0.5030    0.099957        0.499929   \n",
              "5       0.114998           0.481446  0.4469    0.100099        0.600028   \n",
              "6       0.119637           0.601082  0.3727    0.099957        0.699986   \n",
              "7       0.130460           0.731542  0.2578    0.099957        0.799943   \n",
              "8       0.133746           0.865288  0.1304    0.099957        0.899901   \n",
              "9       0.134712           1.000000 -0.0000    0.100099        1.000000   \n",
              "\n",
              "   Decile  \n",
              "0       1  \n",
              "1       2  \n",
              "2       3  \n",
              "3       4  \n",
              "4       5  \n",
              "5       6  \n",
              "6       7  \n",
              "7       8  \n",
              "8       9  \n",
              "9      10  "
            ]
          },
          "metadata": {},
          "execution_count": 78
        }
      ],
      "metadata": {
        "colab": {
          "base_uri": "https://localhost:8080/",
          "height": 379
        },
        "id": "NrVs00O5UYaB",
        "outputId": "6230be28-d90c-49e9-b808-a1c109335ed2"
      }
    },
    {
      "cell_type": "code",
      "execution_count": 79,
      "source": [
        "ax = sns.lineplot( x=\"Decile\", y=\"cum_random_cap\", data=sorted_reindexed,color='red')\n",
        "ax = sns.lineplot( x=\"Decile\", y=\"cum_event_cap\", data=sorted_reindexed,color='grey')"
      ],
      "outputs": [
        {
          "output_type": "display_data",
          "data": {
            "image/png": "[encoded data removed]",
            "text/plain": [
              "<Figure size 432x288 with 1 Axes>"
            ]
          },
          "metadata": {
            "needs_background": "light"
          }
        }
      ],
      "metadata": {
        "colab": {
          "base_uri": "https://localhost:8080/",
          "height": 279
        },
        "id": "1Vn7uqnAUYaC",
        "outputId": "c13d7b13-184c-4a85-b311-6a38d97fd70c"
      }
    },
    {
      "cell_type": "code",
      "execution_count": 80,
      "source": [
        "# Random Forest Lorenz Curve"
      ],
      "outputs": [],
      "metadata": {
        "id": "GCN8Q7lOUYaC"
      }
    },
    {
      "cell_type": "code",
      "execution_count": 81,
      "source": [
        "y_pred_prob = rf.predict_proba(X_all)[:, 1]\n",
        "df['pred_prob_rf']=pd.DataFrame(y_pred_prob)\n",
        "df['P_Rank_rf']=pd.qcut(df['pred_prob_rf'].rank(method='first').values,10,duplicates='drop').codes+1\n",
        "rank_df_actuals=df.groupby('P_Rank_rf')['target'].agg(['count','mean'])\n",
        "rank_df_predicted=df.groupby('P_Rank_rf')['pred_prob_rf'].agg(['mean'])\n",
        "rank_df_actuals=pd.DataFrame(rank_df_actuals)\n",
        "\n",
        "rank_df_actuals.rename(columns={'mean':'Actutal_event_rate'},inplace=True)\n",
        "rank_df_predicted=pd.DataFrame(rank_df_predicted)\n",
        "rank_df_predicted.rename(columns={'mean':'Predicted_event_rate'},inplace=True)\n",
        "rank_df=pd.concat([rank_df_actuals,rank_df_predicted],axis=1,join=\"inner\")\n",
        "\n",
        "sorted_rank_df=rank_df.sort_values(by='P_Rank_rf',ascending=False)\n",
        "sorted_rank_df['N_events']=rank_df['count']*rank_df['Actutal_event_rate']\n",
        "sorted_rank_df['cum_events']=sorted_rank_df['N_events'].cumsum()\n",
        "sorted_rank_df['event_cap']=sorted_rank_df['N_events']/max(sorted_rank_df['N_events'].cumsum())\n",
        "sorted_rank_df['cum_event_cap']=sorted_rank_df['event_cap'].cumsum()\n",
        "\n",
        "sorted_rank_df['N_non_events']=sorted_rank_df['count']-sorted_rank_df['N_events']\n",
        "sorted_rank_df['cum_non_events']=sorted_rank_df['N_non_events'].cumsum()\n",
        "sorted_rank_df['non_event_cap']=sorted_rank_df['N_non_events']/max(sorted_rank_df['N_non_events'].cumsum())\n",
        "sorted_rank_df['cum_non_event_cap']=sorted_rank_df['non_event_cap'].cumsum()\n",
        "\n",
        "sorted_rank_df['KS']=round((sorted_rank_df['cum_event_cap']-sorted_rank_df['cum_non_event_cap']),4)\n",
        "\n",
        "sorted_rank_df['random_cap']=sorted_rank_df['count']/max(sorted_rank_df['count'].cumsum())\n",
        "sorted_rank_df['cum_random_cap']=sorted_rank_df['random_cap'].cumsum()\n",
        "sorted_reindexed=sorted_rank_df.reset_index()\n",
        "sorted_reindexed['Decile']=sorted_reindexed.index+1\n",
        "sorted_reindexed"
      ],
      "outputs": [
        {
          "output_type": "execute_result",
          "data": {
            "text/html": [
              "<div>\n",
              "<style scoped>\n",
              "    .dataframe tbody tr th:only-of-type {\n",
              "        vertical-align: middle;\n",
              "    }\n",
              "\n",
              "    .dataframe tbody tr th {\n",
              "        vertical-align: top;\n",
              "    }\n",
              "\n",
              "    .dataframe thead th {\n",
              "        text-align: right;\n",
              "    }\n",
              "</style>\n",
              "<table border=\"1\" class=\"dataframe\">\n",
              "  <thead>\n",
              "    <tr style=\"text-align: right;\">\n",
              "      <th></th>\n",
              "      <th>P_Rank_rf</th>\n",
              "      <th>count</th>\n",
              "      <th>Actutal_event_rate</th>\n",
              "      <th>Predicted_event_rate</th>\n",
              "      <th>N_events</th>\n",
              "      <th>cum_events</th>\n",
              "      <th>event_cap</th>\n",
              "      <th>cum_event_cap</th>\n",
              "      <th>N_non_events</th>\n",
              "      <th>cum_non_events</th>\n",
              "      <th>non_event_cap</th>\n",
              "      <th>cum_non_event_cap</th>\n",
              "      <th>KS</th>\n",
              "      <th>random_cap</th>\n",
              "      <th>cum_random_cap</th>\n",
              "      <th>Decile</th>\n",
              "    </tr>\n",
              "  </thead>\n",
              "  <tbody>\n",
              "    <tr>\n",
              "      <th>0</th>\n",
              "      <td>10</td>\n",
              "      <td>705</td>\n",
              "      <td>0.767376</td>\n",
              "      <td>0.684186</td>\n",
              "      <td>541.0</td>\n",
              "      <td>541.0</td>\n",
              "      <td>0.289460</td>\n",
              "      <td>0.289460</td>\n",
              "      <td>164.0</td>\n",
              "      <td>164.0</td>\n",
              "      <td>0.031697</td>\n",
              "      <td>0.031697</td>\n",
              "      <td>0.2578</td>\n",
              "      <td>0.100099</td>\n",
              "      <td>0.100099</td>\n",
              "      <td>1</td>\n",
              "    </tr>\n",
              "    <tr>\n",
              "      <th>1</th>\n",
              "      <td>9</td>\n",
              "      <td>704</td>\n",
              "      <td>0.596591</td>\n",
              "      <td>0.543542</td>\n",
              "      <td>420.0</td>\n",
              "      <td>961.0</td>\n",
              "      <td>0.224719</td>\n",
              "      <td>0.514179</td>\n",
              "      <td>284.0</td>\n",
              "      <td>448.0</td>\n",
              "      <td>0.054890</td>\n",
              "      <td>0.086587</td>\n",
              "      <td>0.4276</td>\n",
              "      <td>0.099957</td>\n",
              "      <td>0.200057</td>\n",
              "      <td>2</td>\n",
              "    </tr>\n",
              "    <tr>\n",
              "      <th>2</th>\n",
              "      <td>8</td>\n",
              "      <td>704</td>\n",
              "      <td>0.454545</td>\n",
              "      <td>0.426888</td>\n",
              "      <td>320.0</td>\n",
              "      <td>1281.0</td>\n",
              "      <td>0.171215</td>\n",
              "      <td>0.685393</td>\n",
              "      <td>384.0</td>\n",
              "      <td>832.0</td>\n",
              "      <td>0.074217</td>\n",
              "      <td>0.160804</td>\n",
              "      <td>0.5246</td>\n",
              "      <td>0.099957</td>\n",
              "      <td>0.300014</td>\n",
              "      <td>3</td>\n",
              "    </tr>\n",
              "    <tr>\n",
              "      <th>3</th>\n",
              "      <td>7</td>\n",
              "      <td>704</td>\n",
              "      <td>0.322443</td>\n",
              "      <td>0.318193</td>\n",
              "      <td>227.0</td>\n",
              "      <td>1508.0</td>\n",
              "      <td>0.121455</td>\n",
              "      <td>0.806849</td>\n",
              "      <td>477.0</td>\n",
              "      <td>1309.0</td>\n",
              "      <td>0.092192</td>\n",
              "      <td>0.252996</td>\n",
              "      <td>0.5539</td>\n",
              "      <td>0.099957</td>\n",
              "      <td>0.399972</td>\n",
              "      <td>4</td>\n",
              "    </tr>\n",
              "    <tr>\n",
              "      <th>4</th>\n",
              "      <td>6</td>\n",
              "      <td>704</td>\n",
              "      <td>0.220170</td>\n",
              "      <td>0.243803</td>\n",
              "      <td>155.0</td>\n",
              "      <td>1663.0</td>\n",
              "      <td>0.082932</td>\n",
              "      <td>0.889781</td>\n",
              "      <td>549.0</td>\n",
              "      <td>1858.0</td>\n",
              "      <td>0.106107</td>\n",
              "      <td>0.359103</td>\n",
              "      <td>0.5307</td>\n",
              "      <td>0.099957</td>\n",
              "      <td>0.499929</td>\n",
              "      <td>5</td>\n",
              "    </tr>\n",
              "    <tr>\n",
              "      <th>5</th>\n",
              "      <td>5</td>\n",
              "      <td>705</td>\n",
              "      <td>0.126241</td>\n",
              "      <td>0.179210</td>\n",
              "      <td>89.0</td>\n",
              "      <td>1752.0</td>\n",
              "      <td>0.047619</td>\n",
              "      <td>0.937400</td>\n",
              "      <td>616.0</td>\n",
              "      <td>2474.0</td>\n",
              "      <td>0.119057</td>\n",
              "      <td>0.478160</td>\n",
              "      <td>0.4592</td>\n",
              "      <td>0.100099</td>\n",
              "      <td>0.600028</td>\n",
              "      <td>6</td>\n",
              "    </tr>\n",
              "    <tr>\n",
              "      <th>6</th>\n",
              "      <td>4</td>\n",
              "      <td>704</td>\n",
              "      <td>0.096591</td>\n",
              "      <td>0.125750</td>\n",
              "      <td>68.0</td>\n",
              "      <td>1820.0</td>\n",
              "      <td>0.036383</td>\n",
              "      <td>0.973783</td>\n",
              "      <td>636.0</td>\n",
              "      <td>3110.0</td>\n",
              "      <td>0.122922</td>\n",
              "      <td>0.601082</td>\n",
              "      <td>0.3727</td>\n",
              "      <td>0.099957</td>\n",
              "      <td>0.699986</td>\n",
              "      <td>7</td>\n",
              "    </tr>\n",
              "    <tr>\n",
              "      <th>7</th>\n",
              "      <td>3</td>\n",
              "      <td>704</td>\n",
              "      <td>0.048295</td>\n",
              "      <td>0.078972</td>\n",
              "      <td>34.0</td>\n",
              "      <td>1854.0</td>\n",
              "      <td>0.018192</td>\n",
              "      <td>0.991974</td>\n",
              "      <td>670.0</td>\n",
              "      <td>3780.0</td>\n",
              "      <td>0.129494</td>\n",
              "      <td>0.730576</td>\n",
              "      <td>0.2614</td>\n",
              "      <td>0.099957</td>\n",
              "      <td>0.799943</td>\n",
              "      <td>8</td>\n",
              "    </tr>\n",
              "    <tr>\n",
              "      <th>8</th>\n",
              "      <td>2</td>\n",
              "      <td>704</td>\n",
              "      <td>0.019886</td>\n",
              "      <td>0.038930</td>\n",
              "      <td>14.0</td>\n",
              "      <td>1868.0</td>\n",
              "      <td>0.007491</td>\n",
              "      <td>0.999465</td>\n",
              "      <td>690.0</td>\n",
              "      <td>4470.0</td>\n",
              "      <td>0.133359</td>\n",
              "      <td>0.863935</td>\n",
              "      <td>0.1355</td>\n",
              "      <td>0.099957</td>\n",
              "      <td>0.899901</td>\n",
              "      <td>9</td>\n",
              "    </tr>\n",
              "    <tr>\n",
              "      <th>9</th>\n",
              "      <td>1</td>\n",
              "      <td>705</td>\n",
              "      <td>0.001418</td>\n",
              "      <td>0.018429</td>\n",
              "      <td>1.0</td>\n",
              "      <td>1869.0</td>\n",
              "      <td>0.000535</td>\n",
              "      <td>1.000000</td>\n",
              "      <td>704.0</td>\n",
              "      <td>5174.0</td>\n",
              "      <td>0.136065</td>\n",
              "      <td>1.000000</td>\n",
              "      <td>0.0000</td>\n",
              "      <td>0.100099</td>\n",
              "      <td>1.000000</td>\n",
              "      <td>10</td>\n",
              "    </tr>\n",
              "  </tbody>\n",
              "</table>\n",
              "</div>"
            ],
            "text/plain": [
              "   P_Rank_rf  count  Actutal_event_rate  Predicted_event_rate  N_events  \\\n",
              "0         10    705            0.767376              0.684186     541.0   \n",
              "1          9    704            0.596591              0.543542     420.0   \n",
              "2          8    704            0.454545              0.426888     320.0   \n",
              "3          7    704            0.322443              0.318193     227.0   \n",
              "4          6    704            0.220170              0.243803     155.0   \n",
              "5          5    705            0.126241              0.179210      89.0   \n",
              "6          4    704            0.096591              0.125750      68.0   \n",
              "7          3    704            0.048295              0.078972      34.0   \n",
              "8          2    704            0.019886              0.038930      14.0   \n",
              "9          1    705            0.001418              0.018429       1.0   \n",
              "\n",
              "   cum_events  event_cap  cum_event_cap  N_non_events  cum_non_events  \\\n",
              "0       541.0   0.289460       0.289460         164.0           164.0   \n",
              "1       961.0   0.224719       0.514179         284.0           448.0   \n",
              "2      1281.0   0.171215       0.685393         384.0           832.0   \n",
              "3      1508.0   0.121455       0.806849         477.0          1309.0   \n",
              "4      1663.0   0.082932       0.889781         549.0          1858.0   \n",
              "5      1752.0   0.047619       0.937400         616.0          2474.0   \n",
              "6      1820.0   0.036383       0.973783         636.0          3110.0   \n",
              "7      1854.0   0.018192       0.991974         670.0          3780.0   \n",
              "8      1868.0   0.007491       0.999465         690.0          4470.0   \n",
              "9      1869.0   0.000535       1.000000         704.0          5174.0   \n",
              "\n",
              "   non_event_cap  cum_non_event_cap      KS  random_cap  cum_random_cap  \\\n",
              "0       0.031697           0.031697  0.2578    0.100099        0.100099   \n",
              "1       0.054890           0.086587  0.4276    0.099957        0.200057   \n",
              "2       0.074217           0.160804  0.5246    0.099957        0.300014   \n",
              "3       0.092192           0.252996  0.5539    0.099957        0.399972   \n",
              "4       0.106107           0.359103  0.5307    0.099957        0.499929   \n",
              "5       0.119057           0.478160  0.4592    0.100099        0.600028   \n",
              "6       0.122922           0.601082  0.3727    0.099957        0.699986   \n",
              "7       0.129494           0.730576  0.2614    0.099957        0.799943   \n",
              "8       0.133359           0.863935  0.1355    0.099957        0.899901   \n",
              "9       0.136065           1.000000  0.0000    0.100099        1.000000   \n",
              "\n",
              "   Decile  \n",
              "0       1  \n",
              "1       2  \n",
              "2       3  \n",
              "3       4  \n",
              "4       5  \n",
              "5       6  \n",
              "6       7  \n",
              "7       8  \n",
              "8       9  \n",
              "9      10  "
            ]
          },
          "metadata": {},
          "execution_count": 81
        }
      ],
      "metadata": {
        "scrolled": true,
        "colab": {
          "base_uri": "https://localhost:8080/",
          "height": 379
        },
        "id": "bF53XsGWUYaD",
        "outputId": "9aea8b06-5d9e-4c52-c399-96d8c211391c"
      }
    },
    {
      "cell_type": "code",
      "execution_count": 82,
      "source": [
        "ax = sns.lineplot( x=\"Decile\", y=\"cum_random_cap\", data=sorted_reindexed,color='red')\n",
        "ax = sns.lineplot( x=\"Decile\", y=\"cum_event_cap\", data=sorted_reindexed,color='grey')"
      ],
      "outputs": [
        {
          "output_type": "display_data",
          "data": {
            "image/png": "[encoded data removed]",
            "text/plain": [
              "<Figure size 432x288 with 1 Axes>"
            ]
          },
          "metadata": {
            "needs_background": "light"
          }
        }
      ],
      "metadata": {
        "scrolled": true,
        "colab": {
          "base_uri": "https://localhost:8080/",
          "height": 279
        },
        "id": "C78UogJAUYaD",
        "outputId": "8c12dcc8-965d-49ac-8c27-506f1d3a21d6"
      }
    },
    {
      "cell_type": "code",
      "execution_count": 83,
      "source": [
        "y_pred_prob = gbm.predict_proba(X_all)[:, 1]\n",
        "df['pred_prob_gbm']=pd.DataFrame(y_pred_prob)\n",
        "df['P_Rank_GBM']=pd.qcut(df['pred_prob_gbm'].rank(method='first').values,10,duplicates='drop').codes+1\n",
        "rank_df_actuals=df.groupby('P_Rank_GBM')['target'].agg(['count','mean'])\n",
        "rank_df_predicted=df.groupby('P_Rank_GBM')['pred_prob_gbm'].agg(['mean'])\n",
        "rank_df_actuals=pd.DataFrame(rank_df_actuals)\n",
        "\n",
        "rank_df_actuals.rename(columns={'mean':'Actual_event_rate'},inplace=True)\n",
        "rank_df_predicted=pd.DataFrame(rank_df_predicted)\n",
        "rank_df_predicted.rename(columns={'mean':'Predicted_event_rate'},inplace=True)\n",
        "rank_df=pd.concat([rank_df_actuals,rank_df_predicted],axis=1,join=\"inner\")\n",
        "\n",
        "sorted_rank_df=rank_df.sort_values(by='P_Rank_GBM',ascending=False)\n",
        "sorted_rank_df['N_events']=rank_df['count']*rank_df['Actual_event_rate']\n",
        "sorted_rank_df['cum_events']=sorted_rank_df['N_events'].cumsum()\n",
        "sorted_rank_df['event_cap']=sorted_rank_df['N_events']/max(sorted_rank_df['N_events'].cumsum())\n",
        "sorted_rank_df['cum_event_cap']=sorted_rank_df['event_cap'].cumsum()\n",
        "\n",
        "sorted_rank_df['N_non_events']=sorted_rank_df['count']-sorted_rank_df['N_events']\n",
        "sorted_rank_df['cum_non_events']=sorted_rank_df['N_non_events'].cumsum()\n",
        "sorted_rank_df['non_event_cap']=sorted_rank_df['N_non_events']/max(sorted_rank_df['N_non_events'].cumsum())\n",
        "sorted_rank_df['cum_non_event_cap']=sorted_rank_df['non_event_cap'].cumsum()\n",
        "\n",
        "sorted_rank_df['KS']=round((sorted_rank_df['cum_event_cap']-sorted_rank_df['cum_non_event_cap']),4)\n",
        "\n",
        "sorted_rank_df['random_cap']=sorted_rank_df['count']/max(sorted_rank_df['count'].cumsum())\n",
        "sorted_rank_df['cum_random_cap']=sorted_rank_df['random_cap'].cumsum()\n",
        "sorted_reindexed=sorted_rank_df.reset_index()\n",
        "sorted_reindexed['Decile']=sorted_reindexed.index+1\n",
        "sorted_reindexed"
      ],
      "outputs": [
        {
          "output_type": "execute_result",
          "data": {
            "text/html": [
              "<div>\n",
              "<style scoped>\n",
              "    .dataframe tbody tr th:only-of-type {\n",
              "        vertical-align: middle;\n",
              "    }\n",
              "\n",
              "    .dataframe tbody tr th {\n",
              "        vertical-align: top;\n",
              "    }\n",
              "\n",
              "    .dataframe thead th {\n",
              "        text-align: right;\n",
              "    }\n",
              "</style>\n",
              "<table border=\"1\" class=\"dataframe\">\n",
              "  <thead>\n",
              "    <tr style=\"text-align: right;\">\n",
              "      <th></th>\n",
              "      <th>P_Rank_GBM</th>\n",
              "      <th>count</th>\n",
              "      <th>Actual_event_rate</th>\n",
              "      <th>Predicted_event_rate</th>\n",
              "      <th>N_events</th>\n",
              "      <th>cum_events</th>\n",
              "      <th>event_cap</th>\n",
              "      <th>cum_event_cap</th>\n",
              "      <th>N_non_events</th>\n",
              "      <th>cum_non_events</th>\n",
              "      <th>non_event_cap</th>\n",
              "      <th>cum_non_event_cap</th>\n",
              "      <th>KS</th>\n",
              "      <th>random_cap</th>\n",
              "      <th>cum_random_cap</th>\n",
              "      <th>Decile</th>\n",
              "    </tr>\n",
              "  </thead>\n",
              "  <tbody>\n",
              "    <tr>\n",
              "      <th>0</th>\n",
              "      <td>10</td>\n",
              "      <td>705</td>\n",
              "      <td>0.912057</td>\n",
              "      <td>0.813446</td>\n",
              "      <td>643.0</td>\n",
              "      <td>643.0</td>\n",
              "      <td>0.344034</td>\n",
              "      <td>0.344034</td>\n",
              "      <td>62.0</td>\n",
              "      <td>62.0</td>\n",
              "      <td>0.011983</td>\n",
              "      <td>0.011983</td>\n",
              "      <td>0.3321</td>\n",
              "      <td>0.100099</td>\n",
              "      <td>0.100099</td>\n",
              "      <td>1</td>\n",
              "    </tr>\n",
              "    <tr>\n",
              "      <th>1</th>\n",
              "      <td>9</td>\n",
              "      <td>704</td>\n",
              "      <td>0.680398</td>\n",
              "      <td>0.617223</td>\n",
              "      <td>479.0</td>\n",
              "      <td>1122.0</td>\n",
              "      <td>0.256287</td>\n",
              "      <td>0.600321</td>\n",
              "      <td>225.0</td>\n",
              "      <td>287.0</td>\n",
              "      <td>0.043487</td>\n",
              "      <td>0.055470</td>\n",
              "      <td>0.5449</td>\n",
              "      <td>0.099957</td>\n",
              "      <td>0.200057</td>\n",
              "      <td>2</td>\n",
              "    </tr>\n",
              "    <tr>\n",
              "      <th>2</th>\n",
              "      <td>8</td>\n",
              "      <td>704</td>\n",
              "      <td>0.480114</td>\n",
              "      <td>0.458661</td>\n",
              "      <td>338.0</td>\n",
              "      <td>1460.0</td>\n",
              "      <td>0.180845</td>\n",
              "      <td>0.781166</td>\n",
              "      <td>366.0</td>\n",
              "      <td>653.0</td>\n",
              "      <td>0.070738</td>\n",
              "      <td>0.126208</td>\n",
              "      <td>0.6550</td>\n",
              "      <td>0.099957</td>\n",
              "      <td>0.300014</td>\n",
              "      <td>3</td>\n",
              "    </tr>\n",
              "    <tr>\n",
              "      <th>3</th>\n",
              "      <td>7</td>\n",
              "      <td>704</td>\n",
              "      <td>0.275568</td>\n",
              "      <td>0.310075</td>\n",
              "      <td>194.0</td>\n",
              "      <td>1654.0</td>\n",
              "      <td>0.103799</td>\n",
              "      <td>0.884965</td>\n",
              "      <td>510.0</td>\n",
              "      <td>1163.0</td>\n",
              "      <td>0.098570</td>\n",
              "      <td>0.224778</td>\n",
              "      <td>0.6602</td>\n",
              "      <td>0.099957</td>\n",
              "      <td>0.399972</td>\n",
              "      <td>4</td>\n",
              "    </tr>\n",
              "    <tr>\n",
              "      <th>4</th>\n",
              "      <td>6</td>\n",
              "      <td>704</td>\n",
              "      <td>0.157670</td>\n",
              "      <td>0.196081</td>\n",
              "      <td>111.0</td>\n",
              "      <td>1765.0</td>\n",
              "      <td>0.059390</td>\n",
              "      <td>0.944355</td>\n",
              "      <td>593.0</td>\n",
              "      <td>1756.0</td>\n",
              "      <td>0.114612</td>\n",
              "      <td>0.339389</td>\n",
              "      <td>0.6050</td>\n",
              "      <td>0.099957</td>\n",
              "      <td>0.499929</td>\n",
              "      <td>5</td>\n",
              "    </tr>\n",
              "    <tr>\n",
              "      <th>5</th>\n",
              "      <td>5</td>\n",
              "      <td>705</td>\n",
              "      <td>0.073759</td>\n",
              "      <td>0.121384</td>\n",
              "      <td>52.0</td>\n",
              "      <td>1817.0</td>\n",
              "      <td>0.027822</td>\n",
              "      <td>0.972178</td>\n",
              "      <td>653.0</td>\n",
              "      <td>2409.0</td>\n",
              "      <td>0.126208</td>\n",
              "      <td>0.465597</td>\n",
              "      <td>0.5066</td>\n",
              "      <td>0.100099</td>\n",
              "      <td>0.600028</td>\n",
              "      <td>6</td>\n",
              "    </tr>\n",
              "    <tr>\n",
              "      <th>6</th>\n",
              "      <td>4</td>\n",
              "      <td>704</td>\n",
              "      <td>0.038352</td>\n",
              "      <td>0.071405</td>\n",
              "      <td>27.0</td>\n",
              "      <td>1844.0</td>\n",
              "      <td>0.014446</td>\n",
              "      <td>0.986624</td>\n",
              "      <td>677.0</td>\n",
              "      <td>3086.0</td>\n",
              "      <td>0.130847</td>\n",
              "      <td>0.596444</td>\n",
              "      <td>0.3902</td>\n",
              "      <td>0.099957</td>\n",
              "      <td>0.699986</td>\n",
              "      <td>7</td>\n",
              "    </tr>\n",
              "    <tr>\n",
              "      <th>7</th>\n",
              "      <td>3</td>\n",
              "      <td>704</td>\n",
              "      <td>0.026989</td>\n",
              "      <td>0.035787</td>\n",
              "      <td>19.0</td>\n",
              "      <td>1863.0</td>\n",
              "      <td>0.010166</td>\n",
              "      <td>0.996790</td>\n",
              "      <td>685.0</td>\n",
              "      <td>3771.0</td>\n",
              "      <td>0.132393</td>\n",
              "      <td>0.728836</td>\n",
              "      <td>0.2680</td>\n",
              "      <td>0.099957</td>\n",
              "      <td>0.799943</td>\n",
              "      <td>8</td>\n",
              "    </tr>\n",
              "    <tr>\n",
              "      <th>8</th>\n",
              "      <td>2</td>\n",
              "      <td>704</td>\n",
              "      <td>0.007102</td>\n",
              "      <td>0.016955</td>\n",
              "      <td>5.0</td>\n",
              "      <td>1868.0</td>\n",
              "      <td>0.002675</td>\n",
              "      <td>0.999465</td>\n",
              "      <td>699.0</td>\n",
              "      <td>4470.0</td>\n",
              "      <td>0.135099</td>\n",
              "      <td>0.863935</td>\n",
              "      <td>0.1355</td>\n",
              "      <td>0.099957</td>\n",
              "      <td>0.899901</td>\n",
              "      <td>9</td>\n",
              "    </tr>\n",
              "    <tr>\n",
              "      <th>9</th>\n",
              "      <td>1</td>\n",
              "      <td>705</td>\n",
              "      <td>0.001418</td>\n",
              "      <td>0.009773</td>\n",
              "      <td>1.0</td>\n",
              "      <td>1869.0</td>\n",
              "      <td>0.000535</td>\n",
              "      <td>1.000000</td>\n",
              "      <td>704.0</td>\n",
              "      <td>5174.0</td>\n",
              "      <td>0.136065</td>\n",
              "      <td>1.000000</td>\n",
              "      <td>0.0000</td>\n",
              "      <td>0.100099</td>\n",
              "      <td>1.000000</td>\n",
              "      <td>10</td>\n",
              "    </tr>\n",
              "  </tbody>\n",
              "</table>\n",
              "</div>"
            ],
            "text/plain": [
              "   P_Rank_GBM  count  Actual_event_rate  Predicted_event_rate  N_events  \\\n",
              "0          10    705           0.912057              0.813446     643.0   \n",
              "1           9    704           0.680398              0.617223     479.0   \n",
              "2           8    704           0.480114              0.458661     338.0   \n",
              "3           7    704           0.275568              0.310075     194.0   \n",
              "4           6    704           0.157670              0.196081     111.0   \n",
              "5           5    705           0.073759              0.121384      52.0   \n",
              "6           4    704           0.038352              0.071405      27.0   \n",
              "7           3    704           0.026989              0.035787      19.0   \n",
              "8           2    704           0.007102              0.016955       5.0   \n",
              "9           1    705           0.001418              0.009773       1.0   \n",
              "\n",
              "   cum_events  event_cap  cum_event_cap  N_non_events  cum_non_events  \\\n",
              "0       643.0   0.344034       0.344034          62.0            62.0   \n",
              "1      1122.0   0.256287       0.600321         225.0           287.0   \n",
              "2      1460.0   0.180845       0.781166         366.0           653.0   \n",
              "3      1654.0   0.103799       0.884965         510.0          1163.0   \n",
              "4      1765.0   0.059390       0.944355         593.0          1756.0   \n",
              "5      1817.0   0.027822       0.972178         653.0          2409.0   \n",
              "6      1844.0   0.014446       0.986624         677.0          3086.0   \n",
              "7      1863.0   0.010166       0.996790         685.0          3771.0   \n",
              "8      1868.0   0.002675       0.999465         699.0          4470.0   \n",
              "9      1869.0   0.000535       1.000000         704.0          5174.0   \n",
              "\n",
              "   non_event_cap  cum_non_event_cap      KS  random_cap  cum_random_cap  \\\n",
              "0       0.011983           0.011983  0.3321    0.100099        0.100099   \n",
              "1       0.043487           0.055470  0.5449    0.099957        0.200057   \n",
              "2       0.070738           0.126208  0.6550    0.099957        0.300014   \n",
              "3       0.098570           0.224778  0.6602    0.099957        0.399972   \n",
              "4       0.114612           0.339389  0.6050    0.099957        0.499929   \n",
              "5       0.126208           0.465597  0.5066    0.100099        0.600028   \n",
              "6       0.130847           0.596444  0.3902    0.099957        0.699986   \n",
              "7       0.132393           0.728836  0.2680    0.099957        0.799943   \n",
              "8       0.135099           0.863935  0.1355    0.099957        0.899901   \n",
              "9       0.136065           1.000000  0.0000    0.100099        1.000000   \n",
              "\n",
              "   Decile  \n",
              "0       1  \n",
              "1       2  \n",
              "2       3  \n",
              "3       4  \n",
              "4       5  \n",
              "5       6  \n",
              "6       7  \n",
              "7       8  \n",
              "8       9  \n",
              "9      10  "
            ]
          },
          "metadata": {},
          "execution_count": 83
        }
      ],
      "metadata": {
        "scrolled": true,
        "colab": {
          "base_uri": "https://localhost:8080/",
          "height": 379
        },
        "id": "IA1TEbxIUYaD",
        "outputId": "eec8d9ae-8b68-4517-f812-4bb24776da28"
      }
    },
    {
      "cell_type": "code",
      "execution_count": 84,
      "source": [
        "ax = sns.lineplot( x=\"Decile\", y=\"cum_random_cap\", data=sorted_reindexed,color='red')\n",
        "ax = sns.lineplot( x=\"Decile\", y=\"cum_event_cap\", data=sorted_reindexed,color='grey')"
      ],
      "outputs": [
        {
          "output_type": "display_data",
          "data": {
            "image/png": "[encoded data removed]",
            "text/plain": [
              "<Figure size 432x288 with 1 Axes>"
            ]
          },
          "metadata": {
            "needs_background": "light"
          }
        }
      ],
      "metadata": {
        "scrolled": true,
        "colab": {
          "base_uri": "https://localhost:8080/",
          "height": 279
        },
        "id": "3bNPzHfIUYaE",
        "outputId": "1f887e27-dc3d-4a47-c823-effd03207435"
      }
    },
    {
      "cell_type": "code",
      "execution_count": 85,
      "source": [
        "y_pred_prob = clf.predict_proba(X_all)[:, 1]\n",
        "df['pred_prob_stacking']=pd.DataFrame(y_pred_prob)\n",
        "df['P_Rank_stacking']=pd.qcut(df['pred_prob_stacking'].rank(method='first').values,10,duplicates='drop').codes+1\n",
        "rank_df_actuals=df.groupby('P_Rank_stacking')['target'].agg(['count','mean'])\n",
        "rank_df_predicted=df.groupby('P_Rank_stacking')['pred_prob_stacking'].agg(['mean'])\n",
        "rank_df_actuals=pd.DataFrame(rank_df_actuals)\n",
        "\n",
        "rank_df_actuals.rename(columns={'mean':'Actutal_event_rate'},inplace=True)\n",
        "rank_df_predicted=pd.DataFrame(rank_df_predicted)\n",
        "rank_df_predicted.rename(columns={'mean':'Predicted_event_rate'},inplace=True)\n",
        "rank_df=pd.concat([rank_df_actuals,rank_df_predicted],axis=1,join=\"inner\")\n",
        "\n",
        "sorted_rank_df=rank_df.sort_values(by='P_Rank_stacking',ascending=False)\n",
        "sorted_rank_df['N_events']=rank_df['count']*rank_df['Actutal_event_rate']\n",
        "sorted_rank_df['cum_events']=sorted_rank_df['N_events'].cumsum()\n",
        "sorted_rank_df['event_cap']=sorted_rank_df['N_events']/max(sorted_rank_df['N_events'].cumsum())\n",
        "sorted_rank_df['cum_event_cap']=sorted_rank_df['event_cap'].cumsum()\n",
        "\n",
        "sorted_rank_df['N_non_events']=sorted_rank_df['count']-sorted_rank_df['N_events']\n",
        "sorted_rank_df['cum_non_events']=sorted_rank_df['N_non_events'].cumsum()\n",
        "sorted_rank_df['non_event_cap']=sorted_rank_df['N_non_events']/max(sorted_rank_df['N_non_events'].cumsum())\n",
        "sorted_rank_df['cum_non_event_cap']=sorted_rank_df['non_event_cap'].cumsum()\n",
        "\n",
        "sorted_rank_df['KS']=round((sorted_rank_df['cum_event_cap']-sorted_rank_df['cum_non_event_cap']),4)\n",
        "\n",
        "sorted_rank_df['random_cap']=sorted_rank_df['count']/max(sorted_rank_df['count'].cumsum())\n",
        "sorted_rank_df['cum_random_cap']=sorted_rank_df['random_cap'].cumsum()\n",
        "sorted_reindexed=sorted_rank_df.reset_index()\n",
        "sorted_reindexed['Decile']=sorted_reindexed.index+1\n",
        "sorted_reindexed"
      ],
      "outputs": [
        {
          "output_type": "execute_result",
          "data": {
            "text/html": [
              "<div>\n",
              "<style scoped>\n",
              "    .dataframe tbody tr th:only-of-type {\n",
              "        vertical-align: middle;\n",
              "    }\n",
              "\n",
              "    .dataframe tbody tr th {\n",
              "        vertical-align: top;\n",
              "    }\n",
              "\n",
              "    .dataframe thead th {\n",
              "        text-align: right;\n",
              "    }\n",
              "</style>\n",
              "<table border=\"1\" class=\"dataframe\">\n",
              "  <thead>\n",
              "    <tr style=\"text-align: right;\">\n",
              "      <th></th>\n",
              "      <th>P_Rank_stacking</th>\n",
              "      <th>count</th>\n",
              "      <th>Actutal_event_rate</th>\n",
              "      <th>Predicted_event_rate</th>\n",
              "      <th>N_events</th>\n",
              "      <th>cum_events</th>\n",
              "      <th>event_cap</th>\n",
              "      <th>cum_event_cap</th>\n",
              "      <th>N_non_events</th>\n",
              "      <th>cum_non_events</th>\n",
              "      <th>non_event_cap</th>\n",
              "      <th>cum_non_event_cap</th>\n",
              "      <th>KS</th>\n",
              "      <th>random_cap</th>\n",
              "      <th>cum_random_cap</th>\n",
              "      <th>Decile</th>\n",
              "    </tr>\n",
              "  </thead>\n",
              "  <tbody>\n",
              "    <tr>\n",
              "      <th>0</th>\n",
              "      <td>10</td>\n",
              "      <td>705</td>\n",
              "      <td>0.801418</td>\n",
              "      <td>0.778403</td>\n",
              "      <td>565.0</td>\n",
              "      <td>565.0</td>\n",
              "      <td>0.302301</td>\n",
              "      <td>0.302301</td>\n",
              "      <td>140.0</td>\n",
              "      <td>140.0</td>\n",
              "      <td>0.027058</td>\n",
              "      <td>0.027058</td>\n",
              "      <td>0.2752</td>\n",
              "      <td>0.100099</td>\n",
              "      <td>0.100099</td>\n",
              "      <td>1</td>\n",
              "    </tr>\n",
              "    <tr>\n",
              "      <th>1</th>\n",
              "      <td>9</td>\n",
              "      <td>704</td>\n",
              "      <td>0.603693</td>\n",
              "      <td>0.598533</td>\n",
              "      <td>425.0</td>\n",
              "      <td>990.0</td>\n",
              "      <td>0.227394</td>\n",
              "      <td>0.529695</td>\n",
              "      <td>279.0</td>\n",
              "      <td>419.0</td>\n",
              "      <td>0.053923</td>\n",
              "      <td>0.080982</td>\n",
              "      <td>0.4487</td>\n",
              "      <td>0.099957</td>\n",
              "      <td>0.200057</td>\n",
              "      <td>2</td>\n",
              "    </tr>\n",
              "    <tr>\n",
              "      <th>2</th>\n",
              "      <td>8</td>\n",
              "      <td>704</td>\n",
              "      <td>0.473011</td>\n",
              "      <td>0.418635</td>\n",
              "      <td>333.0</td>\n",
              "      <td>1323.0</td>\n",
              "      <td>0.178170</td>\n",
              "      <td>0.707865</td>\n",
              "      <td>371.0</td>\n",
              "      <td>790.0</td>\n",
              "      <td>0.071705</td>\n",
              "      <td>0.152687</td>\n",
              "      <td>0.5552</td>\n",
              "      <td>0.099957</td>\n",
              "      <td>0.300014</td>\n",
              "      <td>3</td>\n",
              "    </tr>\n",
              "    <tr>\n",
              "      <th>3</th>\n",
              "      <td>7</td>\n",
              "      <td>704</td>\n",
              "      <td>0.313920</td>\n",
              "      <td>0.267497</td>\n",
              "      <td>221.0</td>\n",
              "      <td>1544.0</td>\n",
              "      <td>0.118245</td>\n",
              "      <td>0.826110</td>\n",
              "      <td>483.0</td>\n",
              "      <td>1273.0</td>\n",
              "      <td>0.093351</td>\n",
              "      <td>0.246038</td>\n",
              "      <td>0.5801</td>\n",
              "      <td>0.099957</td>\n",
              "      <td>0.399972</td>\n",
              "      <td>4</td>\n",
              "    </tr>\n",
              "    <tr>\n",
              "      <th>4</th>\n",
              "      <td>6</td>\n",
              "      <td>704</td>\n",
              "      <td>0.208807</td>\n",
              "      <td>0.182710</td>\n",
              "      <td>147.0</td>\n",
              "      <td>1691.0</td>\n",
              "      <td>0.078652</td>\n",
              "      <td>0.904762</td>\n",
              "      <td>557.0</td>\n",
              "      <td>1830.0</td>\n",
              "      <td>0.107654</td>\n",
              "      <td>0.353692</td>\n",
              "      <td>0.5511</td>\n",
              "      <td>0.099957</td>\n",
              "      <td>0.499929</td>\n",
              "      <td>5</td>\n",
              "    </tr>\n",
              "    <tr>\n",
              "      <th>5</th>\n",
              "      <td>5</td>\n",
              "      <td>705</td>\n",
              "      <td>0.124823</td>\n",
              "      <td>0.129678</td>\n",
              "      <td>88.0</td>\n",
              "      <td>1779.0</td>\n",
              "      <td>0.047084</td>\n",
              "      <td>0.951846</td>\n",
              "      <td>617.0</td>\n",
              "      <td>2447.0</td>\n",
              "      <td>0.119250</td>\n",
              "      <td>0.472942</td>\n",
              "      <td>0.4789</td>\n",
              "      <td>0.100099</td>\n",
              "      <td>0.600028</td>\n",
              "      <td>6</td>\n",
              "    </tr>\n",
              "    <tr>\n",
              "      <th>6</th>\n",
              "      <td>4</td>\n",
              "      <td>704</td>\n",
              "      <td>0.076705</td>\n",
              "      <td>0.097574</td>\n",
              "      <td>54.0</td>\n",
              "      <td>1833.0</td>\n",
              "      <td>0.028892</td>\n",
              "      <td>0.980738</td>\n",
              "      <td>650.0</td>\n",
              "      <td>3097.0</td>\n",
              "      <td>0.125628</td>\n",
              "      <td>0.598570</td>\n",
              "      <td>0.3822</td>\n",
              "      <td>0.099957</td>\n",
              "      <td>0.699986</td>\n",
              "      <td>7</td>\n",
              "    </tr>\n",
              "    <tr>\n",
              "      <th>7</th>\n",
              "      <td>3</td>\n",
              "      <td>704</td>\n",
              "      <td>0.036932</td>\n",
              "      <td>0.075471</td>\n",
              "      <td>26.0</td>\n",
              "      <td>1859.0</td>\n",
              "      <td>0.013911</td>\n",
              "      <td>0.994650</td>\n",
              "      <td>678.0</td>\n",
              "      <td>3775.0</td>\n",
              "      <td>0.131040</td>\n",
              "      <td>0.729610</td>\n",
              "      <td>0.2650</td>\n",
              "      <td>0.099957</td>\n",
              "      <td>0.799943</td>\n",
              "      <td>8</td>\n",
              "    </tr>\n",
              "    <tr>\n",
              "      <th>8</th>\n",
              "      <td>2</td>\n",
              "      <td>704</td>\n",
              "      <td>0.012784</td>\n",
              "      <td>0.060543</td>\n",
              "      <td>9.0</td>\n",
              "      <td>1868.0</td>\n",
              "      <td>0.004815</td>\n",
              "      <td>0.999465</td>\n",
              "      <td>695.0</td>\n",
              "      <td>4470.0</td>\n",
              "      <td>0.134325</td>\n",
              "      <td>0.863935</td>\n",
              "      <td>0.1355</td>\n",
              "      <td>0.099957</td>\n",
              "      <td>0.899901</td>\n",
              "      <td>9</td>\n",
              "    </tr>\n",
              "    <tr>\n",
              "      <th>9</th>\n",
              "      <td>1</td>\n",
              "      <td>705</td>\n",
              "      <td>0.001418</td>\n",
              "      <td>0.054294</td>\n",
              "      <td>1.0</td>\n",
              "      <td>1869.0</td>\n",
              "      <td>0.000535</td>\n",
              "      <td>1.000000</td>\n",
              "      <td>704.0</td>\n",
              "      <td>5174.0</td>\n",
              "      <td>0.136065</td>\n",
              "      <td>1.000000</td>\n",
              "      <td>0.0000</td>\n",
              "      <td>0.100099</td>\n",
              "      <td>1.000000</td>\n",
              "      <td>10</td>\n",
              "    </tr>\n",
              "  </tbody>\n",
              "</table>\n",
              "</div>"
            ],
            "text/plain": [
              "   P_Rank_stacking  count  Actutal_event_rate  Predicted_event_rate  N_events  \\\n",
              "0               10    705            0.801418              0.778403     565.0   \n",
              "1                9    704            0.603693              0.598533     425.0   \n",
              "2                8    704            0.473011              0.418635     333.0   \n",
              "3                7    704            0.313920              0.267497     221.0   \n",
              "4                6    704            0.208807              0.182710     147.0   \n",
              "5                5    705            0.124823              0.129678      88.0   \n",
              "6                4    704            0.076705              0.097574      54.0   \n",
              "7                3    704            0.036932              0.075471      26.0   \n",
              "8                2    704            0.012784              0.060543       9.0   \n",
              "9                1    705            0.001418              0.054294       1.0   \n",
              "\n",
              "   cum_events  event_cap  cum_event_cap  N_non_events  cum_non_events  \\\n",
              "0       565.0   0.302301       0.302301         140.0           140.0   \n",
              "1       990.0   0.227394       0.529695         279.0           419.0   \n",
              "2      1323.0   0.178170       0.707865         371.0           790.0   \n",
              "3      1544.0   0.118245       0.826110         483.0          1273.0   \n",
              "4      1691.0   0.078652       0.904762         557.0          1830.0   \n",
              "5      1779.0   0.047084       0.951846         617.0          2447.0   \n",
              "6      1833.0   0.028892       0.980738         650.0          3097.0   \n",
              "7      1859.0   0.013911       0.994650         678.0          3775.0   \n",
              "8      1868.0   0.004815       0.999465         695.0          4470.0   \n",
              "9      1869.0   0.000535       1.000000         704.0          5174.0   \n",
              "\n",
              "   non_event_cap  cum_non_event_cap      KS  random_cap  cum_random_cap  \\\n",
              "0       0.027058           0.027058  0.2752    0.100099        0.100099   \n",
              "1       0.053923           0.080982  0.4487    0.099957        0.200057   \n",
              "2       0.071705           0.152687  0.5552    0.099957        0.300014   \n",
              "3       0.093351           0.246038  0.5801    0.099957        0.399972   \n",
              "4       0.107654           0.353692  0.5511    0.099957        0.499929   \n",
              "5       0.119250           0.472942  0.4789    0.100099        0.600028   \n",
              "6       0.125628           0.598570  0.3822    0.099957        0.699986   \n",
              "7       0.131040           0.729610  0.2650    0.099957        0.799943   \n",
              "8       0.134325           0.863935  0.1355    0.099957        0.899901   \n",
              "9       0.136065           1.000000  0.0000    0.100099        1.000000   \n",
              "\n",
              "   Decile  \n",
              "0       1  \n",
              "1       2  \n",
              "2       3  \n",
              "3       4  \n",
              "4       5  \n",
              "5       6  \n",
              "6       7  \n",
              "7       8  \n",
              "8       9  \n",
              "9      10  "
            ]
          },
          "metadata": {},
          "execution_count": 85
        }
      ],
      "metadata": {
        "colab": {
          "base_uri": "https://localhost:8080/",
          "height": 379
        },
        "id": "XcacQmW3UYaF",
        "outputId": "68bf4ed8-ef71-4673-876e-d17d0a209359"
      }
    },
    {
      "cell_type": "code",
      "execution_count": 86,
      "source": [
        "ax = sns.lineplot( x=\"Decile\", y=\"cum_random_cap\", data=sorted_reindexed,color='red')\n",
        "ax = sns.lineplot( x=\"Decile\", y=\"cum_event_cap\", data=sorted_reindexed,color='grey')"
      ],
      "outputs": [
        {
          "output_type": "display_data",
          "data": {
            "image/png": "[encoded data removed]",
            "text/plain": [
              "<Figure size 432x288 with 1 Axes>"
            ]
          },
          "metadata": {
            "needs_background": "light"
          }
        }
      ],
      "metadata": {
        "colab": {
          "base_uri": "https://localhost:8080/",
          "height": 279
        },
        "id": "uFEzf_66rGFc",
        "outputId": "5178f0cb-815c-4dfc-b704-50db7b218dfd"
      }
    },
    {
      "cell_type": "code",
      "execution_count": 87,
      "source": [
        "# Project Conclusion :- \n",
        "# The GBM Model has performed the best and will be used for Customer targeting with Loan offers\n",
        "# Since Monthly Income and Existing EMI are the most important features for the GBM model\n",
        "# We will build a Business Value Metric based on Existing EMI/Monthly Income\n",
        "# Low Values of this ratio will indicate valueable customers\n",
        "# Within the High Value group, we can leverage the model to identify the best targets"
      ],
      "outputs": [],
      "metadata": {
        "id": "4cPnVI-rUYaF"
      }
    },
    {
      "cell_type": "code",
      "execution_count": 88,
      "source": [
        "df['Tenure_Rank']=pd.qcut(df['tenure'].rank(method='first').values,10,duplicates='drop').codes+1"
      ],
      "outputs": [],
      "metadata": {
        "id": "ti_xMMvdUYaG"
      }
    },
    {
      "cell_type": "code",
      "execution_count": 89,
      "source": [
        "df.groupby('Tenure_Rank')['tenure'].agg(['min','max','mean'])"
      ],
      "outputs": [
        {
          "output_type": "execute_result",
          "data": {
            "text/html": [
              "<div>\n",
              "<style scoped>\n",
              "    .dataframe tbody tr th:only-of-type {\n",
              "        vertical-align: middle;\n",
              "    }\n",
              "\n",
              "    .dataframe tbody tr th {\n",
              "        vertical-align: top;\n",
              "    }\n",
              "\n",
              "    .dataframe thead th {\n",
              "        text-align: right;\n",
              "    }\n",
              "</style>\n",
              "<table border=\"1\" class=\"dataframe\">\n",
              "  <thead>\n",
              "    <tr style=\"text-align: right;\">\n",
              "      <th></th>\n",
              "      <th>min</th>\n",
              "      <th>max</th>\n",
              "      <th>mean</th>\n",
              "    </tr>\n",
              "    <tr>\n",
              "      <th>Tenure_Rank</th>\n",
              "      <th></th>\n",
              "      <th></th>\n",
              "      <th></th>\n",
              "    </tr>\n",
              "  </thead>\n",
              "  <tbody>\n",
              "    <tr>\n",
              "      <th>1</th>\n",
              "      <td>0</td>\n",
              "      <td>2</td>\n",
              "      <td>1.099291</td>\n",
              "    </tr>\n",
              "    <tr>\n",
              "      <th>2</th>\n",
              "      <td>2</td>\n",
              "      <td>6</td>\n",
              "      <td>3.566761</td>\n",
              "    </tr>\n",
              "    <tr>\n",
              "      <th>3</th>\n",
              "      <td>6</td>\n",
              "      <td>12</td>\n",
              "      <td>8.779830</td>\n",
              "    </tr>\n",
              "    <tr>\n",
              "      <th>4</th>\n",
              "      <td>12</td>\n",
              "      <td>20</td>\n",
              "      <td>15.531250</td>\n",
              "    </tr>\n",
              "    <tr>\n",
              "      <th>5</th>\n",
              "      <td>20</td>\n",
              "      <td>29</td>\n",
              "      <td>24.153191</td>\n",
              "    </tr>\n",
              "    <tr>\n",
              "      <th>6</th>\n",
              "      <td>29</td>\n",
              "      <td>40</td>\n",
              "      <td>34.004261</td>\n",
              "    </tr>\n",
              "    <tr>\n",
              "      <th>7</th>\n",
              "      <td>40</td>\n",
              "      <td>50</td>\n",
              "      <td>45.014205</td>\n",
              "    </tr>\n",
              "    <tr>\n",
              "      <th>8</th>\n",
              "      <td>50</td>\n",
              "      <td>60</td>\n",
              "      <td>55.370739</td>\n",
              "    </tr>\n",
              "    <tr>\n",
              "      <th>9</th>\n",
              "      <td>60</td>\n",
              "      <td>69</td>\n",
              "      <td>65.001420</td>\n",
              "    </tr>\n",
              "    <tr>\n",
              "      <th>10</th>\n",
              "      <td>69</td>\n",
              "      <td>72</td>\n",
              "      <td>71.191489</td>\n",
              "    </tr>\n",
              "  </tbody>\n",
              "</table>\n",
              "</div>"
            ],
            "text/plain": [
              "             min  max       mean\n",
              "Tenure_Rank                     \n",
              "1              0    2   1.099291\n",
              "2              2    6   3.566761\n",
              "3              6   12   8.779830\n",
              "4             12   20  15.531250\n",
              "5             20   29  24.153191\n",
              "6             29   40  34.004261\n",
              "7             40   50  45.014205\n",
              "8             50   60  55.370739\n",
              "9             60   69  65.001420\n",
              "10            69   72  71.191489"
            ]
          },
          "metadata": {},
          "execution_count": 89
        }
      ],
      "metadata": {
        "scrolled": false,
        "colab": {
          "base_uri": "https://localhost:8080/",
          "height": 390
        },
        "id": "mS0DVVJfUYaG",
        "outputId": "1c232fd5-1ae6-44f1-a2f9-7909e8ee85df"
      }
    },
    {
      "cell_type": "code",
      "execution_count": 90,
      "source": [
        "df['tenure'].mean()"
      ],
      "outputs": [
        {
          "output_type": "execute_result",
          "data": {
            "text/plain": [
              "32.37114865824223"
            ]
          },
          "metadata": {},
          "execution_count": 90
        }
      ],
      "metadata": {
        "colab": {
          "base_uri": "https://localhost:8080/"
        },
        "id": "ez8WDKbKUYaG",
        "outputId": "1586a0c7-0663-4a59-aca1-5963e584fd30"
      }
    },
    {
      "cell_type": "code",
      "execution_count": 91,
      "source": [
        "df['Tenure_Segment']=np.where(df['Tenure_Rank']<=6,\"Low Tenure\",\"High Tenure\")"
      ],
      "outputs": [],
      "metadata": {
        "id": "DIDCySDRUYaH"
      }
    },
    {
      "cell_type": "code",
      "execution_count": 92,
      "source": [
        "df['MonthlyCharges_Rank']=pd.qcut(df['MonthlyCharges'].rank(method='first').values,10,duplicates='drop').codes+1"
      ],
      "outputs": [],
      "metadata": {
        "id": "NRpeGZLGUYaH"
      }
    },
    {
      "cell_type": "code",
      "execution_count": 93,
      "source": [
        "df.groupby('MonthlyCharges_Rank')['MonthlyCharges'].agg(['min','max','mean'])"
      ],
      "outputs": [
        {
          "output_type": "execute_result",
          "data": {
            "text/html": [
              "<div>\n",
              "<style scoped>\n",
              "    .dataframe tbody tr th:only-of-type {\n",
              "        vertical-align: middle;\n",
              "    }\n",
              "\n",
              "    .dataframe tbody tr th {\n",
              "        vertical-align: top;\n",
              "    }\n",
              "\n",
              "    .dataframe thead th {\n",
              "        text-align: right;\n",
              "    }\n",
              "</style>\n",
              "<table border=\"1\" class=\"dataframe\">\n",
              "  <thead>\n",
              "    <tr style=\"text-align: right;\">\n",
              "      <th></th>\n",
              "      <th>min</th>\n",
              "      <th>max</th>\n",
              "      <th>mean</th>\n",
              "    </tr>\n",
              "    <tr>\n",
              "      <th>MonthlyCharges_Rank</th>\n",
              "      <th></th>\n",
              "      <th></th>\n",
              "      <th></th>\n",
              "    </tr>\n",
              "  </thead>\n",
              "  <tbody>\n",
              "    <tr>\n",
              "      <th>1</th>\n",
              "      <td>18.25</td>\n",
              "      <td>20.05</td>\n",
              "      <td>19.622482</td>\n",
              "    </tr>\n",
              "    <tr>\n",
              "      <th>2</th>\n",
              "      <td>20.05</td>\n",
              "      <td>25.05</td>\n",
              "      <td>21.732599</td>\n",
              "    </tr>\n",
              "    <tr>\n",
              "      <th>3</th>\n",
              "      <td>25.05</td>\n",
              "      <td>45.85</td>\n",
              "      <td>35.514773</td>\n",
              "    </tr>\n",
              "    <tr>\n",
              "      <th>4</th>\n",
              "      <td>45.85</td>\n",
              "      <td>58.75</td>\n",
              "      <td>52.532244</td>\n",
              "    </tr>\n",
              "    <tr>\n",
              "      <th>5</th>\n",
              "      <td>58.85</td>\n",
              "      <td>70.35</td>\n",
              "      <td>65.314965</td>\n",
              "    </tr>\n",
              "    <tr>\n",
              "      <th>6</th>\n",
              "      <td>70.35</td>\n",
              "      <td>79.10</td>\n",
              "      <td>74.623864</td>\n",
              "    </tr>\n",
              "    <tr>\n",
              "      <th>7</th>\n",
              "      <td>79.10</td>\n",
              "      <td>85.50</td>\n",
              "      <td>82.140057</td>\n",
              "    </tr>\n",
              "    <tr>\n",
              "      <th>8</th>\n",
              "      <td>85.50</td>\n",
              "      <td>94.25</td>\n",
              "      <td>89.840199</td>\n",
              "    </tr>\n",
              "    <tr>\n",
              "      <th>9</th>\n",
              "      <td>94.25</td>\n",
              "      <td>102.60</td>\n",
              "      <td>98.036364</td>\n",
              "    </tr>\n",
              "    <tr>\n",
              "      <th>10</th>\n",
              "      <td>102.60</td>\n",
              "      <td>118.75</td>\n",
              "      <td>108.260922</td>\n",
              "    </tr>\n",
              "  </tbody>\n",
              "</table>\n",
              "</div>"
            ],
            "text/plain": [
              "                        min     max        mean\n",
              "MonthlyCharges_Rank                            \n",
              "1                     18.25   20.05   19.622482\n",
              "2                     20.05   25.05   21.732599\n",
              "3                     25.05   45.85   35.514773\n",
              "4                     45.85   58.75   52.532244\n",
              "5                     58.85   70.35   65.314965\n",
              "6                     70.35   79.10   74.623864\n",
              "7                     79.10   85.50   82.140057\n",
              "8                     85.50   94.25   89.840199\n",
              "9                     94.25  102.60   98.036364\n",
              "10                   102.60  118.75  108.260922"
            ]
          },
          "metadata": {},
          "execution_count": 93
        }
      ],
      "metadata": {
        "scrolled": true,
        "colab": {
          "base_uri": "https://localhost:8080/",
          "height": 390
        },
        "id": "X9TNkkIjUYaH",
        "outputId": "ad5234df-1380-4958-a95c-db71235e5236"
      }
    },
    {
      "cell_type": "code",
      "execution_count": 94,
      "source": [
        "df['MonthlyCharges'].mean()"
      ],
      "outputs": [
        {
          "output_type": "execute_result",
          "data": {
            "text/plain": [
              "64.76169246059922"
            ]
          },
          "metadata": {},
          "execution_count": 94
        }
      ],
      "metadata": {
        "colab": {
          "base_uri": "https://localhost:8080/"
        },
        "id": "vrtNgugZUYaI",
        "outputId": "bbca3d75-9c0f-42eb-9ae6-7dc941d0ca39"
      }
    },
    {
      "cell_type": "code",
      "execution_count": 95,
      "source": [
        "df['Monthly_Charge_Segment']=np.where(df['MonthlyCharges_Rank']<=5,\"Low Charges\",\"High Charges\")"
      ],
      "outputs": [],
      "metadata": {
        "id": "NFqTQbO_UYaJ"
      }
    },
    {
      "cell_type": "code",
      "execution_count": 96,
      "source": [
        "df['Predicted_Churn_Rank']=np.where(df['P_Rank_GBM']>=8,\"Top 3\",\"Bottom 7\")"
      ],
      "outputs": [],
      "metadata": {
        "id": "5cETZaYOUYaJ"
      }
    },
    {
      "cell_type": "markdown",
      "source": [
        "*italicised text*# Slice the data with respect to Top 3  Ranks from the GBM Model output"
      ],
      "metadata": {
        "id": "K-yg_2yAUYaK"
      }
    },
    {
      "cell_type": "code",
      "execution_count": 97,
      "source": [
        "df_top3=df.loc[df['Predicted_Churn_Rank']=='Top 3',:]"
      ],
      "outputs": [],
      "metadata": {
        "id": "GZ97d4rvUYaK"
      }
    },
    {
      "cell_type": "code",
      "execution_count": 98,
      "source": [
        "service_list=['PhoneService','MultipleLines','InternetService','OnlineSecurity','OnlineBackup','DeviceProtection','TechSupport'\n",
        "              ,'StreamingTV','StreamingMovies','Contract','PaperlessBilling']\n",
        "# target=['target']\n",
        "\n",
        "# total=service_list+target"
      ],
      "outputs": [],
      "metadata": {
        "id": "L005l_dmUYaK"
      }
    },
    {
      "cell_type": "code",
      "execution_count": 99,
      "source": [
        "df_top3_services=df_top3[service_list]"
      ],
      "outputs": [],
      "metadata": {
        "id": "nnjybaBsUYaK"
      }
    },
    {
      "cell_type": "code",
      "execution_count": 100,
      "source": [
        "for col in (df_top3_services.columns):\n",
        "    plt.figure()\n",
        "    sns.countplot(x=col,data=df_top3_services)\n",
        "plt.show()"
      ],
      "outputs": [
        {
          "output_type": "display_data",
          "data": {
            "image/png": "[encoded data removed]",
            "text/plain": [
              "<Figure size 432x288 with 1 Axes>"
            ]
          },
          "metadata": {
            "needs_background": "light"
          }
        },
        {
          "output_type": "display_data",
          "data": {
            "image/png": "[encoded data removed]",
            "text/plain": [
              "<Figure size 432x288 with 1 Axes>"
            ]
          },
          "metadata": {
            "needs_background": "light"
          }
        },
        {
          "output_type": "display_data",
          "data": {
            "image/png": "[encoded data removed]",
            "text/plain": [
              "<Figure size 432x288 with 1 Axes>"
            ]
          },
          "metadata": {
            "needs_background": "light"
          }
        },
        {
          "output_type": "display_data",
          "data": {
            "image/png": "[encoded data removed]",
            "text/plain": [
              "<Figure size 432x288 with 1 Axes>"
            ]
          },
          "metadata": {
            "needs_background": "light"
          }
        },
        {
          "output_type": "display_data",
          "data": {
            "image/png": "[encoded data removed]",
            "text/plain": [
              "<Figure size 432x288 with 1 Axes>"
            ]
          },
          "metadata": {
            "needs_background": "light"
          }
        },
        {
          "output_type": "display_data",
          "data": {
            "image/png": "[encoded data removed]",
            "text/plain": [
              "<Figure size 432x288 with 1 Axes>"
            ]
          },
          "metadata": {
            "needs_background": "light"
          }
        },
        {
          "output_type": "display_data",
          "data": {
            "image/png": "[encoded data removed]",
            "text/plain": [
              "<Figure size 432x288 with 1 Axes>"
            ]
          },
          "metadata": {
            "needs_background": "light"
          }
        },
        {
          "output_type": "display_data",
          "data": {
            "image/png": "[encoded data removed]",
            "text/plain": [
              "<Figure size 432x288 with 1 Axes>"
            ]
          },
          "metadata": {
            "needs_background": "light"
          }
        },
        {
          "output_type": "display_data",
          "data": {
            "image/png": "[encoded data removed]",
            "text/plain": [
              "<Figure size 432x288 with 1 Axes>"
            ]
          },
          "metadata": {
            "needs_background": "light"
          }
        },
        {
          "output_type": "display_data",
          "data": {
            "image/png": "[encoded data removed]",
            "text/plain": [
              "<Figure size 432x288 with 1 Axes>"
            ]
          },
          "metadata": {
            "needs_background": "light"
          }
        },
        {
          "output_type": "display_data",
          "data": {
            "image/png": "[encoded data removed]",
            "text/plain": [
              "<Figure size 432x288 with 1 Axes>"
            ]
          },
          "metadata": {
            "needs_background": "light"
          }
        }
      ],
      "metadata": {
        "scrolled": false,
        "colab": {
          "base_uri": "https://localhost:8080/",
          "height": 1000
        },
        "id": "UOeb6KWpUYaL",
        "outputId": "0388395d-97af-4bb7-87d3-f1edf1cdd9dc"
      }
    },
    {
      "cell_type": "code",
      "execution_count": 101,
      "source": [
        "pd.crosstab(index=df_top3['Monthly_Charge_Segment'], columns=df_top3['Tenure_Segment'],values=df_top3['MonthlyCharges'],aggfunc='mean')"
      ],
      "outputs": [
        {
          "output_type": "execute_result",
          "data": {
            "text/html": [
              "<div>\n",
              "<style scoped>\n",
              "    .dataframe tbody tr th:only-of-type {\n",
              "        vertical-align: middle;\n",
              "    }\n",
              "\n",
              "    .dataframe tbody tr th {\n",
              "        vertical-align: top;\n",
              "    }\n",
              "\n",
              "    .dataframe thead th {\n",
              "        text-align: right;\n",
              "    }\n",
              "</style>\n",
              "<table border=\"1\" class=\"dataframe\">\n",
              "  <thead>\n",
              "    <tr style=\"text-align: right;\">\n",
              "      <th>Tenure_Segment</th>\n",
              "      <th>High Tenure</th>\n",
              "      <th>Low Tenure</th>\n",
              "    </tr>\n",
              "    <tr>\n",
              "      <th>Monthly_Charge_Segment</th>\n",
              "      <th></th>\n",
              "      <th></th>\n",
              "    </tr>\n",
              "  </thead>\n",
              "  <tbody>\n",
              "    <tr>\n",
              "      <th>High Charges</th>\n",
              "      <td>99.889737</td>\n",
              "      <td>86.625057</td>\n",
              "    </tr>\n",
              "    <tr>\n",
              "      <th>Low Charges</th>\n",
              "      <td>44.785714</td>\n",
              "      <td>48.050422</td>\n",
              "    </tr>\n",
              "  </tbody>\n",
              "</table>\n",
              "</div>"
            ],
            "text/plain": [
              "Tenure_Segment          High Tenure  Low Tenure\n",
              "Monthly_Charge_Segment                         \n",
              "High Charges              99.889737   86.625057\n",
              "Low Charges               44.785714   48.050422"
            ]
          },
          "metadata": {},
          "execution_count": 101
        }
      ],
      "metadata": {
        "colab": {
          "base_uri": "https://localhost:8080/",
          "height": 142
        },
        "id": "oNEMuLoJUYaL",
        "outputId": "11e36f23-6ea7-491d-d6f9-a652cd2827c9"
      }
    },
    {
      "cell_type": "code",
      "execution_count": 102,
      "source": [
        "pd.crosstab(index=df_top3['Monthly_Charge_Segment'], columns=df_top3['Tenure_Segment'],values=df_top3['target'],aggfunc='count')"
      ],
      "outputs": [
        {
          "output_type": "execute_result",
          "data": {
            "text/html": [
              "<div>\n",
              "<style scoped>\n",
              "    .dataframe tbody tr th:only-of-type {\n",
              "        vertical-align: middle;\n",
              "    }\n",
              "\n",
              "    .dataframe tbody tr th {\n",
              "        vertical-align: top;\n",
              "    }\n",
              "\n",
              "    .dataframe thead th {\n",
              "        text-align: right;\n",
              "    }\n",
              "</style>\n",
              "<table border=\"1\" class=\"dataframe\">\n",
              "  <thead>\n",
              "    <tr style=\"text-align: right;\">\n",
              "      <th>Tenure_Segment</th>\n",
              "      <th>High Tenure</th>\n",
              "      <th>Low Tenure</th>\n",
              "    </tr>\n",
              "    <tr>\n",
              "      <th>Monthly_Charge_Segment</th>\n",
              "      <th></th>\n",
              "      <th></th>\n",
              "    </tr>\n",
              "  </thead>\n",
              "  <tbody>\n",
              "    <tr>\n",
              "      <th>High Charges</th>\n",
              "      <td>190</td>\n",
              "      <td>1317</td>\n",
              "    </tr>\n",
              "    <tr>\n",
              "      <th>Low Charges</th>\n",
              "      <td>14</td>\n",
              "      <td>592</td>\n",
              "    </tr>\n",
              "  </tbody>\n",
              "</table>\n",
              "</div>"
            ],
            "text/plain": [
              "Tenure_Segment          High Tenure  Low Tenure\n",
              "Monthly_Charge_Segment                         \n",
              "High Charges                    190        1317\n",
              "Low Charges                      14         592"
            ]
          },
          "metadata": {},
          "execution_count": 102
        }
      ],
      "metadata": {
        "colab": {
          "base_uri": "https://localhost:8080/",
          "height": 142
        },
        "id": "Ut8H3E3VUYaL",
        "outputId": "675543ab-fb13-4e50-b42e-b4c305f449d4"
      }
    },
    {
      "cell_type": "code",
      "execution_count": 103,
      "source": [
        "# Recommendations:\n",
        "# 1.  Device Protection with Online Services\n",
        "# 2. Convert customer to DSL if they are facing challenges with Fiber Optics\n",
        "# 3. Offer discounts on Yearly contracts"
      ],
      "outputs": [],
      "metadata": {
        "id": "4rjymowUUYaM"
      }
    }
  ]
}